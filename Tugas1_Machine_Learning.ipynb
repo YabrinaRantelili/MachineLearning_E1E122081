{
  "nbformat": 4,
  "nbformat_minor": 0,
  "metadata": {
    "colab": {
      "provenance": [],
      "authorship_tag": "ABX9TyM+MvOh/+RKMY6Q9cQe/kRr",
      "include_colab_link": true
    },
    "kernelspec": {
      "name": "python3",
      "display_name": "Python 3"
    },
    "language_info": {
      "name": "python"
    }
  },
  "cells": [
    {
      "cell_type": "markdown",
      "metadata": {
        "id": "view-in-github",
        "colab_type": "text"
      },
      "source": [
        "<a href=\"https://colab.research.google.com/github/YabrinaRantelili/MachineLearning_E1E122081/blob/main/Tugas1_Machine_Learning.ipynb\" target=\"_parent\"><img src=\"https://colab.research.google.com/assets/colab-badge.svg\" alt=\"Open In Colab\"/></a>"
      ]
    },
    {
      "cell_type": "code",
      "execution_count": 2,
      "metadata": {
        "id": "iJpldnFZspgr"
      },
      "outputs": [],
      "source": [
        "import pandas as pd\n",
        "bill = pd.read_csv('/content/bill_authentication.csv')"
      ]
    },
    {
      "cell_type": "code",
      "source": [
        "bill.head(10)"
      ],
      "metadata": {
        "colab": {
          "base_uri": "https://localhost:8080/",
          "height": 363
        },
        "id": "MMvurTDewfgK",
        "outputId": "fc06235e-98c6-4502-fd92-67eea21bf304"
      },
      "execution_count": 3,
      "outputs": [
        {
          "output_type": "execute_result",
          "data": {
            "text/plain": [
              "   Variance  Skewness  Curtosis  Entropy  Class\n",
              "0   3.62160    8.6661  -2.80730 -0.44699      0\n",
              "1   4.54590    8.1674  -2.45860 -1.46210      0\n",
              "2   3.86600   -2.6383   1.92420  0.10645      0\n",
              "3   3.45660    9.5228  -4.01120 -3.59440      0\n",
              "4   0.32924   -4.4552   4.57180 -0.98880      0\n",
              "5   4.36840    9.6718  -3.96060 -3.16250      0\n",
              "6   3.59120    3.0129   0.72888  0.56421      0\n",
              "7   2.09220   -6.8100   8.46360 -0.60216      0\n",
              "8   3.20320    5.7588  -0.75345 -0.61251      0\n",
              "9   1.53560    9.1772  -2.27180 -0.73535      0"
            ],
            "text/html": [
              "\n",
              "  <div id=\"df-2d61fb9d-d885-430a-a4ae-bba09e7bf936\" class=\"colab-df-container\">\n",
              "    <div>\n",
              "<style scoped>\n",
              "    .dataframe tbody tr th:only-of-type {\n",
              "        vertical-align: middle;\n",
              "    }\n",
              "\n",
              "    .dataframe tbody tr th {\n",
              "        vertical-align: top;\n",
              "    }\n",
              "\n",
              "    .dataframe thead th {\n",
              "        text-align: right;\n",
              "    }\n",
              "</style>\n",
              "<table border=\"1\" class=\"dataframe\">\n",
              "  <thead>\n",
              "    <tr style=\"text-align: right;\">\n",
              "      <th></th>\n",
              "      <th>Variance</th>\n",
              "      <th>Skewness</th>\n",
              "      <th>Curtosis</th>\n",
              "      <th>Entropy</th>\n",
              "      <th>Class</th>\n",
              "    </tr>\n",
              "  </thead>\n",
              "  <tbody>\n",
              "    <tr>\n",
              "      <th>0</th>\n",
              "      <td>3.62160</td>\n",
              "      <td>8.6661</td>\n",
              "      <td>-2.80730</td>\n",
              "      <td>-0.44699</td>\n",
              "      <td>0</td>\n",
              "    </tr>\n",
              "    <tr>\n",
              "      <th>1</th>\n",
              "      <td>4.54590</td>\n",
              "      <td>8.1674</td>\n",
              "      <td>-2.45860</td>\n",
              "      <td>-1.46210</td>\n",
              "      <td>0</td>\n",
              "    </tr>\n",
              "    <tr>\n",
              "      <th>2</th>\n",
              "      <td>3.86600</td>\n",
              "      <td>-2.6383</td>\n",
              "      <td>1.92420</td>\n",
              "      <td>0.10645</td>\n",
              "      <td>0</td>\n",
              "    </tr>\n",
              "    <tr>\n",
              "      <th>3</th>\n",
              "      <td>3.45660</td>\n",
              "      <td>9.5228</td>\n",
              "      <td>-4.01120</td>\n",
              "      <td>-3.59440</td>\n",
              "      <td>0</td>\n",
              "    </tr>\n",
              "    <tr>\n",
              "      <th>4</th>\n",
              "      <td>0.32924</td>\n",
              "      <td>-4.4552</td>\n",
              "      <td>4.57180</td>\n",
              "      <td>-0.98880</td>\n",
              "      <td>0</td>\n",
              "    </tr>\n",
              "    <tr>\n",
              "      <th>5</th>\n",
              "      <td>4.36840</td>\n",
              "      <td>9.6718</td>\n",
              "      <td>-3.96060</td>\n",
              "      <td>-3.16250</td>\n",
              "      <td>0</td>\n",
              "    </tr>\n",
              "    <tr>\n",
              "      <th>6</th>\n",
              "      <td>3.59120</td>\n",
              "      <td>3.0129</td>\n",
              "      <td>0.72888</td>\n",
              "      <td>0.56421</td>\n",
              "      <td>0</td>\n",
              "    </tr>\n",
              "    <tr>\n",
              "      <th>7</th>\n",
              "      <td>2.09220</td>\n",
              "      <td>-6.8100</td>\n",
              "      <td>8.46360</td>\n",
              "      <td>-0.60216</td>\n",
              "      <td>0</td>\n",
              "    </tr>\n",
              "    <tr>\n",
              "      <th>8</th>\n",
              "      <td>3.20320</td>\n",
              "      <td>5.7588</td>\n",
              "      <td>-0.75345</td>\n",
              "      <td>-0.61251</td>\n",
              "      <td>0</td>\n",
              "    </tr>\n",
              "    <tr>\n",
              "      <th>9</th>\n",
              "      <td>1.53560</td>\n",
              "      <td>9.1772</td>\n",
              "      <td>-2.27180</td>\n",
              "      <td>-0.73535</td>\n",
              "      <td>0</td>\n",
              "    </tr>\n",
              "  </tbody>\n",
              "</table>\n",
              "</div>\n",
              "    <div class=\"colab-df-buttons\">\n",
              "\n",
              "  <div class=\"colab-df-container\">\n",
              "    <button class=\"colab-df-convert\" onclick=\"convertToInteractive('df-2d61fb9d-d885-430a-a4ae-bba09e7bf936')\"\n",
              "            title=\"Convert this dataframe to an interactive table.\"\n",
              "            style=\"display:none;\">\n",
              "\n",
              "  <svg xmlns=\"http://www.w3.org/2000/svg\" height=\"24px\" viewBox=\"0 -960 960 960\">\n",
              "    <path d=\"M120-120v-720h720v720H120Zm60-500h600v-160H180v160Zm220 220h160v-160H400v160Zm0 220h160v-160H400v160ZM180-400h160v-160H180v160Zm440 0h160v-160H620v160ZM180-180h160v-160H180v160Zm440 0h160v-160H620v160Z\"/>\n",
              "  </svg>\n",
              "    </button>\n",
              "\n",
              "  <style>\n",
              "    .colab-df-container {\n",
              "      display:flex;\n",
              "      gap: 12px;\n",
              "    }\n",
              "\n",
              "    .colab-df-convert {\n",
              "      background-color: #E8F0FE;\n",
              "      border: none;\n",
              "      border-radius: 50%;\n",
              "      cursor: pointer;\n",
              "      display: none;\n",
              "      fill: #1967D2;\n",
              "      height: 32px;\n",
              "      padding: 0 0 0 0;\n",
              "      width: 32px;\n",
              "    }\n",
              "\n",
              "    .colab-df-convert:hover {\n",
              "      background-color: #E2EBFA;\n",
              "      box-shadow: 0px 1px 2px rgba(60, 64, 67, 0.3), 0px 1px 3px 1px rgba(60, 64, 67, 0.15);\n",
              "      fill: #174EA6;\n",
              "    }\n",
              "\n",
              "    .colab-df-buttons div {\n",
              "      margin-bottom: 4px;\n",
              "    }\n",
              "\n",
              "    [theme=dark] .colab-df-convert {\n",
              "      background-color: #3B4455;\n",
              "      fill: #D2E3FC;\n",
              "    }\n",
              "\n",
              "    [theme=dark] .colab-df-convert:hover {\n",
              "      background-color: #434B5C;\n",
              "      box-shadow: 0px 1px 3px 1px rgba(0, 0, 0, 0.15);\n",
              "      filter: drop-shadow(0px 1px 2px rgba(0, 0, 0, 0.3));\n",
              "      fill: #FFFFFF;\n",
              "    }\n",
              "  </style>\n",
              "\n",
              "    <script>\n",
              "      const buttonEl =\n",
              "        document.querySelector('#df-2d61fb9d-d885-430a-a4ae-bba09e7bf936 button.colab-df-convert');\n",
              "      buttonEl.style.display =\n",
              "        google.colab.kernel.accessAllowed ? 'block' : 'none';\n",
              "\n",
              "      async function convertToInteractive(key) {\n",
              "        const element = document.querySelector('#df-2d61fb9d-d885-430a-a4ae-bba09e7bf936');\n",
              "        const dataTable =\n",
              "          await google.colab.kernel.invokeFunction('convertToInteractive',\n",
              "                                                    [key], {});\n",
              "        if (!dataTable) return;\n",
              "\n",
              "        const docLinkHtml = 'Like what you see? Visit the ' +\n",
              "          '<a target=\"_blank\" href=https://colab.research.google.com/notebooks/data_table.ipynb>data table notebook</a>'\n",
              "          + ' to learn more about interactive tables.';\n",
              "        element.innerHTML = '';\n",
              "        dataTable['output_type'] = 'display_data';\n",
              "        await google.colab.output.renderOutput(dataTable, element);\n",
              "        const docLink = document.createElement('div');\n",
              "        docLink.innerHTML = docLinkHtml;\n",
              "        element.appendChild(docLink);\n",
              "      }\n",
              "    </script>\n",
              "  </div>\n",
              "\n",
              "\n",
              "<div id=\"df-4bb26299-97bc-4f10-9b1b-21f05c57b5b6\">\n",
              "  <button class=\"colab-df-quickchart\" onclick=\"quickchart('df-4bb26299-97bc-4f10-9b1b-21f05c57b5b6')\"\n",
              "            title=\"Suggest charts\"\n",
              "            style=\"display:none;\">\n",
              "\n",
              "<svg xmlns=\"http://www.w3.org/2000/svg\" height=\"24px\"viewBox=\"0 0 24 24\"\n",
              "     width=\"24px\">\n",
              "    <g>\n",
              "        <path d=\"M19 3H5c-1.1 0-2 .9-2 2v14c0 1.1.9 2 2 2h14c1.1 0 2-.9 2-2V5c0-1.1-.9-2-2-2zM9 17H7v-7h2v7zm4 0h-2V7h2v10zm4 0h-2v-4h2v4z\"/>\n",
              "    </g>\n",
              "</svg>\n",
              "  </button>\n",
              "\n",
              "<style>\n",
              "  .colab-df-quickchart {\n",
              "      --bg-color: #E8F0FE;\n",
              "      --fill-color: #1967D2;\n",
              "      --hover-bg-color: #E2EBFA;\n",
              "      --hover-fill-color: #174EA6;\n",
              "      --disabled-fill-color: #AAA;\n",
              "      --disabled-bg-color: #DDD;\n",
              "  }\n",
              "\n",
              "  [theme=dark] .colab-df-quickchart {\n",
              "      --bg-color: #3B4455;\n",
              "      --fill-color: #D2E3FC;\n",
              "      --hover-bg-color: #434B5C;\n",
              "      --hover-fill-color: #FFFFFF;\n",
              "      --disabled-bg-color: #3B4455;\n",
              "      --disabled-fill-color: #666;\n",
              "  }\n",
              "\n",
              "  .colab-df-quickchart {\n",
              "    background-color: var(--bg-color);\n",
              "    border: none;\n",
              "    border-radius: 50%;\n",
              "    cursor: pointer;\n",
              "    display: none;\n",
              "    fill: var(--fill-color);\n",
              "    height: 32px;\n",
              "    padding: 0;\n",
              "    width: 32px;\n",
              "  }\n",
              "\n",
              "  .colab-df-quickchart:hover {\n",
              "    background-color: var(--hover-bg-color);\n",
              "    box-shadow: 0 1px 2px rgba(60, 64, 67, 0.3), 0 1px 3px 1px rgba(60, 64, 67, 0.15);\n",
              "    fill: var(--button-hover-fill-color);\n",
              "  }\n",
              "\n",
              "  .colab-df-quickchart-complete:disabled,\n",
              "  .colab-df-quickchart-complete:disabled:hover {\n",
              "    background-color: var(--disabled-bg-color);\n",
              "    fill: var(--disabled-fill-color);\n",
              "    box-shadow: none;\n",
              "  }\n",
              "\n",
              "  .colab-df-spinner {\n",
              "    border: 2px solid var(--fill-color);\n",
              "    border-color: transparent;\n",
              "    border-bottom-color: var(--fill-color);\n",
              "    animation:\n",
              "      spin 1s steps(1) infinite;\n",
              "  }\n",
              "\n",
              "  @keyframes spin {\n",
              "    0% {\n",
              "      border-color: transparent;\n",
              "      border-bottom-color: var(--fill-color);\n",
              "      border-left-color: var(--fill-color);\n",
              "    }\n",
              "    20% {\n",
              "      border-color: transparent;\n",
              "      border-left-color: var(--fill-color);\n",
              "      border-top-color: var(--fill-color);\n",
              "    }\n",
              "    30% {\n",
              "      border-color: transparent;\n",
              "      border-left-color: var(--fill-color);\n",
              "      border-top-color: var(--fill-color);\n",
              "      border-right-color: var(--fill-color);\n",
              "    }\n",
              "    40% {\n",
              "      border-color: transparent;\n",
              "      border-right-color: var(--fill-color);\n",
              "      border-top-color: var(--fill-color);\n",
              "    }\n",
              "    60% {\n",
              "      border-color: transparent;\n",
              "      border-right-color: var(--fill-color);\n",
              "    }\n",
              "    80% {\n",
              "      border-color: transparent;\n",
              "      border-right-color: var(--fill-color);\n",
              "      border-bottom-color: var(--fill-color);\n",
              "    }\n",
              "    90% {\n",
              "      border-color: transparent;\n",
              "      border-bottom-color: var(--fill-color);\n",
              "    }\n",
              "  }\n",
              "</style>\n",
              "\n",
              "  <script>\n",
              "    async function quickchart(key) {\n",
              "      const quickchartButtonEl =\n",
              "        document.querySelector('#' + key + ' button');\n",
              "      quickchartButtonEl.disabled = true;  // To prevent multiple clicks.\n",
              "      quickchartButtonEl.classList.add('colab-df-spinner');\n",
              "      try {\n",
              "        const charts = await google.colab.kernel.invokeFunction(\n",
              "            'suggestCharts', [key], {});\n",
              "      } catch (error) {\n",
              "        console.error('Error during call to suggestCharts:', error);\n",
              "      }\n",
              "      quickchartButtonEl.classList.remove('colab-df-spinner');\n",
              "      quickchartButtonEl.classList.add('colab-df-quickchart-complete');\n",
              "    }\n",
              "    (() => {\n",
              "      let quickchartButtonEl =\n",
              "        document.querySelector('#df-4bb26299-97bc-4f10-9b1b-21f05c57b5b6 button');\n",
              "      quickchartButtonEl.style.display =\n",
              "        google.colab.kernel.accessAllowed ? 'block' : 'none';\n",
              "    })();\n",
              "  </script>\n",
              "</div>\n",
              "    </div>\n",
              "  </div>\n"
            ],
            "application/vnd.google.colaboratory.intrinsic+json": {
              "type": "dataframe",
              "variable_name": "bill",
              "summary": "{\n  \"name\": \"bill\",\n  \"rows\": 1372,\n  \"fields\": [\n    {\n      \"column\": \"Variance\",\n      \"properties\": {\n        \"dtype\": \"number\",\n        \"std\": 2.8427625862785617,\n        \"min\": -7.0421,\n        \"max\": 6.8248,\n        \"num_unique_values\": 1338,\n        \"samples\": [\n          -2.286,\n          -0.539,\n          0.89512\n        ],\n        \"semantic_type\": \"\",\n        \"description\": \"\"\n      }\n    },\n    {\n      \"column\": \"Skewness\",\n      \"properties\": {\n        \"dtype\": \"number\",\n        \"std\": 5.869046743695517,\n        \"min\": -13.7731,\n        \"max\": 12.9516,\n        \"num_unique_values\": 1256,\n        \"samples\": [\n          11.2217,\n          -4.6145,\n          6.1499\n        ],\n        \"semantic_type\": \"\",\n        \"description\": \"\"\n      }\n    },\n    {\n      \"column\": \"Curtosis\",\n      \"properties\": {\n        \"dtype\": \"number\",\n        \"std\": 4.310030090106596,\n        \"min\": -5.2861,\n        \"max\": 17.9274,\n        \"num_unique_values\": 1270,\n        \"samples\": [\n          7.8981,\n          9.8208,\n          0.20021\n        ],\n        \"semantic_type\": \"\",\n        \"description\": \"\"\n      }\n    },\n    {\n      \"column\": \"Entropy\",\n      \"properties\": {\n        \"dtype\": \"number\",\n        \"std\": 2.10101313735961,\n        \"min\": -8.5482,\n        \"max\": 2.4495,\n        \"num_unique_values\": 1156,\n        \"samples\": [\n          1.0271,\n          0.90946,\n          -0.026738\n        ],\n        \"semantic_type\": \"\",\n        \"description\": \"\"\n      }\n    },\n    {\n      \"column\": \"Class\",\n      \"properties\": {\n        \"dtype\": \"number\",\n        \"std\": 0,\n        \"min\": 0,\n        \"max\": 1,\n        \"num_unique_values\": 2,\n        \"samples\": [\n          1,\n          0\n        ],\n        \"semantic_type\": \"\",\n        \"description\": \"\"\n      }\n    }\n  ]\n}"
            }
          },
          "metadata": {},
          "execution_count": 3
        }
      ]
    },
    {
      "cell_type": "code",
      "source": [
        "#memisakhan atribut dengan label dimana x itu atribut dan y\n",
        "X = bill[['Variance','Skewness','Curtosis','Entropy']]\n",
        "y = bill['Class']\n",
        "\n",
        "#membagi dataset menjadi data latih dan data uji\n",
        "from sklearn.model_selection import train_test_split\n",
        "X_train, X_test, y_train, y_test=train_test_split(X, y, test_size=0.1, random_state=123)\n"
      ],
      "metadata": {
        "id": "iREzG4NRw8D-"
      },
      "execution_count": 4,
      "outputs": []
    },
    {
      "cell_type": "code",
      "source": [
        "from sklearn.tree import DecisionTreeClassifier\n",
        "\n",
        "#menentukan  model decision tree\n",
        "tree_model= DecisionTreeClassifier()\n",
        "\n",
        "#melatih model menggunakan data latih dengan fungsi fit\n",
        "tree_model= tree_model.fit(X_train,y_train)"
      ],
      "metadata": {
        "id": "aMySwJXFzAJR"
      },
      "execution_count": 5,
      "outputs": []
    },
    {
      "cell_type": "code",
      "source": [
        "#evaluasi model untuk meguji seberapa baik model yang digunakan dan akurasi\n",
        "from sklearn.metrics import accuracy_score\n",
        "\n",
        "y_pred =  tree_model.predict(X_test)\n",
        "\n",
        "accuracy_score =round(accuracy_score(y_pred, y_test), 3)\n",
        "\n",
        "print('Accuracy: ',accuracy_score)"
      ],
      "metadata": {
        "colab": {
          "base_uri": "https://localhost:8080/"
        },
        "id": "aXi49LWVzSIc",
        "outputId": "78004d03-af44-4b48-e455-2ace9b528937"
      },
      "execution_count": 6,
      "outputs": [
        {
          "output_type": "stream",
          "name": "stdout",
          "text": [
            "Accuracy:  0.993\n"
          ]
        }
      ]
    },
    {
      "cell_type": "code",
      "source": [
        "#prediksi model dengan tree model yang sdh dibuat dengan varibel (['Variance','Skewness','Curtosis','Entropy'])\n",
        "\n",
        "print(tree_model.predict([[5, 8, -3, -0.4]])[0])"
      ],
      "metadata": {
        "colab": {
          "base_uri": "https://localhost:8080/"
        },
        "id": "hVXh7kVh0kw8",
        "outputId": "182d5378-e45b-4038-809e-7e1787e44e0b"
      },
      "execution_count": 7,
      "outputs": [
        {
          "output_type": "stream",
          "name": "stdout",
          "text": [
            "0\n"
          ]
        },
        {
          "output_type": "stream",
          "name": "stderr",
          "text": [
            "/usr/local/lib/python3.10/dist-packages/sklearn/base.py:439: UserWarning: X does not have valid feature names, but DecisionTreeClassifier was fitted with feature names\n",
            "  warnings.warn(\n"
          ]
        }
      ]
    },
    {
      "cell_type": "code",
      "source": [
        "print(tree_model.predict([[-1, 3, -1.5, -2]])[0])\n"
      ],
      "metadata": {
        "colab": {
          "base_uri": "https://localhost:8080/"
        },
        "id": "Etx4mJeVWPUL",
        "outputId": "594aca83-c525-4088-a435-03c88b029074"
      },
      "execution_count": 8,
      "outputs": [
        {
          "output_type": "stream",
          "name": "stdout",
          "text": [
            "1\n"
          ]
        },
        {
          "output_type": "stream",
          "name": "stderr",
          "text": [
            "/usr/local/lib/python3.10/dist-packages/sklearn/base.py:439: UserWarning: X does not have valid feature names, but DecisionTreeClassifier was fitted with feature names\n",
            "  warnings.warn(\n"
          ]
        }
      ]
    },
    {
      "cell_type": "code",
      "source": [
        "#melihat visulisasi datanya decision tree\n",
        "from sklearn.tree import export_graphviz\n",
        "\n",
        "export_graphviz(tree_model,\n",
        "                out_file=\"bill_tree.dot\",\n",
        "                feature_names=['Variance','Skewness','Curtosis','Entropy'],\n",
        "                class_names=['0','1'],\n",
        "                rounded=True,\n",
        "                filled=True)\n"
      ],
      "metadata": {
        "id": "cI1-Yihl5BMo"
      },
      "execution_count": 11,
      "outputs": []
    },
    {
      "cell_type": "code",
      "source": [
        "#konversi file .dot menjadi gambar\n",
        "import graphviz\n",
        "with open(\"bill_tree.dot\") as f:\n",
        "  dot_graph=f.read()\n",
        "graphviz.Source(dot_graph)\n"
      ],
      "metadata": {
        "colab": {
          "base_uri": "https://localhost:8080/",
          "height": 1000
        },
        "id": "nqEn32uWTBYe",
        "outputId": "084f90a2-ed22-400a-c7c4-0f6f303e73e6"
      },
      "execution_count": 12,
      "outputs": [
        {
          "output_type": "execute_result",
          "data": {
            "image/svg+xml": "<?xml version=\"1.0\" encoding=\"UTF-8\" standalone=\"no\"?>\n<!DOCTYPE svg PUBLIC \"-//W3C//DTD SVG 1.1//EN\"\n \"http://www.w3.org/Graphics/SVG/1.1/DTD/svg11.dtd\">\n<!-- Generated by graphviz version 2.43.0 (0)\n -->\n<!-- Title: Tree Pages: 1 -->\n<svg width=\"1846pt\" height=\"909pt\"\n viewBox=\"0.00 0.00 1846.00 909.00\" xmlns=\"http://www.w3.org/2000/svg\" xmlns:xlink=\"http://www.w3.org/1999/xlink\">\n<g id=\"graph0\" class=\"graph\" transform=\"scale(1 1) rotate(0) translate(4 905)\">\n<title>Tree</title>\n<polygon fill=\"white\" stroke=\"transparent\" points=\"-4,4 -4,-905 1842,-905 1842,4 -4,4\"/>\n<!-- 0 -->\n<g id=\"node1\" class=\"node\">\n<title>0</title>\n<path fill=\"#fae6d8\" stroke=\"black\" d=\"M1125.5,-901C1125.5,-901 1024.5,-901 1024.5,-901 1018.5,-901 1012.5,-895 1012.5,-889 1012.5,-889 1012.5,-830 1012.5,-830 1012.5,-824 1018.5,-818 1024.5,-818 1024.5,-818 1125.5,-818 1125.5,-818 1131.5,-818 1137.5,-824 1137.5,-830 1137.5,-830 1137.5,-889 1137.5,-889 1137.5,-895 1131.5,-901 1125.5,-901\"/>\n<text text-anchor=\"middle\" x=\"1075\" y=\"-885.8\" font-family=\"Helvetica,sans-Serif\" font-size=\"14.00\">Variance &lt;= 0.32</text>\n<text text-anchor=\"middle\" x=\"1075\" y=\"-870.8\" font-family=\"Helvetica,sans-Serif\" font-size=\"14.00\">gini = 0.494</text>\n<text text-anchor=\"middle\" x=\"1075\" y=\"-855.8\" font-family=\"Helvetica,sans-Serif\" font-size=\"14.00\">samples = 1234</text>\n<text text-anchor=\"middle\" x=\"1075\" y=\"-840.8\" font-family=\"Helvetica,sans-Serif\" font-size=\"14.00\">value = [684, 550]</text>\n<text text-anchor=\"middle\" x=\"1075\" y=\"-825.8\" font-family=\"Helvetica,sans-Serif\" font-size=\"14.00\">class = 0</text>\n</g>\n<!-- 1 -->\n<g id=\"node2\" class=\"node\">\n<title>1</title>\n<path fill=\"#68b4eb\" stroke=\"black\" d=\"M969,-782C969,-782 857,-782 857,-782 851,-782 845,-776 845,-770 845,-770 845,-711 845,-711 845,-705 851,-699 857,-699 857,-699 969,-699 969,-699 975,-699 981,-705 981,-711 981,-711 981,-770 981,-770 981,-776 975,-782 969,-782\"/>\n<text text-anchor=\"middle\" x=\"913\" y=\"-766.8\" font-family=\"Helvetica,sans-Serif\" font-size=\"14.00\">Skewness &lt;= 7.574</text>\n<text text-anchor=\"middle\" x=\"913\" y=\"-751.8\" font-family=\"Helvetica,sans-Serif\" font-size=\"14.00\">gini = 0.309</text>\n<text text-anchor=\"middle\" x=\"913\" y=\"-736.8\" font-family=\"Helvetica,sans-Serif\" font-size=\"14.00\">samples = 592</text>\n<text text-anchor=\"middle\" x=\"913\" y=\"-721.8\" font-family=\"Helvetica,sans-Serif\" font-size=\"14.00\">value = [113, 479]</text>\n<text text-anchor=\"middle\" x=\"913\" y=\"-706.8\" font-family=\"Helvetica,sans-Serif\" font-size=\"14.00\">class = 1</text>\n</g>\n<!-- 0&#45;&gt;1 -->\n<g id=\"edge1\" class=\"edge\">\n<title>0&#45;&gt;1</title>\n<path fill=\"none\" stroke=\"black\" d=\"M1018.79,-817.91C1005.48,-808.29 991.17,-797.95 977.51,-788.09\"/>\n<polygon fill=\"black\" stroke=\"black\" points=\"979.26,-785.04 969.11,-782.02 975.16,-790.71 979.26,-785.04\"/>\n<text text-anchor=\"middle\" x=\"973.09\" y=\"-803\" font-family=\"Helvetica,sans-Serif\" font-size=\"14.00\">True</text>\n</g>\n<!-- 32 -->\n<g id=\"node33\" class=\"node\">\n<title>32</title>\n<path fill=\"#e89152\" stroke=\"black\" d=\"M1246,-782C1246,-782 1142,-782 1142,-782 1136,-782 1130,-776 1130,-770 1130,-770 1130,-711 1130,-711 1130,-705 1136,-699 1142,-699 1142,-699 1246,-699 1246,-699 1252,-699 1258,-705 1258,-711 1258,-711 1258,-770 1258,-770 1258,-776 1252,-782 1246,-782\"/>\n<text text-anchor=\"middle\" x=\"1194\" y=\"-766.8\" font-family=\"Helvetica,sans-Serif\" font-size=\"14.00\">Curtosis &lt;= &#45;4.386</text>\n<text text-anchor=\"middle\" x=\"1194\" y=\"-751.8\" font-family=\"Helvetica,sans-Serif\" font-size=\"14.00\">gini = 0.197</text>\n<text text-anchor=\"middle\" x=\"1194\" y=\"-736.8\" font-family=\"Helvetica,sans-Serif\" font-size=\"14.00\">samples = 642</text>\n<text text-anchor=\"middle\" x=\"1194\" y=\"-721.8\" font-family=\"Helvetica,sans-Serif\" font-size=\"14.00\">value = [571, 71]</text>\n<text text-anchor=\"middle\" x=\"1194\" y=\"-706.8\" font-family=\"Helvetica,sans-Serif\" font-size=\"14.00\">class = 0</text>\n</g>\n<!-- 0&#45;&gt;32 -->\n<g id=\"edge32\" class=\"edge\">\n<title>0&#45;&gt;32</title>\n<path fill=\"none\" stroke=\"black\" d=\"M1116.29,-817.91C1125.7,-808.65 1135.79,-798.73 1145.48,-789.21\"/>\n<polygon fill=\"black\" stroke=\"black\" points=\"1148.11,-791.53 1152.79,-782.02 1143.2,-786.54 1148.11,-791.53\"/>\n<text text-anchor=\"middle\" x=\"1152.57\" y=\"-803.32\" font-family=\"Helvetica,sans-Serif\" font-size=\"14.00\">False</text>\n</g>\n<!-- 2 -->\n<g id=\"node3\" class=\"node\">\n<title>2</title>\n<path fill=\"#49a5e7\" stroke=\"black\" d=\"M766.5,-663C766.5,-663 659.5,-663 659.5,-663 653.5,-663 647.5,-657 647.5,-651 647.5,-651 647.5,-592 647.5,-592 647.5,-586 653.5,-580 659.5,-580 659.5,-580 766.5,-580 766.5,-580 772.5,-580 778.5,-586 778.5,-592 778.5,-592 778.5,-651 778.5,-651 778.5,-657 772.5,-663 766.5,-663\"/>\n<text text-anchor=\"middle\" x=\"713\" y=\"-647.8\" font-family=\"Helvetica,sans-Serif\" font-size=\"14.00\">Variance &lt;= &#45;0.459</text>\n<text text-anchor=\"middle\" x=\"713\" y=\"-632.8\" font-family=\"Helvetica,sans-Serif\" font-size=\"14.00\">gini = 0.137</text>\n<text text-anchor=\"middle\" x=\"713\" y=\"-617.8\" font-family=\"Helvetica,sans-Serif\" font-size=\"14.00\">samples = 500</text>\n<text text-anchor=\"middle\" x=\"713\" y=\"-602.8\" font-family=\"Helvetica,sans-Serif\" font-size=\"14.00\">value = [37, 463]</text>\n<text text-anchor=\"middle\" x=\"713\" y=\"-587.8\" font-family=\"Helvetica,sans-Serif\" font-size=\"14.00\">class = 1</text>\n</g>\n<!-- 1&#45;&gt;2 -->\n<g id=\"edge2\" class=\"edge\">\n<title>1&#45;&gt;2</title>\n<path fill=\"none\" stroke=\"black\" d=\"M844.73,-699.56C826.27,-688.76 806.19,-677.02 787.41,-666.03\"/>\n<polygon fill=\"black\" stroke=\"black\" points=\"789,-662.9 778.6,-660.87 785.46,-668.94 789,-662.9\"/>\n</g>\n<!-- 29 -->\n<g id=\"node30\" class=\"node\">\n<title>29</title>\n<path fill=\"#ea9c63\" stroke=\"black\" d=\"M966.5,-663C966.5,-663 859.5,-663 859.5,-663 853.5,-663 847.5,-657 847.5,-651 847.5,-651 847.5,-592 847.5,-592 847.5,-586 853.5,-580 859.5,-580 859.5,-580 966.5,-580 966.5,-580 972.5,-580 978.5,-586 978.5,-592 978.5,-592 978.5,-651 978.5,-651 978.5,-657 972.5,-663 966.5,-663\"/>\n<text text-anchor=\"middle\" x=\"913\" y=\"-647.8\" font-family=\"Helvetica,sans-Serif\" font-size=\"14.00\">Variance &lt;= &#45;4.726</text>\n<text text-anchor=\"middle\" x=\"913\" y=\"-632.8\" font-family=\"Helvetica,sans-Serif\" font-size=\"14.00\">gini = 0.287</text>\n<text text-anchor=\"middle\" x=\"913\" y=\"-617.8\" font-family=\"Helvetica,sans-Serif\" font-size=\"14.00\">samples = 92</text>\n<text text-anchor=\"middle\" x=\"913\" y=\"-602.8\" font-family=\"Helvetica,sans-Serif\" font-size=\"14.00\">value = [76, 16]</text>\n<text text-anchor=\"middle\" x=\"913\" y=\"-587.8\" font-family=\"Helvetica,sans-Serif\" font-size=\"14.00\">class = 0</text>\n</g>\n<!-- 1&#45;&gt;29 -->\n<g id=\"edge29\" class=\"edge\">\n<title>1&#45;&gt;29</title>\n<path fill=\"none\" stroke=\"black\" d=\"M913,-698.91C913,-690.65 913,-681.86 913,-673.3\"/>\n<polygon fill=\"black\" stroke=\"black\" points=\"916.5,-673.02 913,-663.02 909.5,-673.02 916.5,-673.02\"/>\n</g>\n<!-- 3 -->\n<g id=\"node4\" class=\"node\">\n<title>3</title>\n<path fill=\"#41a1e6\" stroke=\"black\" d=\"M459,-544C459,-544 359,-544 359,-544 353,-544 347,-538 347,-532 347,-532 347,-473 347,-473 347,-467 353,-461 359,-461 359,-461 459,-461 459,-461 465,-461 471,-467 471,-473 471,-473 471,-532 471,-532 471,-538 465,-544 459,-544\"/>\n<text text-anchor=\"middle\" x=\"409\" y=\"-528.8\" font-family=\"Helvetica,sans-Serif\" font-size=\"14.00\">Curtosis &lt;= 6.219</text>\n<text text-anchor=\"middle\" x=\"409\" y=\"-513.8\" font-family=\"Helvetica,sans-Serif\" font-size=\"14.00\">gini = 0.073</text>\n<text text-anchor=\"middle\" x=\"409\" y=\"-498.8\" font-family=\"Helvetica,sans-Serif\" font-size=\"14.00\">samples = 424</text>\n<text text-anchor=\"middle\" x=\"409\" y=\"-483.8\" font-family=\"Helvetica,sans-Serif\" font-size=\"14.00\">value = [16, 408]</text>\n<text text-anchor=\"middle\" x=\"409\" y=\"-468.8\" font-family=\"Helvetica,sans-Serif\" font-size=\"14.00\">class = 1</text>\n</g>\n<!-- 2&#45;&gt;3 -->\n<g id=\"edge3\" class=\"edge\">\n<title>2&#45;&gt;3</title>\n<path fill=\"none\" stroke=\"black\" d=\"M647.41,-595.26C598.3,-576.36 531.17,-550.52 480.65,-531.08\"/>\n<polygon fill=\"black\" stroke=\"black\" points=\"481.69,-527.73 471.1,-527.4 479.17,-534.26 481.69,-527.73\"/>\n</g>\n<!-- 16 -->\n<g id=\"node17\" class=\"node\">\n<title>16</title>\n<path fill=\"#85c2ef\" stroke=\"black\" d=\"M763,-544C763,-544 663,-544 663,-544 657,-544 651,-538 651,-532 651,-532 651,-473 651,-473 651,-467 657,-461 663,-461 663,-461 763,-461 763,-461 769,-461 775,-467 775,-473 775,-473 775,-532 775,-532 775,-538 769,-544 763,-544\"/>\n<text text-anchor=\"middle\" x=\"713\" y=\"-528.8\" font-family=\"Helvetica,sans-Serif\" font-size=\"14.00\">Curtosis &lt;= 0.297</text>\n<text text-anchor=\"middle\" x=\"713\" y=\"-513.8\" font-family=\"Helvetica,sans-Serif\" font-size=\"14.00\">gini = 0.4</text>\n<text text-anchor=\"middle\" x=\"713\" y=\"-498.8\" font-family=\"Helvetica,sans-Serif\" font-size=\"14.00\">samples = 76</text>\n<text text-anchor=\"middle\" x=\"713\" y=\"-483.8\" font-family=\"Helvetica,sans-Serif\" font-size=\"14.00\">value = [21, 55]</text>\n<text text-anchor=\"middle\" x=\"713\" y=\"-468.8\" font-family=\"Helvetica,sans-Serif\" font-size=\"14.00\">class = 1</text>\n</g>\n<!-- 2&#45;&gt;16 -->\n<g id=\"edge16\" class=\"edge\">\n<title>2&#45;&gt;16</title>\n<path fill=\"none\" stroke=\"black\" d=\"M713,-579.91C713,-571.65 713,-562.86 713,-554.3\"/>\n<polygon fill=\"black\" stroke=\"black\" points=\"716.5,-554.02 713,-544.02 709.5,-554.02 716.5,-554.02\"/>\n</g>\n<!-- 4 -->\n<g id=\"node5\" class=\"node\">\n<title>4</title>\n<path fill=\"#3a9de5\" stroke=\"black\" d=\"M247,-425C247,-425 135,-425 135,-425 129,-425 123,-419 123,-413 123,-413 123,-354 123,-354 123,-348 129,-342 135,-342 135,-342 247,-342 247,-342 253,-342 259,-348 259,-354 259,-354 259,-413 259,-413 259,-419 253,-425 247,-425\"/>\n<text text-anchor=\"middle\" x=\"191\" y=\"-409.8\" font-family=\"Helvetica,sans-Serif\" font-size=\"14.00\">Skewness &lt;= 7.293</text>\n<text text-anchor=\"middle\" x=\"191\" y=\"-394.8\" font-family=\"Helvetica,sans-Serif\" font-size=\"14.00\">gini = 0.007</text>\n<text text-anchor=\"middle\" x=\"191\" y=\"-379.8\" font-family=\"Helvetica,sans-Serif\" font-size=\"14.00\">samples = 288</text>\n<text text-anchor=\"middle\" x=\"191\" y=\"-364.8\" font-family=\"Helvetica,sans-Serif\" font-size=\"14.00\">value = [1, 287]</text>\n<text text-anchor=\"middle\" x=\"191\" y=\"-349.8\" font-family=\"Helvetica,sans-Serif\" font-size=\"14.00\">class = 1</text>\n</g>\n<!-- 3&#45;&gt;4 -->\n<g id=\"edge4\" class=\"edge\">\n<title>3&#45;&gt;4</title>\n<path fill=\"none\" stroke=\"black\" d=\"M346.82,-468.13C322.39,-455.02 294.09,-439.83 268.36,-426.02\"/>\n<polygon fill=\"black\" stroke=\"black\" points=\"269.85,-422.84 259.38,-421.2 266.54,-429.01 269.85,-422.84\"/>\n</g>\n<!-- 9 -->\n<g id=\"node10\" class=\"node\">\n<title>9</title>\n<path fill=\"#52a9e8\" stroke=\"black\" d=\"M467,-425C467,-425 351,-425 351,-425 345,-425 339,-419 339,-413 339,-413 339,-354 339,-354 339,-348 345,-342 351,-342 351,-342 467,-342 467,-342 473,-342 479,-348 479,-354 479,-354 479,-413 479,-413 479,-419 473,-425 467,-425\"/>\n<text text-anchor=\"middle\" x=\"409\" y=\"-409.8\" font-family=\"Helvetica,sans-Serif\" font-size=\"14.00\">Skewness &lt;= &#45;4.675</text>\n<text text-anchor=\"middle\" x=\"409\" y=\"-394.8\" font-family=\"Helvetica,sans-Serif\" font-size=\"14.00\">gini = 0.196</text>\n<text text-anchor=\"middle\" x=\"409\" y=\"-379.8\" font-family=\"Helvetica,sans-Serif\" font-size=\"14.00\">samples = 136</text>\n<text text-anchor=\"middle\" x=\"409\" y=\"-364.8\" font-family=\"Helvetica,sans-Serif\" font-size=\"14.00\">value = [15, 121]</text>\n<text text-anchor=\"middle\" x=\"409\" y=\"-349.8\" font-family=\"Helvetica,sans-Serif\" font-size=\"14.00\">class = 1</text>\n</g>\n<!-- 3&#45;&gt;9 -->\n<g id=\"edge9\" class=\"edge\">\n<title>3&#45;&gt;9</title>\n<path fill=\"none\" stroke=\"black\" d=\"M409,-460.91C409,-452.65 409,-443.86 409,-435.3\"/>\n<polygon fill=\"black\" stroke=\"black\" points=\"412.5,-435.02 409,-425.02 405.5,-435.02 412.5,-435.02\"/>\n</g>\n<!-- 5 -->\n<g id=\"node6\" class=\"node\">\n<title>5</title>\n<path fill=\"#399de5\" stroke=\"black\" d=\"M98,-298.5C98,-298.5 12,-298.5 12,-298.5 6,-298.5 0,-292.5 0,-286.5 0,-286.5 0,-242.5 0,-242.5 0,-236.5 6,-230.5 12,-230.5 12,-230.5 98,-230.5 98,-230.5 104,-230.5 110,-236.5 110,-242.5 110,-242.5 110,-286.5 110,-286.5 110,-292.5 104,-298.5 98,-298.5\"/>\n<text text-anchor=\"middle\" x=\"55\" y=\"-283.3\" font-family=\"Helvetica,sans-Serif\" font-size=\"14.00\">gini = 0.0</text>\n<text text-anchor=\"middle\" x=\"55\" y=\"-268.3\" font-family=\"Helvetica,sans-Serif\" font-size=\"14.00\">samples = 284</text>\n<text text-anchor=\"middle\" x=\"55\" y=\"-253.3\" font-family=\"Helvetica,sans-Serif\" font-size=\"14.00\">value = [0, 284]</text>\n<text text-anchor=\"middle\" x=\"55\" y=\"-238.3\" font-family=\"Helvetica,sans-Serif\" font-size=\"14.00\">class = 1</text>\n</g>\n<!-- 4&#45;&gt;5 -->\n<g id=\"edge5\" class=\"edge\">\n<title>4&#45;&gt;5</title>\n<path fill=\"none\" stroke=\"black\" d=\"M143.82,-341.91C130.09,-330.1 115.11,-317.22 101.44,-305.45\"/>\n<polygon fill=\"black\" stroke=\"black\" points=\"103.42,-302.54 93.55,-298.67 98.85,-307.84 103.42,-302.54\"/>\n</g>\n<!-- 6 -->\n<g id=\"node7\" class=\"node\">\n<title>6</title>\n<path fill=\"#7bbeee\" stroke=\"black\" d=\"M241.5,-306C241.5,-306 140.5,-306 140.5,-306 134.5,-306 128.5,-300 128.5,-294 128.5,-294 128.5,-235 128.5,-235 128.5,-229 134.5,-223 140.5,-223 140.5,-223 241.5,-223 241.5,-223 247.5,-223 253.5,-229 253.5,-235 253.5,-235 253.5,-294 253.5,-294 253.5,-300 247.5,-306 241.5,-306\"/>\n<text text-anchor=\"middle\" x=\"191\" y=\"-290.8\" font-family=\"Helvetica,sans-Serif\" font-size=\"14.00\">Entropy &lt;= &#45;4.115</text>\n<text text-anchor=\"middle\" x=\"191\" y=\"-275.8\" font-family=\"Helvetica,sans-Serif\" font-size=\"14.00\">gini = 0.375</text>\n<text text-anchor=\"middle\" x=\"191\" y=\"-260.8\" font-family=\"Helvetica,sans-Serif\" font-size=\"14.00\">samples = 4</text>\n<text text-anchor=\"middle\" x=\"191\" y=\"-245.8\" font-family=\"Helvetica,sans-Serif\" font-size=\"14.00\">value = [1, 3]</text>\n<text text-anchor=\"middle\" x=\"191\" y=\"-230.8\" font-family=\"Helvetica,sans-Serif\" font-size=\"14.00\">class = 1</text>\n</g>\n<!-- 4&#45;&gt;6 -->\n<g id=\"edge6\" class=\"edge\">\n<title>4&#45;&gt;6</title>\n<path fill=\"none\" stroke=\"black\" d=\"M191,-341.91C191,-333.65 191,-324.86 191,-316.3\"/>\n<polygon fill=\"black\" stroke=\"black\" points=\"194.5,-316.02 191,-306.02 187.5,-316.02 194.5,-316.02\"/>\n</g>\n<!-- 7 -->\n<g id=\"node8\" class=\"node\">\n<title>7</title>\n<path fill=\"#399de5\" stroke=\"black\" d=\"M170.5,-179.5C170.5,-179.5 99.5,-179.5 99.5,-179.5 93.5,-179.5 87.5,-173.5 87.5,-167.5 87.5,-167.5 87.5,-123.5 87.5,-123.5 87.5,-117.5 93.5,-111.5 99.5,-111.5 99.5,-111.5 170.5,-111.5 170.5,-111.5 176.5,-111.5 182.5,-117.5 182.5,-123.5 182.5,-123.5 182.5,-167.5 182.5,-167.5 182.5,-173.5 176.5,-179.5 170.5,-179.5\"/>\n<text text-anchor=\"middle\" x=\"135\" y=\"-164.3\" font-family=\"Helvetica,sans-Serif\" font-size=\"14.00\">gini = 0.0</text>\n<text text-anchor=\"middle\" x=\"135\" y=\"-149.3\" font-family=\"Helvetica,sans-Serif\" font-size=\"14.00\">samples = 3</text>\n<text text-anchor=\"middle\" x=\"135\" y=\"-134.3\" font-family=\"Helvetica,sans-Serif\" font-size=\"14.00\">value = [0, 3]</text>\n<text text-anchor=\"middle\" x=\"135\" y=\"-119.3\" font-family=\"Helvetica,sans-Serif\" font-size=\"14.00\">class = 1</text>\n</g>\n<!-- 6&#45;&gt;7 -->\n<g id=\"edge7\" class=\"edge\">\n<title>6&#45;&gt;7</title>\n<path fill=\"none\" stroke=\"black\" d=\"M171.57,-222.91C166.29,-211.87 160.56,-199.9 155.23,-188.77\"/>\n<polygon fill=\"black\" stroke=\"black\" points=\"158.35,-187.18 150.87,-179.67 152.04,-190.2 158.35,-187.18\"/>\n</g>\n<!-- 8 -->\n<g id=\"node9\" class=\"node\">\n<title>8</title>\n<path fill=\"#e58139\" stroke=\"black\" d=\"M283.5,-179.5C283.5,-179.5 212.5,-179.5 212.5,-179.5 206.5,-179.5 200.5,-173.5 200.5,-167.5 200.5,-167.5 200.5,-123.5 200.5,-123.5 200.5,-117.5 206.5,-111.5 212.5,-111.5 212.5,-111.5 283.5,-111.5 283.5,-111.5 289.5,-111.5 295.5,-117.5 295.5,-123.5 295.5,-123.5 295.5,-167.5 295.5,-167.5 295.5,-173.5 289.5,-179.5 283.5,-179.5\"/>\n<text text-anchor=\"middle\" x=\"248\" y=\"-164.3\" font-family=\"Helvetica,sans-Serif\" font-size=\"14.00\">gini = 0.0</text>\n<text text-anchor=\"middle\" x=\"248\" y=\"-149.3\" font-family=\"Helvetica,sans-Serif\" font-size=\"14.00\">samples = 1</text>\n<text text-anchor=\"middle\" x=\"248\" y=\"-134.3\" font-family=\"Helvetica,sans-Serif\" font-size=\"14.00\">value = [1, 0]</text>\n<text text-anchor=\"middle\" x=\"248\" y=\"-119.3\" font-family=\"Helvetica,sans-Serif\" font-size=\"14.00\">class = 0</text>\n</g>\n<!-- 6&#45;&gt;8 -->\n<g id=\"edge8\" class=\"edge\">\n<title>6&#45;&gt;8</title>\n<path fill=\"none\" stroke=\"black\" d=\"M210.78,-222.91C216.15,-211.87 221.99,-199.9 227.41,-188.77\"/>\n<polygon fill=\"black\" stroke=\"black\" points=\"230.61,-190.19 231.84,-179.67 224.32,-187.12 230.61,-190.19\"/>\n</g>\n<!-- 10 -->\n<g id=\"node11\" class=\"node\">\n<title>10</title>\n<path fill=\"#399de5\" stroke=\"black\" d=\"M370,-298.5C370,-298.5 284,-298.5 284,-298.5 278,-298.5 272,-292.5 272,-286.5 272,-286.5 272,-242.5 272,-242.5 272,-236.5 278,-230.5 284,-230.5 284,-230.5 370,-230.5 370,-230.5 376,-230.5 382,-236.5 382,-242.5 382,-242.5 382,-286.5 382,-286.5 382,-292.5 376,-298.5 370,-298.5\"/>\n<text text-anchor=\"middle\" x=\"327\" y=\"-283.3\" font-family=\"Helvetica,sans-Serif\" font-size=\"14.00\">gini = 0.0</text>\n<text text-anchor=\"middle\" x=\"327\" y=\"-268.3\" font-family=\"Helvetica,sans-Serif\" font-size=\"14.00\">samples = 120</text>\n<text text-anchor=\"middle\" x=\"327\" y=\"-253.3\" font-family=\"Helvetica,sans-Serif\" font-size=\"14.00\">value = [0, 120]</text>\n<text text-anchor=\"middle\" x=\"327\" y=\"-238.3\" font-family=\"Helvetica,sans-Serif\" font-size=\"14.00\">class = 1</text>\n</g>\n<!-- 9&#45;&gt;10 -->\n<g id=\"edge10\" class=\"edge\">\n<title>9&#45;&gt;10</title>\n<path fill=\"none\" stroke=\"black\" d=\"M380.55,-341.91C372.66,-330.65 364.09,-318.42 356.16,-307.11\"/>\n<polygon fill=\"black\" stroke=\"black\" points=\"358.85,-304.85 350.25,-298.67 353.12,-308.86 358.85,-304.85\"/>\n</g>\n<!-- 11 -->\n<g id=\"node12\" class=\"node\">\n<title>11</title>\n<path fill=\"#e78946\" stroke=\"black\" d=\"M528,-306C528,-306 412,-306 412,-306 406,-306 400,-300 400,-294 400,-294 400,-235 400,-235 400,-229 406,-223 412,-223 412,-223 528,-223 528,-223 534,-223 540,-229 540,-235 540,-235 540,-294 540,-294 540,-300 534,-306 528,-306\"/>\n<text text-anchor=\"middle\" x=\"470\" y=\"-290.8\" font-family=\"Helvetica,sans-Serif\" font-size=\"14.00\">Skewness &lt;= &#45;2.243</text>\n<text text-anchor=\"middle\" x=\"470\" y=\"-275.8\" font-family=\"Helvetica,sans-Serif\" font-size=\"14.00\">gini = 0.117</text>\n<text text-anchor=\"middle\" x=\"470\" y=\"-260.8\" font-family=\"Helvetica,sans-Serif\" font-size=\"14.00\">samples = 16</text>\n<text text-anchor=\"middle\" x=\"470\" y=\"-245.8\" font-family=\"Helvetica,sans-Serif\" font-size=\"14.00\">value = [15, 1]</text>\n<text text-anchor=\"middle\" x=\"470\" y=\"-230.8\" font-family=\"Helvetica,sans-Serif\" font-size=\"14.00\">class = 0</text>\n</g>\n<!-- 9&#45;&gt;11 -->\n<g id=\"edge11\" class=\"edge\">\n<title>9&#45;&gt;11</title>\n<path fill=\"none\" stroke=\"black\" d=\"M430.16,-341.91C434.71,-333.2 439.55,-323.9 444.25,-314.89\"/>\n<polygon fill=\"black\" stroke=\"black\" points=\"447.35,-316.51 448.87,-306.02 441.15,-313.27 447.35,-316.51\"/>\n</g>\n<!-- 12 -->\n<g id=\"node13\" class=\"node\">\n<title>12</title>\n<path fill=\"#ffffff\" stroke=\"black\" d=\"M501.5,-187C501.5,-187 400.5,-187 400.5,-187 394.5,-187 388.5,-181 388.5,-175 388.5,-175 388.5,-116 388.5,-116 388.5,-110 394.5,-104 400.5,-104 400.5,-104 501.5,-104 501.5,-104 507.5,-104 513.5,-110 513.5,-116 513.5,-116 513.5,-175 513.5,-175 513.5,-181 507.5,-187 501.5,-187\"/>\n<text text-anchor=\"middle\" x=\"451\" y=\"-171.8\" font-family=\"Helvetica,sans-Serif\" font-size=\"14.00\">Entropy &lt;= &#45;1.383</text>\n<text text-anchor=\"middle\" x=\"451\" y=\"-156.8\" font-family=\"Helvetica,sans-Serif\" font-size=\"14.00\">gini = 0.5</text>\n<text text-anchor=\"middle\" x=\"451\" y=\"-141.8\" font-family=\"Helvetica,sans-Serif\" font-size=\"14.00\">samples = 2</text>\n<text text-anchor=\"middle\" x=\"451\" y=\"-126.8\" font-family=\"Helvetica,sans-Serif\" font-size=\"14.00\">value = [1, 1]</text>\n<text text-anchor=\"middle\" x=\"451\" y=\"-111.8\" font-family=\"Helvetica,sans-Serif\" font-size=\"14.00\">class = 0</text>\n</g>\n<!-- 11&#45;&gt;12 -->\n<g id=\"edge12\" class=\"edge\">\n<title>11&#45;&gt;12</title>\n<path fill=\"none\" stroke=\"black\" d=\"M463.41,-222.91C462.05,-214.56 460.61,-205.67 459.2,-197.02\"/>\n<polygon fill=\"black\" stroke=\"black\" points=\"462.64,-196.33 457.58,-187.02 455.73,-197.45 462.64,-196.33\"/>\n</g>\n<!-- 15 -->\n<g id=\"node16\" class=\"node\">\n<title>15</title>\n<path fill=\"#e58139\" stroke=\"black\" d=\"M622,-179.5C622,-179.5 544,-179.5 544,-179.5 538,-179.5 532,-173.5 532,-167.5 532,-167.5 532,-123.5 532,-123.5 532,-117.5 538,-111.5 544,-111.5 544,-111.5 622,-111.5 622,-111.5 628,-111.5 634,-117.5 634,-123.5 634,-123.5 634,-167.5 634,-167.5 634,-173.5 628,-179.5 622,-179.5\"/>\n<text text-anchor=\"middle\" x=\"583\" y=\"-164.3\" font-family=\"Helvetica,sans-Serif\" font-size=\"14.00\">gini = 0.0</text>\n<text text-anchor=\"middle\" x=\"583\" y=\"-149.3\" font-family=\"Helvetica,sans-Serif\" font-size=\"14.00\">samples = 14</text>\n<text text-anchor=\"middle\" x=\"583\" y=\"-134.3\" font-family=\"Helvetica,sans-Serif\" font-size=\"14.00\">value = [14, 0]</text>\n<text text-anchor=\"middle\" x=\"583\" y=\"-119.3\" font-family=\"Helvetica,sans-Serif\" font-size=\"14.00\">class = 0</text>\n</g>\n<!-- 11&#45;&gt;15 -->\n<g id=\"edge15\" class=\"edge\">\n<title>11&#45;&gt;15</title>\n<path fill=\"none\" stroke=\"black\" d=\"M509.2,-222.91C520.39,-211.32 532.59,-198.7 543.78,-187.11\"/>\n<polygon fill=\"black\" stroke=\"black\" points=\"546.54,-189.29 550.97,-179.67 541.5,-184.43 546.54,-189.29\"/>\n</g>\n<!-- 13 -->\n<g id=\"node14\" class=\"node\">\n<title>13</title>\n<path fill=\"#e58139\" stroke=\"black\" d=\"M430.5,-68C430.5,-68 359.5,-68 359.5,-68 353.5,-68 347.5,-62 347.5,-56 347.5,-56 347.5,-12 347.5,-12 347.5,-6 353.5,0 359.5,0 359.5,0 430.5,0 430.5,0 436.5,0 442.5,-6 442.5,-12 442.5,-12 442.5,-56 442.5,-56 442.5,-62 436.5,-68 430.5,-68\"/>\n<text text-anchor=\"middle\" x=\"395\" y=\"-52.8\" font-family=\"Helvetica,sans-Serif\" font-size=\"14.00\">gini = 0.0</text>\n<text text-anchor=\"middle\" x=\"395\" y=\"-37.8\" font-family=\"Helvetica,sans-Serif\" font-size=\"14.00\">samples = 1</text>\n<text text-anchor=\"middle\" x=\"395\" y=\"-22.8\" font-family=\"Helvetica,sans-Serif\" font-size=\"14.00\">value = [1, 0]</text>\n<text text-anchor=\"middle\" x=\"395\" y=\"-7.8\" font-family=\"Helvetica,sans-Serif\" font-size=\"14.00\">class = 0</text>\n</g>\n<!-- 12&#45;&gt;13 -->\n<g id=\"edge13\" class=\"edge\">\n<title>12&#45;&gt;13</title>\n<path fill=\"none\" stroke=\"black\" d=\"M430.15,-103.73C425.76,-95.15 421.13,-86.09 416.71,-77.46\"/>\n<polygon fill=\"black\" stroke=\"black\" points=\"419.7,-75.61 412.03,-68.3 413.47,-78.8 419.7,-75.61\"/>\n</g>\n<!-- 14 -->\n<g id=\"node15\" class=\"node\">\n<title>14</title>\n<path fill=\"#399de5\" stroke=\"black\" d=\"M543.5,-68C543.5,-68 472.5,-68 472.5,-68 466.5,-68 460.5,-62 460.5,-56 460.5,-56 460.5,-12 460.5,-12 460.5,-6 466.5,0 472.5,0 472.5,0 543.5,0 543.5,0 549.5,0 555.5,-6 555.5,-12 555.5,-12 555.5,-56 555.5,-56 555.5,-62 549.5,-68 543.5,-68\"/>\n<text text-anchor=\"middle\" x=\"508\" y=\"-52.8\" font-family=\"Helvetica,sans-Serif\" font-size=\"14.00\">gini = 0.0</text>\n<text text-anchor=\"middle\" x=\"508\" y=\"-37.8\" font-family=\"Helvetica,sans-Serif\" font-size=\"14.00\">samples = 1</text>\n<text text-anchor=\"middle\" x=\"508\" y=\"-22.8\" font-family=\"Helvetica,sans-Serif\" font-size=\"14.00\">value = [0, 1]</text>\n<text text-anchor=\"middle\" x=\"508\" y=\"-7.8\" font-family=\"Helvetica,sans-Serif\" font-size=\"14.00\">class = 1</text>\n</g>\n<!-- 12&#45;&gt;14 -->\n<g id=\"edge14\" class=\"edge\">\n<title>12&#45;&gt;14</title>\n<path fill=\"none\" stroke=\"black\" d=\"M472.22,-103.73C476.74,-95.06 481.51,-85.9 486.04,-77.18\"/>\n<polygon fill=\"black\" stroke=\"black\" points=\"489.15,-78.79 490.67,-68.3 482.94,-75.55 489.15,-78.79\"/>\n</g>\n<!-- 17 -->\n<g id=\"node18\" class=\"node\">\n<title>17</title>\n<path fill=\"#42a1e6\" stroke=\"black\" d=\"M765,-425C765,-425 653,-425 653,-425 647,-425 641,-419 641,-413 641,-413 641,-354 641,-354 641,-348 647,-342 653,-342 653,-342 765,-342 765,-342 771,-342 777,-348 777,-354 777,-354 777,-413 777,-413 777,-419 771,-425 765,-425\"/>\n<text text-anchor=\"middle\" x=\"709\" y=\"-409.8\" font-family=\"Helvetica,sans-Serif\" font-size=\"14.00\">Skewness &lt;= 6.031</text>\n<text text-anchor=\"middle\" x=\"709\" y=\"-394.8\" font-family=\"Helvetica,sans-Serif\" font-size=\"14.00\">gini = 0.083</text>\n<text text-anchor=\"middle\" x=\"709\" y=\"-379.8\" font-family=\"Helvetica,sans-Serif\" font-size=\"14.00\">samples = 46</text>\n<text text-anchor=\"middle\" x=\"709\" y=\"-364.8\" font-family=\"Helvetica,sans-Serif\" font-size=\"14.00\">value = [2, 44]</text>\n<text text-anchor=\"middle\" x=\"709\" y=\"-349.8\" font-family=\"Helvetica,sans-Serif\" font-size=\"14.00\">class = 1</text>\n</g>\n<!-- 16&#45;&gt;17 -->\n<g id=\"edge17\" class=\"edge\">\n<title>16&#45;&gt;17</title>\n<path fill=\"none\" stroke=\"black\" d=\"M711.61,-460.91C711.33,-452.56 711.02,-443.67 710.73,-435.02\"/>\n<polygon fill=\"black\" stroke=\"black\" points=\"714.23,-434.9 710.39,-425.02 707.23,-435.13 714.23,-434.9\"/>\n</g>\n<!-- 20 -->\n<g id=\"node21\" class=\"node\">\n<title>20</title>\n<path fill=\"#f4caac\" stroke=\"black\" d=\"M904.5,-425C904.5,-425 807.5,-425 807.5,-425 801.5,-425 795.5,-419 795.5,-413 795.5,-413 795.5,-354 795.5,-354 795.5,-348 801.5,-342 807.5,-342 807.5,-342 904.5,-342 904.5,-342 910.5,-342 916.5,-348 916.5,-354 916.5,-354 916.5,-413 916.5,-413 916.5,-419 910.5,-425 904.5,-425\"/>\n<text text-anchor=\"middle\" x=\"856\" y=\"-409.8\" font-family=\"Helvetica,sans-Serif\" font-size=\"14.00\">Entropy &lt;= 0.688</text>\n<text text-anchor=\"middle\" x=\"856\" y=\"-394.8\" font-family=\"Helvetica,sans-Serif\" font-size=\"14.00\">gini = 0.464</text>\n<text text-anchor=\"middle\" x=\"856\" y=\"-379.8\" font-family=\"Helvetica,sans-Serif\" font-size=\"14.00\">samples = 30</text>\n<text text-anchor=\"middle\" x=\"856\" y=\"-364.8\" font-family=\"Helvetica,sans-Serif\" font-size=\"14.00\">value = [19, 11]</text>\n<text text-anchor=\"middle\" x=\"856\" y=\"-349.8\" font-family=\"Helvetica,sans-Serif\" font-size=\"14.00\">class = 0</text>\n</g>\n<!-- 16&#45;&gt;20 -->\n<g id=\"edge20\" class=\"edge\">\n<title>16&#45;&gt;20</title>\n<path fill=\"none\" stroke=\"black\" d=\"M762.61,-460.91C774.26,-451.38 786.76,-441.15 798.71,-431.37\"/>\n<polygon fill=\"black\" stroke=\"black\" points=\"800.95,-434.06 806.47,-425.02 796.52,-428.64 800.95,-434.06\"/>\n</g>\n<!-- 18 -->\n<g id=\"node19\" class=\"node\">\n<title>18</title>\n<path fill=\"#399de5\" stroke=\"black\" d=\"M648,-298.5C648,-298.5 570,-298.5 570,-298.5 564,-298.5 558,-292.5 558,-286.5 558,-286.5 558,-242.5 558,-242.5 558,-236.5 564,-230.5 570,-230.5 570,-230.5 648,-230.5 648,-230.5 654,-230.5 660,-236.5 660,-242.5 660,-242.5 660,-286.5 660,-286.5 660,-292.5 654,-298.5 648,-298.5\"/>\n<text text-anchor=\"middle\" x=\"609\" y=\"-283.3\" font-family=\"Helvetica,sans-Serif\" font-size=\"14.00\">gini = 0.0</text>\n<text text-anchor=\"middle\" x=\"609\" y=\"-268.3\" font-family=\"Helvetica,sans-Serif\" font-size=\"14.00\">samples = 44</text>\n<text text-anchor=\"middle\" x=\"609\" y=\"-253.3\" font-family=\"Helvetica,sans-Serif\" font-size=\"14.00\">value = [0, 44]</text>\n<text text-anchor=\"middle\" x=\"609\" y=\"-238.3\" font-family=\"Helvetica,sans-Serif\" font-size=\"14.00\">class = 1</text>\n</g>\n<!-- 17&#45;&gt;18 -->\n<g id=\"edge18\" class=\"edge\">\n<title>17&#45;&gt;18</title>\n<path fill=\"none\" stroke=\"black\" d=\"M674.31,-341.91C664.5,-330.43 653.82,-317.94 643.99,-306.44\"/>\n<polygon fill=\"black\" stroke=\"black\" points=\"646.51,-303.99 637.35,-298.67 641.18,-308.54 646.51,-303.99\"/>\n</g>\n<!-- 19 -->\n<g id=\"node20\" class=\"node\">\n<title>19</title>\n<path fill=\"#e58139\" stroke=\"black\" d=\"M761.5,-298.5C761.5,-298.5 690.5,-298.5 690.5,-298.5 684.5,-298.5 678.5,-292.5 678.5,-286.5 678.5,-286.5 678.5,-242.5 678.5,-242.5 678.5,-236.5 684.5,-230.5 690.5,-230.5 690.5,-230.5 761.5,-230.5 761.5,-230.5 767.5,-230.5 773.5,-236.5 773.5,-242.5 773.5,-242.5 773.5,-286.5 773.5,-286.5 773.5,-292.5 767.5,-298.5 761.5,-298.5\"/>\n<text text-anchor=\"middle\" x=\"726\" y=\"-283.3\" font-family=\"Helvetica,sans-Serif\" font-size=\"14.00\">gini = 0.0</text>\n<text text-anchor=\"middle\" x=\"726\" y=\"-268.3\" font-family=\"Helvetica,sans-Serif\" font-size=\"14.00\">samples = 2</text>\n<text text-anchor=\"middle\" x=\"726\" y=\"-253.3\" font-family=\"Helvetica,sans-Serif\" font-size=\"14.00\">value = [2, 0]</text>\n<text text-anchor=\"middle\" x=\"726\" y=\"-238.3\" font-family=\"Helvetica,sans-Serif\" font-size=\"14.00\">class = 0</text>\n</g>\n<!-- 17&#45;&gt;19 -->\n<g id=\"edge19\" class=\"edge\">\n<title>17&#45;&gt;19</title>\n<path fill=\"none\" stroke=\"black\" d=\"M714.9,-341.91C716.45,-331.2 718.14,-319.62 719.71,-308.78\"/>\n<polygon fill=\"black\" stroke=\"black\" points=\"723.21,-309.07 721.18,-298.67 716.28,-308.06 723.21,-309.07\"/>\n</g>\n<!-- 21 -->\n<g id=\"node22\" class=\"node\">\n<title>21</title>\n<path fill=\"#e89050\" stroke=\"black\" d=\"M906.5,-306C906.5,-306 803.5,-306 803.5,-306 797.5,-306 791.5,-300 791.5,-294 791.5,-294 791.5,-235 791.5,-235 791.5,-229 797.5,-223 803.5,-223 803.5,-223 906.5,-223 906.5,-223 912.5,-223 918.5,-229 918.5,-235 918.5,-235 918.5,-294 918.5,-294 918.5,-300 912.5,-306 906.5,-306\"/>\n<text text-anchor=\"middle\" x=\"855\" y=\"-290.8\" font-family=\"Helvetica,sans-Serif\" font-size=\"14.00\">Variance &lt;= 0.096</text>\n<text text-anchor=\"middle\" x=\"855\" y=\"-275.8\" font-family=\"Helvetica,sans-Serif\" font-size=\"14.00\">gini = 0.188</text>\n<text text-anchor=\"middle\" x=\"855\" y=\"-260.8\" font-family=\"Helvetica,sans-Serif\" font-size=\"14.00\">samples = 19</text>\n<text text-anchor=\"middle\" x=\"855\" y=\"-245.8\" font-family=\"Helvetica,sans-Serif\" font-size=\"14.00\">value = [17, 2]</text>\n<text text-anchor=\"middle\" x=\"855\" y=\"-230.8\" font-family=\"Helvetica,sans-Serif\" font-size=\"14.00\">class = 0</text>\n</g>\n<!-- 20&#45;&gt;21 -->\n<g id=\"edge21\" class=\"edge\">\n<title>20&#45;&gt;21</title>\n<path fill=\"none\" stroke=\"black\" d=\"M855.65,-341.91C855.58,-333.65 855.51,-324.86 855.43,-316.3\"/>\n<polygon fill=\"black\" stroke=\"black\" points=\"858.93,-315.99 855.35,-306.02 851.93,-316.05 858.93,-315.99\"/>\n</g>\n<!-- 26 -->\n<g id=\"node27\" class=\"node\">\n<title>26</title>\n<path fill=\"#65b3eb\" stroke=\"black\" d=\"M1049,-306C1049,-306 949,-306 949,-306 943,-306 937,-300 937,-294 937,-294 937,-235 937,-235 937,-229 943,-223 949,-223 949,-223 1049,-223 1049,-223 1055,-223 1061,-229 1061,-235 1061,-235 1061,-294 1061,-294 1061,-300 1055,-306 1049,-306\"/>\n<text text-anchor=\"middle\" x=\"999\" y=\"-290.8\" font-family=\"Helvetica,sans-Serif\" font-size=\"14.00\">Curtosis &lt;= 6.251</text>\n<text text-anchor=\"middle\" x=\"999\" y=\"-275.8\" font-family=\"Helvetica,sans-Serif\" font-size=\"14.00\">gini = 0.298</text>\n<text text-anchor=\"middle\" x=\"999\" y=\"-260.8\" font-family=\"Helvetica,sans-Serif\" font-size=\"14.00\">samples = 11</text>\n<text text-anchor=\"middle\" x=\"999\" y=\"-245.8\" font-family=\"Helvetica,sans-Serif\" font-size=\"14.00\">value = [2, 9]</text>\n<text text-anchor=\"middle\" x=\"999\" y=\"-230.8\" font-family=\"Helvetica,sans-Serif\" font-size=\"14.00\">class = 1</text>\n</g>\n<!-- 20&#45;&gt;26 -->\n<g id=\"edge26\" class=\"edge\">\n<title>20&#45;&gt;26</title>\n<path fill=\"none\" stroke=\"black\" d=\"M905.61,-341.91C917.26,-332.38 929.76,-322.15 941.71,-312.37\"/>\n<polygon fill=\"black\" stroke=\"black\" points=\"943.95,-315.06 949.47,-306.02 939.52,-309.64 943.95,-315.06\"/>\n</g>\n<!-- 22 -->\n<g id=\"node23\" class=\"node\">\n<title>22</title>\n<path fill=\"#e58139\" stroke=\"black\" d=\"M767,-179.5C767,-179.5 689,-179.5 689,-179.5 683,-179.5 677,-173.5 677,-167.5 677,-167.5 677,-123.5 677,-123.5 677,-117.5 683,-111.5 689,-111.5 689,-111.5 767,-111.5 767,-111.5 773,-111.5 779,-117.5 779,-123.5 779,-123.5 779,-167.5 779,-167.5 779,-173.5 773,-179.5 767,-179.5\"/>\n<text text-anchor=\"middle\" x=\"728\" y=\"-164.3\" font-family=\"Helvetica,sans-Serif\" font-size=\"14.00\">gini = 0.0</text>\n<text text-anchor=\"middle\" x=\"728\" y=\"-149.3\" font-family=\"Helvetica,sans-Serif\" font-size=\"14.00\">samples = 16</text>\n<text text-anchor=\"middle\" x=\"728\" y=\"-134.3\" font-family=\"Helvetica,sans-Serif\" font-size=\"14.00\">value = [16, 0]</text>\n<text text-anchor=\"middle\" x=\"728\" y=\"-119.3\" font-family=\"Helvetica,sans-Serif\" font-size=\"14.00\">class = 0</text>\n</g>\n<!-- 21&#45;&gt;22 -->\n<g id=\"edge22\" class=\"edge\">\n<title>21&#45;&gt;22</title>\n<path fill=\"none\" stroke=\"black\" d=\"M810.94,-222.91C798.12,-211.1 784.14,-198.22 771.36,-186.45\"/>\n<polygon fill=\"black\" stroke=\"black\" points=\"773.73,-183.87 764,-179.67 768.98,-189.02 773.73,-183.87\"/>\n</g>\n<!-- 23 -->\n<g id=\"node24\" class=\"node\">\n<title>23</title>\n<path fill=\"#9ccef2\" stroke=\"black\" d=\"M909,-187C909,-187 809,-187 809,-187 803,-187 797,-181 797,-175 797,-175 797,-116 797,-116 797,-110 803,-104 809,-104 809,-104 909,-104 909,-104 915,-104 921,-110 921,-116 921,-116 921,-175 921,-175 921,-181 915,-187 909,-187\"/>\n<text text-anchor=\"middle\" x=\"859\" y=\"-171.8\" font-family=\"Helvetica,sans-Serif\" font-size=\"14.00\">Curtosis &lt;= 1.509</text>\n<text text-anchor=\"middle\" x=\"859\" y=\"-156.8\" font-family=\"Helvetica,sans-Serif\" font-size=\"14.00\">gini = 0.444</text>\n<text text-anchor=\"middle\" x=\"859\" y=\"-141.8\" font-family=\"Helvetica,sans-Serif\" font-size=\"14.00\">samples = 3</text>\n<text text-anchor=\"middle\" x=\"859\" y=\"-126.8\" font-family=\"Helvetica,sans-Serif\" font-size=\"14.00\">value = [1, 2]</text>\n<text text-anchor=\"middle\" x=\"859\" y=\"-111.8\" font-family=\"Helvetica,sans-Serif\" font-size=\"14.00\">class = 1</text>\n</g>\n<!-- 21&#45;&gt;23 -->\n<g id=\"edge23\" class=\"edge\">\n<title>21&#45;&gt;23</title>\n<path fill=\"none\" stroke=\"black\" d=\"M856.39,-222.91C856.67,-214.56 856.98,-205.67 857.27,-197.02\"/>\n<polygon fill=\"black\" stroke=\"black\" points=\"860.77,-197.13 857.61,-187.02 853.77,-196.9 860.77,-197.13\"/>\n</g>\n<!-- 24 -->\n<g id=\"node25\" class=\"node\">\n<title>24</title>\n<path fill=\"#399de5\" stroke=\"black\" d=\"M838.5,-68C838.5,-68 767.5,-68 767.5,-68 761.5,-68 755.5,-62 755.5,-56 755.5,-56 755.5,-12 755.5,-12 755.5,-6 761.5,0 767.5,0 767.5,0 838.5,0 838.5,0 844.5,0 850.5,-6 850.5,-12 850.5,-12 850.5,-56 850.5,-56 850.5,-62 844.5,-68 838.5,-68\"/>\n<text text-anchor=\"middle\" x=\"803\" y=\"-52.8\" font-family=\"Helvetica,sans-Serif\" font-size=\"14.00\">gini = 0.0</text>\n<text text-anchor=\"middle\" x=\"803\" y=\"-37.8\" font-family=\"Helvetica,sans-Serif\" font-size=\"14.00\">samples = 2</text>\n<text text-anchor=\"middle\" x=\"803\" y=\"-22.8\" font-family=\"Helvetica,sans-Serif\" font-size=\"14.00\">value = [0, 2]</text>\n<text text-anchor=\"middle\" x=\"803\" y=\"-7.8\" font-family=\"Helvetica,sans-Serif\" font-size=\"14.00\">class = 1</text>\n</g>\n<!-- 23&#45;&gt;24 -->\n<g id=\"edge24\" class=\"edge\">\n<title>23&#45;&gt;24</title>\n<path fill=\"none\" stroke=\"black\" d=\"M838.15,-103.73C833.76,-95.15 829.13,-86.09 824.71,-77.46\"/>\n<polygon fill=\"black\" stroke=\"black\" points=\"827.7,-75.61 820.03,-68.3 821.47,-78.8 827.7,-75.61\"/>\n</g>\n<!-- 25 -->\n<g id=\"node26\" class=\"node\">\n<title>25</title>\n<path fill=\"#e58139\" stroke=\"black\" d=\"M951.5,-68C951.5,-68 880.5,-68 880.5,-68 874.5,-68 868.5,-62 868.5,-56 868.5,-56 868.5,-12 868.5,-12 868.5,-6 874.5,0 880.5,0 880.5,0 951.5,0 951.5,0 957.5,0 963.5,-6 963.5,-12 963.5,-12 963.5,-56 963.5,-56 963.5,-62 957.5,-68 951.5,-68\"/>\n<text text-anchor=\"middle\" x=\"916\" y=\"-52.8\" font-family=\"Helvetica,sans-Serif\" font-size=\"14.00\">gini = 0.0</text>\n<text text-anchor=\"middle\" x=\"916\" y=\"-37.8\" font-family=\"Helvetica,sans-Serif\" font-size=\"14.00\">samples = 1</text>\n<text text-anchor=\"middle\" x=\"916\" y=\"-22.8\" font-family=\"Helvetica,sans-Serif\" font-size=\"14.00\">value = [1, 0]</text>\n<text text-anchor=\"middle\" x=\"916\" y=\"-7.8\" font-family=\"Helvetica,sans-Serif\" font-size=\"14.00\">class = 0</text>\n</g>\n<!-- 23&#45;&gt;25 -->\n<g id=\"edge25\" class=\"edge\">\n<title>23&#45;&gt;25</title>\n<path fill=\"none\" stroke=\"black\" d=\"M880.22,-103.73C884.74,-95.06 889.51,-85.9 894.04,-77.18\"/>\n<polygon fill=\"black\" stroke=\"black\" points=\"897.15,-78.79 898.67,-68.3 890.94,-75.55 897.15,-78.79\"/>\n</g>\n<!-- 27 -->\n<g id=\"node28\" class=\"node\">\n<title>27</title>\n<path fill=\"#399de5\" stroke=\"black\" d=\"M1030.5,-179.5C1030.5,-179.5 959.5,-179.5 959.5,-179.5 953.5,-179.5 947.5,-173.5 947.5,-167.5 947.5,-167.5 947.5,-123.5 947.5,-123.5 947.5,-117.5 953.5,-111.5 959.5,-111.5 959.5,-111.5 1030.5,-111.5 1030.5,-111.5 1036.5,-111.5 1042.5,-117.5 1042.5,-123.5 1042.5,-123.5 1042.5,-167.5 1042.5,-167.5 1042.5,-173.5 1036.5,-179.5 1030.5,-179.5\"/>\n<text text-anchor=\"middle\" x=\"995\" y=\"-164.3\" font-family=\"Helvetica,sans-Serif\" font-size=\"14.00\">gini = 0.0</text>\n<text text-anchor=\"middle\" x=\"995\" y=\"-149.3\" font-family=\"Helvetica,sans-Serif\" font-size=\"14.00\">samples = 9</text>\n<text text-anchor=\"middle\" x=\"995\" y=\"-134.3\" font-family=\"Helvetica,sans-Serif\" font-size=\"14.00\">value = [0, 9]</text>\n<text text-anchor=\"middle\" x=\"995\" y=\"-119.3\" font-family=\"Helvetica,sans-Serif\" font-size=\"14.00\">class = 1</text>\n</g>\n<!-- 26&#45;&gt;27 -->\n<g id=\"edge27\" class=\"edge\">\n<title>26&#45;&gt;27</title>\n<path fill=\"none\" stroke=\"black\" d=\"M997.61,-222.91C997.25,-212.2 996.85,-200.62 996.48,-189.78\"/>\n<polygon fill=\"black\" stroke=\"black\" points=\"999.97,-189.54 996.13,-179.67 992.98,-189.78 999.97,-189.54\"/>\n</g>\n<!-- 28 -->\n<g id=\"node29\" class=\"node\">\n<title>28</title>\n<path fill=\"#e58139\" stroke=\"black\" d=\"M1143.5,-179.5C1143.5,-179.5 1072.5,-179.5 1072.5,-179.5 1066.5,-179.5 1060.5,-173.5 1060.5,-167.5 1060.5,-167.5 1060.5,-123.5 1060.5,-123.5 1060.5,-117.5 1066.5,-111.5 1072.5,-111.5 1072.5,-111.5 1143.5,-111.5 1143.5,-111.5 1149.5,-111.5 1155.5,-117.5 1155.5,-123.5 1155.5,-123.5 1155.5,-167.5 1155.5,-167.5 1155.5,-173.5 1149.5,-179.5 1143.5,-179.5\"/>\n<text text-anchor=\"middle\" x=\"1108\" y=\"-164.3\" font-family=\"Helvetica,sans-Serif\" font-size=\"14.00\">gini = 0.0</text>\n<text text-anchor=\"middle\" x=\"1108\" y=\"-149.3\" font-family=\"Helvetica,sans-Serif\" font-size=\"14.00\">samples = 2</text>\n<text text-anchor=\"middle\" x=\"1108\" y=\"-134.3\" font-family=\"Helvetica,sans-Serif\" font-size=\"14.00\">value = [2, 0]</text>\n<text text-anchor=\"middle\" x=\"1108\" y=\"-119.3\" font-family=\"Helvetica,sans-Serif\" font-size=\"14.00\">class = 0</text>\n</g>\n<!-- 26&#45;&gt;28 -->\n<g id=\"edge28\" class=\"edge\">\n<title>26&#45;&gt;28</title>\n<path fill=\"none\" stroke=\"black\" d=\"M1036.82,-222.91C1047.61,-211.32 1059.37,-198.7 1070.17,-187.11\"/>\n<polygon fill=\"black\" stroke=\"black\" points=\"1072.85,-189.37 1077.1,-179.67 1067.72,-184.6 1072.85,-189.37\"/>\n</g>\n<!-- 30 -->\n<g id=\"node31\" class=\"node\">\n<title>30</title>\n<path fill=\"#399de5\" stroke=\"black\" d=\"M891,-536.5C891,-536.5 813,-536.5 813,-536.5 807,-536.5 801,-530.5 801,-524.5 801,-524.5 801,-480.5 801,-480.5 801,-474.5 807,-468.5 813,-468.5 813,-468.5 891,-468.5 891,-468.5 897,-468.5 903,-474.5 903,-480.5 903,-480.5 903,-524.5 903,-524.5 903,-530.5 897,-536.5 891,-536.5\"/>\n<text text-anchor=\"middle\" x=\"852\" y=\"-521.3\" font-family=\"Helvetica,sans-Serif\" font-size=\"14.00\">gini = 0.0</text>\n<text text-anchor=\"middle\" x=\"852\" y=\"-506.3\" font-family=\"Helvetica,sans-Serif\" font-size=\"14.00\">samples = 16</text>\n<text text-anchor=\"middle\" x=\"852\" y=\"-491.3\" font-family=\"Helvetica,sans-Serif\" font-size=\"14.00\">value = [0, 16]</text>\n<text text-anchor=\"middle\" x=\"852\" y=\"-476.3\" font-family=\"Helvetica,sans-Serif\" font-size=\"14.00\">class = 1</text>\n</g>\n<!-- 29&#45;&gt;30 -->\n<g id=\"edge30\" class=\"edge\">\n<title>29&#45;&gt;30</title>\n<path fill=\"none\" stroke=\"black\" d=\"M891.84,-579.91C886.08,-568.87 879.84,-556.9 874.04,-545.77\"/>\n<polygon fill=\"black\" stroke=\"black\" points=\"877.02,-543.92 869.29,-536.67 870.81,-547.15 877.02,-543.92\"/>\n</g>\n<!-- 31 -->\n<g id=\"node32\" class=\"node\">\n<title>31</title>\n<path fill=\"#e58139\" stroke=\"black\" d=\"M1011,-536.5C1011,-536.5 933,-536.5 933,-536.5 927,-536.5 921,-530.5 921,-524.5 921,-524.5 921,-480.5 921,-480.5 921,-474.5 927,-468.5 933,-468.5 933,-468.5 1011,-468.5 1011,-468.5 1017,-468.5 1023,-474.5 1023,-480.5 1023,-480.5 1023,-524.5 1023,-524.5 1023,-530.5 1017,-536.5 1011,-536.5\"/>\n<text text-anchor=\"middle\" x=\"972\" y=\"-521.3\" font-family=\"Helvetica,sans-Serif\" font-size=\"14.00\">gini = 0.0</text>\n<text text-anchor=\"middle\" x=\"972\" y=\"-506.3\" font-family=\"Helvetica,sans-Serif\" font-size=\"14.00\">samples = 76</text>\n<text text-anchor=\"middle\" x=\"972\" y=\"-491.3\" font-family=\"Helvetica,sans-Serif\" font-size=\"14.00\">value = [76, 0]</text>\n<text text-anchor=\"middle\" x=\"972\" y=\"-476.3\" font-family=\"Helvetica,sans-Serif\" font-size=\"14.00\">class = 0</text>\n</g>\n<!-- 29&#45;&gt;31 -->\n<g id=\"edge31\" class=\"edge\">\n<title>29&#45;&gt;31</title>\n<path fill=\"none\" stroke=\"black\" d=\"M933.47,-579.91C939.03,-568.87 945.07,-556.9 950.68,-545.77\"/>\n<polygon fill=\"black\" stroke=\"black\" points=\"953.9,-547.17 955.27,-536.67 947.65,-544.02 953.9,-547.17\"/>\n</g>\n<!-- 33 -->\n<g id=\"node34\" class=\"node\">\n<title>33</title>\n<path fill=\"#69b5eb\" stroke=\"black\" d=\"M1245.5,-663C1245.5,-663 1142.5,-663 1142.5,-663 1136.5,-663 1130.5,-657 1130.5,-651 1130.5,-651 1130.5,-592 1130.5,-592 1130.5,-586 1136.5,-580 1142.5,-580 1142.5,-580 1245.5,-580 1245.5,-580 1251.5,-580 1257.5,-586 1257.5,-592 1257.5,-592 1257.5,-651 1257.5,-651 1257.5,-657 1251.5,-663 1245.5,-663\"/>\n<text text-anchor=\"middle\" x=\"1194\" y=\"-647.8\" font-family=\"Helvetica,sans-Serif\" font-size=\"14.00\">Variance &lt;= 3.399</text>\n<text text-anchor=\"middle\" x=\"1194\" y=\"-632.8\" font-family=\"Helvetica,sans-Serif\" font-size=\"14.00\">gini = 0.313</text>\n<text text-anchor=\"middle\" x=\"1194\" y=\"-617.8\" font-family=\"Helvetica,sans-Serif\" font-size=\"14.00\">samples = 36</text>\n<text text-anchor=\"middle\" x=\"1194\" y=\"-602.8\" font-family=\"Helvetica,sans-Serif\" font-size=\"14.00\">value = [7, 29]</text>\n<text text-anchor=\"middle\" x=\"1194\" y=\"-587.8\" font-family=\"Helvetica,sans-Serif\" font-size=\"14.00\">class = 1</text>\n</g>\n<!-- 32&#45;&gt;33 -->\n<g id=\"edge33\" class=\"edge\">\n<title>32&#45;&gt;33</title>\n<path fill=\"none\" stroke=\"black\" d=\"M1194,-698.91C1194,-690.65 1194,-681.86 1194,-673.3\"/>\n<polygon fill=\"black\" stroke=\"black\" points=\"1197.5,-673.02 1194,-663.02 1190.5,-673.02 1197.5,-673.02\"/>\n</g>\n<!-- 36 -->\n<g id=\"node37\" class=\"node\">\n<title>36</title>\n<path fill=\"#e78a48\" stroke=\"black\" d=\"M1441.5,-663C1441.5,-663 1338.5,-663 1338.5,-663 1332.5,-663 1326.5,-657 1326.5,-651 1326.5,-651 1326.5,-592 1326.5,-592 1326.5,-586 1332.5,-580 1338.5,-580 1338.5,-580 1441.5,-580 1441.5,-580 1447.5,-580 1453.5,-586 1453.5,-592 1453.5,-592 1453.5,-651 1453.5,-651 1453.5,-657 1447.5,-663 1441.5,-663\"/>\n<text text-anchor=\"middle\" x=\"1390\" y=\"-647.8\" font-family=\"Helvetica,sans-Serif\" font-size=\"14.00\">Variance &lt;= 1.592</text>\n<text text-anchor=\"middle\" x=\"1390\" y=\"-632.8\" font-family=\"Helvetica,sans-Serif\" font-size=\"14.00\">gini = 0.129</text>\n<text text-anchor=\"middle\" x=\"1390\" y=\"-617.8\" font-family=\"Helvetica,sans-Serif\" font-size=\"14.00\">samples = 606</text>\n<text text-anchor=\"middle\" x=\"1390\" y=\"-602.8\" font-family=\"Helvetica,sans-Serif\" font-size=\"14.00\">value = [564, 42]</text>\n<text text-anchor=\"middle\" x=\"1390\" y=\"-587.8\" font-family=\"Helvetica,sans-Serif\" font-size=\"14.00\">class = 0</text>\n</g>\n<!-- 32&#45;&gt;36 -->\n<g id=\"edge36\" class=\"edge\">\n<title>32&#45;&gt;36</title>\n<path fill=\"none\" stroke=\"black\" d=\"M1258.18,-701.19C1277.15,-689.86 1298.06,-677.38 1317.52,-665.77\"/>\n<polygon fill=\"black\" stroke=\"black\" points=\"1319.55,-668.63 1326.35,-660.5 1315.97,-662.62 1319.55,-668.63\"/>\n</g>\n<!-- 34 -->\n<g id=\"node35\" class=\"node\">\n<title>34</title>\n<path fill=\"#399de5\" stroke=\"black\" d=\"M1165,-536.5C1165,-536.5 1087,-536.5 1087,-536.5 1081,-536.5 1075,-530.5 1075,-524.5 1075,-524.5 1075,-480.5 1075,-480.5 1075,-474.5 1081,-468.5 1087,-468.5 1087,-468.5 1165,-468.5 1165,-468.5 1171,-468.5 1177,-474.5 1177,-480.5 1177,-480.5 1177,-524.5 1177,-524.5 1177,-530.5 1171,-536.5 1165,-536.5\"/>\n<text text-anchor=\"middle\" x=\"1126\" y=\"-521.3\" font-family=\"Helvetica,sans-Serif\" font-size=\"14.00\">gini = 0.0</text>\n<text text-anchor=\"middle\" x=\"1126\" y=\"-506.3\" font-family=\"Helvetica,sans-Serif\" font-size=\"14.00\">samples = 29</text>\n<text text-anchor=\"middle\" x=\"1126\" y=\"-491.3\" font-family=\"Helvetica,sans-Serif\" font-size=\"14.00\">value = [0, 29]</text>\n<text text-anchor=\"middle\" x=\"1126\" y=\"-476.3\" font-family=\"Helvetica,sans-Serif\" font-size=\"14.00\">class = 1</text>\n</g>\n<!-- 33&#45;&gt;34 -->\n<g id=\"edge34\" class=\"edge\">\n<title>33&#45;&gt;34</title>\n<path fill=\"none\" stroke=\"black\" d=\"M1170.41,-579.91C1163.93,-568.76 1156.9,-556.66 1150.37,-545.44\"/>\n<polygon fill=\"black\" stroke=\"black\" points=\"1153.33,-543.55 1145.28,-536.67 1147.28,-547.07 1153.33,-543.55\"/>\n</g>\n<!-- 35 -->\n<g id=\"node36\" class=\"node\">\n<title>35</title>\n<path fill=\"#e58139\" stroke=\"black\" d=\"M1278.5,-536.5C1278.5,-536.5 1207.5,-536.5 1207.5,-536.5 1201.5,-536.5 1195.5,-530.5 1195.5,-524.5 1195.5,-524.5 1195.5,-480.5 1195.5,-480.5 1195.5,-474.5 1201.5,-468.5 1207.5,-468.5 1207.5,-468.5 1278.5,-468.5 1278.5,-468.5 1284.5,-468.5 1290.5,-474.5 1290.5,-480.5 1290.5,-480.5 1290.5,-524.5 1290.5,-524.5 1290.5,-530.5 1284.5,-536.5 1278.5,-536.5\"/>\n<text text-anchor=\"middle\" x=\"1243\" y=\"-521.3\" font-family=\"Helvetica,sans-Serif\" font-size=\"14.00\">gini = 0.0</text>\n<text text-anchor=\"middle\" x=\"1243\" y=\"-506.3\" font-family=\"Helvetica,sans-Serif\" font-size=\"14.00\">samples = 7</text>\n<text text-anchor=\"middle\" x=\"1243\" y=\"-491.3\" font-family=\"Helvetica,sans-Serif\" font-size=\"14.00\">value = [7, 0]</text>\n<text text-anchor=\"middle\" x=\"1243\" y=\"-476.3\" font-family=\"Helvetica,sans-Serif\" font-size=\"14.00\">class = 0</text>\n</g>\n<!-- 33&#45;&gt;35 -->\n<g id=\"edge35\" class=\"edge\">\n<title>33&#45;&gt;35</title>\n<path fill=\"none\" stroke=\"black\" d=\"M1211,-579.91C1215.58,-568.98 1220.54,-557.14 1225.16,-546.11\"/>\n<polygon fill=\"black\" stroke=\"black\" points=\"1228.47,-547.24 1229.11,-536.67 1222.02,-544.54 1228.47,-547.24\"/>\n</g>\n<!-- 37 -->\n<g id=\"node38\" class=\"node\">\n<title>37</title>\n<path fill=\"#eda978\" stroke=\"black\" d=\"M1442,-544C1442,-544 1338,-544 1338,-544 1332,-544 1326,-538 1326,-532 1326,-532 1326,-473 1326,-473 1326,-467 1332,-461 1338,-461 1338,-461 1442,-461 1442,-461 1448,-461 1454,-467 1454,-473 1454,-473 1454,-532 1454,-532 1454,-538 1448,-544 1442,-544\"/>\n<text text-anchor=\"middle\" x=\"1390\" y=\"-528.8\" font-family=\"Helvetica,sans-Serif\" font-size=\"14.00\">Curtosis &lt;= &#45;2.272</text>\n<text text-anchor=\"middle\" x=\"1390\" y=\"-513.8\" font-family=\"Helvetica,sans-Serif\" font-size=\"14.00\">gini = 0.367</text>\n<text text-anchor=\"middle\" x=\"1390\" y=\"-498.8\" font-family=\"Helvetica,sans-Serif\" font-size=\"14.00\">samples = 161</text>\n<text text-anchor=\"middle\" x=\"1390\" y=\"-483.8\" font-family=\"Helvetica,sans-Serif\" font-size=\"14.00\">value = [122, 39]</text>\n<text text-anchor=\"middle\" x=\"1390\" y=\"-468.8\" font-family=\"Helvetica,sans-Serif\" font-size=\"14.00\">class = 0</text>\n</g>\n<!-- 36&#45;&gt;37 -->\n<g id=\"edge37\" class=\"edge\">\n<title>36&#45;&gt;37</title>\n<path fill=\"none\" stroke=\"black\" d=\"M1390,-579.91C1390,-571.65 1390,-562.86 1390,-554.3\"/>\n<polygon fill=\"black\" stroke=\"black\" points=\"1393.5,-554.02 1390,-544.02 1386.5,-554.02 1393.5,-554.02\"/>\n</g>\n<!-- 48 -->\n<g id=\"node49\" class=\"node\">\n<title>48</title>\n<path fill=\"#e5823a\" stroke=\"black\" d=\"M1697.5,-544C1697.5,-544 1594.5,-544 1594.5,-544 1588.5,-544 1582.5,-538 1582.5,-532 1582.5,-532 1582.5,-473 1582.5,-473 1582.5,-467 1588.5,-461 1594.5,-461 1594.5,-461 1697.5,-461 1697.5,-461 1703.5,-461 1709.5,-467 1709.5,-473 1709.5,-473 1709.5,-532 1709.5,-532 1709.5,-538 1703.5,-544 1697.5,-544\"/>\n<text text-anchor=\"middle\" x=\"1646\" y=\"-528.8\" font-family=\"Helvetica,sans-Serif\" font-size=\"14.00\">Variance &lt;= 2.037</text>\n<text text-anchor=\"middle\" x=\"1646\" y=\"-513.8\" font-family=\"Helvetica,sans-Serif\" font-size=\"14.00\">gini = 0.013</text>\n<text text-anchor=\"middle\" x=\"1646\" y=\"-498.8\" font-family=\"Helvetica,sans-Serif\" font-size=\"14.00\">samples = 445</text>\n<text text-anchor=\"middle\" x=\"1646\" y=\"-483.8\" font-family=\"Helvetica,sans-Serif\" font-size=\"14.00\">value = [442, 3]</text>\n<text text-anchor=\"middle\" x=\"1646\" y=\"-468.8\" font-family=\"Helvetica,sans-Serif\" font-size=\"14.00\">class = 0</text>\n</g>\n<!-- 36&#45;&gt;48 -->\n<g id=\"edge48\" class=\"edge\">\n<title>36&#45;&gt;48</title>\n<path fill=\"none\" stroke=\"black\" d=\"M1453.61,-591.43C1489.79,-574.89 1535.24,-554.12 1572.88,-536.92\"/>\n<polygon fill=\"black\" stroke=\"black\" points=\"1574.63,-539.96 1582.27,-532.62 1571.72,-533.6 1574.63,-539.96\"/>\n</g>\n<!-- 38 -->\n<g id=\"node39\" class=\"node\">\n<title>38</title>\n<path fill=\"#54aae9\" stroke=\"black\" d=\"M1301,-425C1301,-425 1189,-425 1189,-425 1183,-425 1177,-419 1177,-413 1177,-413 1177,-354 1177,-354 1177,-348 1183,-342 1189,-342 1189,-342 1301,-342 1301,-342 1307,-342 1313,-348 1313,-354 1313,-354 1313,-413 1313,-413 1313,-419 1307,-425 1301,-425\"/>\n<text text-anchor=\"middle\" x=\"1245\" y=\"-409.8\" font-family=\"Helvetica,sans-Serif\" font-size=\"14.00\">Skewness &lt;= 5.667</text>\n<text text-anchor=\"middle\" x=\"1245\" y=\"-394.8\" font-family=\"Helvetica,sans-Serif\" font-size=\"14.00\">gini = 0.211</text>\n<text text-anchor=\"middle\" x=\"1245\" y=\"-379.8\" font-family=\"Helvetica,sans-Serif\" font-size=\"14.00\">samples = 25</text>\n<text text-anchor=\"middle\" x=\"1245\" y=\"-364.8\" font-family=\"Helvetica,sans-Serif\" font-size=\"14.00\">value = [3, 22]</text>\n<text text-anchor=\"middle\" x=\"1245\" y=\"-349.8\" font-family=\"Helvetica,sans-Serif\" font-size=\"14.00\">class = 1</text>\n</g>\n<!-- 37&#45;&gt;38 -->\n<g id=\"edge38\" class=\"edge\">\n<title>37&#45;&gt;38</title>\n<path fill=\"none\" stroke=\"black\" d=\"M1339.69,-460.91C1327.88,-451.38 1315.21,-441.15 1303.09,-431.37\"/>\n<polygon fill=\"black\" stroke=\"black\" points=\"1305.2,-428.58 1295.22,-425.02 1300.8,-434.02 1305.2,-428.58\"/>\n</g>\n<!-- 41 -->\n<g id=\"node42\" class=\"node\">\n<title>41</title>\n<path fill=\"#e99355\" stroke=\"black\" d=\"M1440.5,-425C1440.5,-425 1343.5,-425 1343.5,-425 1337.5,-425 1331.5,-419 1331.5,-413 1331.5,-413 1331.5,-354 1331.5,-354 1331.5,-348 1337.5,-342 1343.5,-342 1343.5,-342 1440.5,-342 1440.5,-342 1446.5,-342 1452.5,-348 1452.5,-354 1452.5,-354 1452.5,-413 1452.5,-413 1452.5,-419 1446.5,-425 1440.5,-425\"/>\n<text text-anchor=\"middle\" x=\"1392\" y=\"-409.8\" font-family=\"Helvetica,sans-Serif\" font-size=\"14.00\">Entropy &lt;= 0.082</text>\n<text text-anchor=\"middle\" x=\"1392\" y=\"-394.8\" font-family=\"Helvetica,sans-Serif\" font-size=\"14.00\">gini = 0.219</text>\n<text text-anchor=\"middle\" x=\"1392\" y=\"-379.8\" font-family=\"Helvetica,sans-Serif\" font-size=\"14.00\">samples = 136</text>\n<text text-anchor=\"middle\" x=\"1392\" y=\"-364.8\" font-family=\"Helvetica,sans-Serif\" font-size=\"14.00\">value = [119, 17]</text>\n<text text-anchor=\"middle\" x=\"1392\" y=\"-349.8\" font-family=\"Helvetica,sans-Serif\" font-size=\"14.00\">class = 0</text>\n</g>\n<!-- 37&#45;&gt;41 -->\n<g id=\"edge41\" class=\"edge\">\n<title>37&#45;&gt;41</title>\n<path fill=\"none\" stroke=\"black\" d=\"M1390.69,-460.91C1390.84,-452.56 1390.99,-443.67 1391.14,-435.02\"/>\n<polygon fill=\"black\" stroke=\"black\" points=\"1394.64,-435.08 1391.31,-425.02 1387.64,-434.96 1394.64,-435.08\"/>\n</g>\n<!-- 39 -->\n<g id=\"node40\" class=\"node\">\n<title>39</title>\n<path fill=\"#399de5\" stroke=\"black\" d=\"M1169,-298.5C1169,-298.5 1091,-298.5 1091,-298.5 1085,-298.5 1079,-292.5 1079,-286.5 1079,-286.5 1079,-242.5 1079,-242.5 1079,-236.5 1085,-230.5 1091,-230.5 1091,-230.5 1169,-230.5 1169,-230.5 1175,-230.5 1181,-236.5 1181,-242.5 1181,-242.5 1181,-286.5 1181,-286.5 1181,-292.5 1175,-298.5 1169,-298.5\"/>\n<text text-anchor=\"middle\" x=\"1130\" y=\"-283.3\" font-family=\"Helvetica,sans-Serif\" font-size=\"14.00\">gini = 0.0</text>\n<text text-anchor=\"middle\" x=\"1130\" y=\"-268.3\" font-family=\"Helvetica,sans-Serif\" font-size=\"14.00\">samples = 22</text>\n<text text-anchor=\"middle\" x=\"1130\" y=\"-253.3\" font-family=\"Helvetica,sans-Serif\" font-size=\"14.00\">value = [0, 22]</text>\n<text text-anchor=\"middle\" x=\"1130\" y=\"-238.3\" font-family=\"Helvetica,sans-Serif\" font-size=\"14.00\">class = 1</text>\n</g>\n<!-- 38&#45;&gt;39 -->\n<g id=\"edge39\" class=\"edge\">\n<title>38&#45;&gt;39</title>\n<path fill=\"none\" stroke=\"black\" d=\"M1205.1,-341.91C1193.71,-330.32 1181.31,-317.7 1169.92,-306.11\"/>\n<polygon fill=\"black\" stroke=\"black\" points=\"1172.11,-303.35 1162.6,-298.67 1167.11,-308.25 1172.11,-303.35\"/>\n</g>\n<!-- 40 -->\n<g id=\"node41\" class=\"node\">\n<title>40</title>\n<path fill=\"#e58139\" stroke=\"black\" d=\"M1282.5,-298.5C1282.5,-298.5 1211.5,-298.5 1211.5,-298.5 1205.5,-298.5 1199.5,-292.5 1199.5,-286.5 1199.5,-286.5 1199.5,-242.5 1199.5,-242.5 1199.5,-236.5 1205.5,-230.5 1211.5,-230.5 1211.5,-230.5 1282.5,-230.5 1282.5,-230.5 1288.5,-230.5 1294.5,-236.5 1294.5,-242.5 1294.5,-242.5 1294.5,-286.5 1294.5,-286.5 1294.5,-292.5 1288.5,-298.5 1282.5,-298.5\"/>\n<text text-anchor=\"middle\" x=\"1247\" y=\"-283.3\" font-family=\"Helvetica,sans-Serif\" font-size=\"14.00\">gini = 0.0</text>\n<text text-anchor=\"middle\" x=\"1247\" y=\"-268.3\" font-family=\"Helvetica,sans-Serif\" font-size=\"14.00\">samples = 3</text>\n<text text-anchor=\"middle\" x=\"1247\" y=\"-253.3\" font-family=\"Helvetica,sans-Serif\" font-size=\"14.00\">value = [3, 0]</text>\n<text text-anchor=\"middle\" x=\"1247\" y=\"-238.3\" font-family=\"Helvetica,sans-Serif\" font-size=\"14.00\">class = 0</text>\n</g>\n<!-- 38&#45;&gt;40 -->\n<g id=\"edge40\" class=\"edge\">\n<title>38&#45;&gt;40</title>\n<path fill=\"none\" stroke=\"black\" d=\"M1245.69,-341.91C1245.88,-331.2 1246.07,-319.62 1246.26,-308.78\"/>\n<polygon fill=\"black\" stroke=\"black\" points=\"1249.76,-308.73 1246.43,-298.67 1242.76,-308.61 1249.76,-308.73\"/>\n</g>\n<!-- 42 -->\n<g id=\"node43\" class=\"node\">\n<title>42</title>\n<path fill=\"#e58139\" stroke=\"black\" d=\"M1411,-298.5C1411,-298.5 1325,-298.5 1325,-298.5 1319,-298.5 1313,-292.5 1313,-286.5 1313,-286.5 1313,-242.5 1313,-242.5 1313,-236.5 1319,-230.5 1325,-230.5 1325,-230.5 1411,-230.5 1411,-230.5 1417,-230.5 1423,-236.5 1423,-242.5 1423,-242.5 1423,-286.5 1423,-286.5 1423,-292.5 1417,-298.5 1411,-298.5\"/>\n<text text-anchor=\"middle\" x=\"1368\" y=\"-283.3\" font-family=\"Helvetica,sans-Serif\" font-size=\"14.00\">gini = 0.0</text>\n<text text-anchor=\"middle\" x=\"1368\" y=\"-268.3\" font-family=\"Helvetica,sans-Serif\" font-size=\"14.00\">samples = 101</text>\n<text text-anchor=\"middle\" x=\"1368\" y=\"-253.3\" font-family=\"Helvetica,sans-Serif\" font-size=\"14.00\">value = [101, 0]</text>\n<text text-anchor=\"middle\" x=\"1368\" y=\"-238.3\" font-family=\"Helvetica,sans-Serif\" font-size=\"14.00\">class = 0</text>\n</g>\n<!-- 41&#45;&gt;42 -->\n<g id=\"edge42\" class=\"edge\">\n<title>41&#45;&gt;42</title>\n<path fill=\"none\" stroke=\"black\" d=\"M1383.67,-341.91C1381.48,-331.2 1379.1,-319.62 1376.88,-308.78\"/>\n<polygon fill=\"black\" stroke=\"black\" points=\"1380.24,-307.76 1374.8,-298.67 1373.38,-309.17 1380.24,-307.76\"/>\n</g>\n<!-- 43 -->\n<g id=\"node44\" class=\"node\">\n<title>43</title>\n<path fill=\"#fef8f4\" stroke=\"black\" d=\"M1553,-306C1553,-306 1453,-306 1453,-306 1447,-306 1441,-300 1441,-294 1441,-294 1441,-235 1441,-235 1441,-229 1447,-223 1453,-223 1453,-223 1553,-223 1553,-223 1559,-223 1565,-229 1565,-235 1565,-235 1565,-294 1565,-294 1565,-300 1559,-306 1553,-306\"/>\n<text text-anchor=\"middle\" x=\"1503\" y=\"-290.8\" font-family=\"Helvetica,sans-Serif\" font-size=\"14.00\">Curtosis &lt;= 1.853</text>\n<text text-anchor=\"middle\" x=\"1503\" y=\"-275.8\" font-family=\"Helvetica,sans-Serif\" font-size=\"14.00\">gini = 0.5</text>\n<text text-anchor=\"middle\" x=\"1503\" y=\"-260.8\" font-family=\"Helvetica,sans-Serif\" font-size=\"14.00\">samples = 35</text>\n<text text-anchor=\"middle\" x=\"1503\" y=\"-245.8\" font-family=\"Helvetica,sans-Serif\" font-size=\"14.00\">value = [18, 17]</text>\n<text text-anchor=\"middle\" x=\"1503\" y=\"-230.8\" font-family=\"Helvetica,sans-Serif\" font-size=\"14.00\">class = 0</text>\n</g>\n<!-- 41&#45;&gt;43 -->\n<g id=\"edge43\" class=\"edge\">\n<title>41&#45;&gt;43</title>\n<path fill=\"none\" stroke=\"black\" d=\"M1430.51,-341.91C1439.21,-332.74 1448.52,-322.93 1457.47,-313.49\"/>\n<polygon fill=\"black\" stroke=\"black\" points=\"1460.21,-315.68 1464.56,-306.02 1455.14,-310.87 1460.21,-315.68\"/>\n</g>\n<!-- 44 -->\n<g id=\"node45\" class=\"node\">\n<title>44</title>\n<path fill=\"#50a9e8\" stroke=\"black\" d=\"M1428,-187C1428,-187 1316,-187 1316,-187 1310,-187 1304,-181 1304,-175 1304,-175 1304,-116 1304,-116 1304,-110 1310,-104 1316,-104 1316,-104 1428,-104 1428,-104 1434,-104 1440,-110 1440,-116 1440,-116 1440,-175 1440,-175 1440,-181 1434,-187 1428,-187\"/>\n<text text-anchor=\"middle\" x=\"1372\" y=\"-171.8\" font-family=\"Helvetica,sans-Serif\" font-size=\"14.00\">Skewness &lt;= 3.559</text>\n<text text-anchor=\"middle\" x=\"1372\" y=\"-156.8\" font-family=\"Helvetica,sans-Serif\" font-size=\"14.00\">gini = 0.188</text>\n<text text-anchor=\"middle\" x=\"1372\" y=\"-141.8\" font-family=\"Helvetica,sans-Serif\" font-size=\"14.00\">samples = 19</text>\n<text text-anchor=\"middle\" x=\"1372\" y=\"-126.8\" font-family=\"Helvetica,sans-Serif\" font-size=\"14.00\">value = [2, 17]</text>\n<text text-anchor=\"middle\" x=\"1372\" y=\"-111.8\" font-family=\"Helvetica,sans-Serif\" font-size=\"14.00\">class = 1</text>\n</g>\n<!-- 43&#45;&gt;44 -->\n<g id=\"edge44\" class=\"edge\">\n<title>43&#45;&gt;44</title>\n<path fill=\"none\" stroke=\"black\" d=\"M1457.55,-222.91C1447.08,-213.56 1435.86,-203.54 1425.1,-193.93\"/>\n<polygon fill=\"black\" stroke=\"black\" points=\"1427.16,-191.07 1417.37,-187.02 1422.5,-196.29 1427.16,-191.07\"/>\n</g>\n<!-- 47 -->\n<g id=\"node48\" class=\"node\">\n<title>47</title>\n<path fill=\"#e58139\" stroke=\"black\" d=\"M1548,-179.5C1548,-179.5 1470,-179.5 1470,-179.5 1464,-179.5 1458,-173.5 1458,-167.5 1458,-167.5 1458,-123.5 1458,-123.5 1458,-117.5 1464,-111.5 1470,-111.5 1470,-111.5 1548,-111.5 1548,-111.5 1554,-111.5 1560,-117.5 1560,-123.5 1560,-123.5 1560,-167.5 1560,-167.5 1560,-173.5 1554,-179.5 1548,-179.5\"/>\n<text text-anchor=\"middle\" x=\"1509\" y=\"-164.3\" font-family=\"Helvetica,sans-Serif\" font-size=\"14.00\">gini = 0.0</text>\n<text text-anchor=\"middle\" x=\"1509\" y=\"-149.3\" font-family=\"Helvetica,sans-Serif\" font-size=\"14.00\">samples = 16</text>\n<text text-anchor=\"middle\" x=\"1509\" y=\"-134.3\" font-family=\"Helvetica,sans-Serif\" font-size=\"14.00\">value = [16, 0]</text>\n<text text-anchor=\"middle\" x=\"1509\" y=\"-119.3\" font-family=\"Helvetica,sans-Serif\" font-size=\"14.00\">class = 0</text>\n</g>\n<!-- 43&#45;&gt;47 -->\n<g id=\"edge47\" class=\"edge\">\n<title>43&#45;&gt;47</title>\n<path fill=\"none\" stroke=\"black\" d=\"M1505.08,-222.91C1505.63,-212.2 1506.22,-200.62 1506.78,-189.78\"/>\n<polygon fill=\"black\" stroke=\"black\" points=\"1510.28,-189.83 1507.3,-179.67 1503.29,-189.47 1510.28,-189.83\"/>\n</g>\n<!-- 45 -->\n<g id=\"node46\" class=\"node\">\n<title>45</title>\n<path fill=\"#399de5\" stroke=\"black\" d=\"M1352,-68C1352,-68 1274,-68 1274,-68 1268,-68 1262,-62 1262,-56 1262,-56 1262,-12 1262,-12 1262,-6 1268,0 1274,0 1274,0 1352,0 1352,0 1358,0 1364,-6 1364,-12 1364,-12 1364,-56 1364,-56 1364,-62 1358,-68 1352,-68\"/>\n<text text-anchor=\"middle\" x=\"1313\" y=\"-52.8\" font-family=\"Helvetica,sans-Serif\" font-size=\"14.00\">gini = 0.0</text>\n<text text-anchor=\"middle\" x=\"1313\" y=\"-37.8\" font-family=\"Helvetica,sans-Serif\" font-size=\"14.00\">samples = 17</text>\n<text text-anchor=\"middle\" x=\"1313\" y=\"-22.8\" font-family=\"Helvetica,sans-Serif\" font-size=\"14.00\">value = [0, 17]</text>\n<text text-anchor=\"middle\" x=\"1313\" y=\"-7.8\" font-family=\"Helvetica,sans-Serif\" font-size=\"14.00\">class = 1</text>\n</g>\n<!-- 44&#45;&gt;45 -->\n<g id=\"edge45\" class=\"edge\">\n<title>44&#45;&gt;45</title>\n<path fill=\"none\" stroke=\"black\" d=\"M1350.03,-103.73C1345.36,-95.06 1340.42,-85.9 1335.73,-77.18\"/>\n<polygon fill=\"black\" stroke=\"black\" points=\"1338.77,-75.44 1330.94,-68.3 1332.6,-78.76 1338.77,-75.44\"/>\n</g>\n<!-- 46 -->\n<g id=\"node47\" class=\"node\">\n<title>46</title>\n<path fill=\"#e58139\" stroke=\"black\" d=\"M1465.5,-68C1465.5,-68 1394.5,-68 1394.5,-68 1388.5,-68 1382.5,-62 1382.5,-56 1382.5,-56 1382.5,-12 1382.5,-12 1382.5,-6 1388.5,0 1394.5,0 1394.5,0 1465.5,0 1465.5,0 1471.5,0 1477.5,-6 1477.5,-12 1477.5,-12 1477.5,-56 1477.5,-56 1477.5,-62 1471.5,-68 1465.5,-68\"/>\n<text text-anchor=\"middle\" x=\"1430\" y=\"-52.8\" font-family=\"Helvetica,sans-Serif\" font-size=\"14.00\">gini = 0.0</text>\n<text text-anchor=\"middle\" x=\"1430\" y=\"-37.8\" font-family=\"Helvetica,sans-Serif\" font-size=\"14.00\">samples = 2</text>\n<text text-anchor=\"middle\" x=\"1430\" y=\"-22.8\" font-family=\"Helvetica,sans-Serif\" font-size=\"14.00\">value = [2, 0]</text>\n<text text-anchor=\"middle\" x=\"1430\" y=\"-7.8\" font-family=\"Helvetica,sans-Serif\" font-size=\"14.00\">class = 0</text>\n</g>\n<!-- 44&#45;&gt;46 -->\n<g id=\"edge46\" class=\"edge\">\n<title>44&#45;&gt;46</title>\n<path fill=\"none\" stroke=\"black\" d=\"M1393.6,-103.73C1398.19,-95.06 1403.04,-85.9 1407.66,-77.18\"/>\n<polygon fill=\"black\" stroke=\"black\" points=\"1410.77,-78.77 1412.36,-68.3 1404.59,-75.5 1410.77,-78.77\"/>\n</g>\n<!-- 49 -->\n<g id=\"node50\" class=\"node\">\n<title>49</title>\n<path fill=\"#e78845\" stroke=\"black\" d=\"M1698,-425C1698,-425 1594,-425 1594,-425 1588,-425 1582,-419 1582,-413 1582,-413 1582,-354 1582,-354 1582,-348 1588,-342 1594,-342 1594,-342 1698,-342 1698,-342 1704,-342 1710,-348 1710,-354 1710,-354 1710,-413 1710,-413 1710,-419 1704,-425 1698,-425\"/>\n<text text-anchor=\"middle\" x=\"1646\" y=\"-409.8\" font-family=\"Helvetica,sans-Serif\" font-size=\"14.00\">Curtosis &lt;= &#45;2.648</text>\n<text text-anchor=\"middle\" x=\"1646\" y=\"-394.8\" font-family=\"Helvetica,sans-Serif\" font-size=\"14.00\">gini = 0.105</text>\n<text text-anchor=\"middle\" x=\"1646\" y=\"-379.8\" font-family=\"Helvetica,sans-Serif\" font-size=\"14.00\">samples = 54</text>\n<text text-anchor=\"middle\" x=\"1646\" y=\"-364.8\" font-family=\"Helvetica,sans-Serif\" font-size=\"14.00\">value = [51, 3]</text>\n<text text-anchor=\"middle\" x=\"1646\" y=\"-349.8\" font-family=\"Helvetica,sans-Serif\" font-size=\"14.00\">class = 0</text>\n</g>\n<!-- 48&#45;&gt;49 -->\n<g id=\"edge49\" class=\"edge\">\n<title>48&#45;&gt;49</title>\n<path fill=\"none\" stroke=\"black\" d=\"M1646,-460.91C1646,-452.65 1646,-443.86 1646,-435.3\"/>\n<polygon fill=\"black\" stroke=\"black\" points=\"1649.5,-435.02 1646,-425.02 1642.5,-435.02 1649.5,-435.02\"/>\n</g>\n<!-- 54 -->\n<g id=\"node55\" class=\"node\">\n<title>54</title>\n<path fill=\"#e58139\" stroke=\"black\" d=\"M1826,-417.5C1826,-417.5 1740,-417.5 1740,-417.5 1734,-417.5 1728,-411.5 1728,-405.5 1728,-405.5 1728,-361.5 1728,-361.5 1728,-355.5 1734,-349.5 1740,-349.5 1740,-349.5 1826,-349.5 1826,-349.5 1832,-349.5 1838,-355.5 1838,-361.5 1838,-361.5 1838,-405.5 1838,-405.5 1838,-411.5 1832,-417.5 1826,-417.5\"/>\n<text text-anchor=\"middle\" x=\"1783\" y=\"-402.3\" font-family=\"Helvetica,sans-Serif\" font-size=\"14.00\">gini = 0.0</text>\n<text text-anchor=\"middle\" x=\"1783\" y=\"-387.3\" font-family=\"Helvetica,sans-Serif\" font-size=\"14.00\">samples = 391</text>\n<text text-anchor=\"middle\" x=\"1783\" y=\"-372.3\" font-family=\"Helvetica,sans-Serif\" font-size=\"14.00\">value = [391, 0]</text>\n<text text-anchor=\"middle\" x=\"1783\" y=\"-357.3\" font-family=\"Helvetica,sans-Serif\" font-size=\"14.00\">class = 0</text>\n</g>\n<!-- 48&#45;&gt;54 -->\n<g id=\"edge54\" class=\"edge\">\n<title>48&#45;&gt;54</title>\n<path fill=\"none\" stroke=\"black\" d=\"M1693.53,-460.91C1707.36,-449.1 1722.44,-436.22 1736.22,-424.45\"/>\n<polygon fill=\"black\" stroke=\"black\" points=\"1738.83,-426.82 1744.16,-417.67 1734.29,-421.5 1738.83,-426.82\"/>\n</g>\n<!-- 50 -->\n<g id=\"node51\" class=\"node\">\n<title>50</title>\n<path fill=\"#7bbeee\" stroke=\"black\" d=\"M1696.5,-306C1696.5,-306 1595.5,-306 1595.5,-306 1589.5,-306 1583.5,-300 1583.5,-294 1583.5,-294 1583.5,-235 1583.5,-235 1583.5,-229 1589.5,-223 1595.5,-223 1595.5,-223 1696.5,-223 1696.5,-223 1702.5,-223 1708.5,-229 1708.5,-235 1708.5,-235 1708.5,-294 1708.5,-294 1708.5,-300 1702.5,-306 1696.5,-306\"/>\n<text text-anchor=\"middle\" x=\"1646\" y=\"-290.8\" font-family=\"Helvetica,sans-Serif\" font-size=\"14.00\">Entropy &lt;= &#45;1.796</text>\n<text text-anchor=\"middle\" x=\"1646\" y=\"-275.8\" font-family=\"Helvetica,sans-Serif\" font-size=\"14.00\">gini = 0.375</text>\n<text text-anchor=\"middle\" x=\"1646\" y=\"-260.8\" font-family=\"Helvetica,sans-Serif\" font-size=\"14.00\">samples = 4</text>\n<text text-anchor=\"middle\" x=\"1646\" y=\"-245.8\" font-family=\"Helvetica,sans-Serif\" font-size=\"14.00\">value = [1, 3]</text>\n<text text-anchor=\"middle\" x=\"1646\" y=\"-230.8\" font-family=\"Helvetica,sans-Serif\" font-size=\"14.00\">class = 1</text>\n</g>\n<!-- 49&#45;&gt;50 -->\n<g id=\"edge50\" class=\"edge\">\n<title>49&#45;&gt;50</title>\n<path fill=\"none\" stroke=\"black\" d=\"M1646,-341.91C1646,-333.65 1646,-324.86 1646,-316.3\"/>\n<polygon fill=\"black\" stroke=\"black\" points=\"1649.5,-316.02 1646,-306.02 1642.5,-316.02 1649.5,-316.02\"/>\n</g>\n<!-- 53 -->\n<g id=\"node54\" class=\"node\">\n<title>53</title>\n<path fill=\"#e58139\" stroke=\"black\" d=\"M1817,-298.5C1817,-298.5 1739,-298.5 1739,-298.5 1733,-298.5 1727,-292.5 1727,-286.5 1727,-286.5 1727,-242.5 1727,-242.5 1727,-236.5 1733,-230.5 1739,-230.5 1739,-230.5 1817,-230.5 1817,-230.5 1823,-230.5 1829,-236.5 1829,-242.5 1829,-242.5 1829,-286.5 1829,-286.5 1829,-292.5 1823,-298.5 1817,-298.5\"/>\n<text text-anchor=\"middle\" x=\"1778\" y=\"-283.3\" font-family=\"Helvetica,sans-Serif\" font-size=\"14.00\">gini = 0.0</text>\n<text text-anchor=\"middle\" x=\"1778\" y=\"-268.3\" font-family=\"Helvetica,sans-Serif\" font-size=\"14.00\">samples = 50</text>\n<text text-anchor=\"middle\" x=\"1778\" y=\"-253.3\" font-family=\"Helvetica,sans-Serif\" font-size=\"14.00\">value = [50, 0]</text>\n<text text-anchor=\"middle\" x=\"1778\" y=\"-238.3\" font-family=\"Helvetica,sans-Serif\" font-size=\"14.00\">class = 0</text>\n</g>\n<!-- 49&#45;&gt;53 -->\n<g id=\"edge53\" class=\"edge\">\n<title>49&#45;&gt;53</title>\n<path fill=\"none\" stroke=\"black\" d=\"M1691.8,-341.91C1705.12,-330.1 1719.65,-317.22 1732.93,-305.45\"/>\n<polygon fill=\"black\" stroke=\"black\" points=\"1735.42,-307.92 1740.58,-298.67 1730.78,-302.68 1735.42,-307.92\"/>\n</g>\n<!-- 51 -->\n<g id=\"node52\" class=\"node\">\n<title>51</title>\n<path fill=\"#e58139\" stroke=\"black\" d=\"M1674.5,-179.5C1674.5,-179.5 1603.5,-179.5 1603.5,-179.5 1597.5,-179.5 1591.5,-173.5 1591.5,-167.5 1591.5,-167.5 1591.5,-123.5 1591.5,-123.5 1591.5,-117.5 1597.5,-111.5 1603.5,-111.5 1603.5,-111.5 1674.5,-111.5 1674.5,-111.5 1680.5,-111.5 1686.5,-117.5 1686.5,-123.5 1686.5,-123.5 1686.5,-167.5 1686.5,-167.5 1686.5,-173.5 1680.5,-179.5 1674.5,-179.5\"/>\n<text text-anchor=\"middle\" x=\"1639\" y=\"-164.3\" font-family=\"Helvetica,sans-Serif\" font-size=\"14.00\">gini = 0.0</text>\n<text text-anchor=\"middle\" x=\"1639\" y=\"-149.3\" font-family=\"Helvetica,sans-Serif\" font-size=\"14.00\">samples = 1</text>\n<text text-anchor=\"middle\" x=\"1639\" y=\"-134.3\" font-family=\"Helvetica,sans-Serif\" font-size=\"14.00\">value = [1, 0]</text>\n<text text-anchor=\"middle\" x=\"1639\" y=\"-119.3\" font-family=\"Helvetica,sans-Serif\" font-size=\"14.00\">class = 0</text>\n</g>\n<!-- 50&#45;&gt;51 -->\n<g id=\"edge51\" class=\"edge\">\n<title>50&#45;&gt;51</title>\n<path fill=\"none\" stroke=\"black\" d=\"M1643.57,-222.91C1642.93,-212.2 1642.24,-200.62 1641.59,-189.78\"/>\n<polygon fill=\"black\" stroke=\"black\" points=\"1645.08,-189.44 1640.98,-179.67 1638.09,-189.86 1645.08,-189.44\"/>\n</g>\n<!-- 52 -->\n<g id=\"node53\" class=\"node\">\n<title>52</title>\n<path fill=\"#399de5\" stroke=\"black\" d=\"M1787.5,-179.5C1787.5,-179.5 1716.5,-179.5 1716.5,-179.5 1710.5,-179.5 1704.5,-173.5 1704.5,-167.5 1704.5,-167.5 1704.5,-123.5 1704.5,-123.5 1704.5,-117.5 1710.5,-111.5 1716.5,-111.5 1716.5,-111.5 1787.5,-111.5 1787.5,-111.5 1793.5,-111.5 1799.5,-117.5 1799.5,-123.5 1799.5,-123.5 1799.5,-167.5 1799.5,-167.5 1799.5,-173.5 1793.5,-179.5 1787.5,-179.5\"/>\n<text text-anchor=\"middle\" x=\"1752\" y=\"-164.3\" font-family=\"Helvetica,sans-Serif\" font-size=\"14.00\">gini = 0.0</text>\n<text text-anchor=\"middle\" x=\"1752\" y=\"-149.3\" font-family=\"Helvetica,sans-Serif\" font-size=\"14.00\">samples = 3</text>\n<text text-anchor=\"middle\" x=\"1752\" y=\"-134.3\" font-family=\"Helvetica,sans-Serif\" font-size=\"14.00\">value = [0, 3]</text>\n<text text-anchor=\"middle\" x=\"1752\" y=\"-119.3\" font-family=\"Helvetica,sans-Serif\" font-size=\"14.00\">class = 1</text>\n</g>\n<!-- 50&#45;&gt;52 -->\n<g id=\"edge52\" class=\"edge\">\n<title>50&#45;&gt;52</title>\n<path fill=\"none\" stroke=\"black\" d=\"M1682.78,-222.91C1693.27,-211.32 1704.71,-198.7 1715.21,-187.11\"/>\n<polygon fill=\"black\" stroke=\"black\" points=\"1717.83,-189.43 1721.95,-179.67 1712.64,-184.73 1717.83,-189.43\"/>\n</g>\n</g>\n</svg>\n",
            "text/plain": [
              "<graphviz.sources.Source at 0x7f87956db5b0>"
            ]
          },
          "metadata": {},
          "execution_count": 12
        }
      ]
    }
  ]
}