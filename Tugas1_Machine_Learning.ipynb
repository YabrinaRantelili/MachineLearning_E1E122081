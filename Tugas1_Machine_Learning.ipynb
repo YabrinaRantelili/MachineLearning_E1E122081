{
  "nbformat": 4,
  "nbformat_minor": 0,
  "metadata": {
    "colab": {
      "provenance": [],
      "authorship_tag": "ABX9TyNz2wzHs+5ouuUPv7nqORLw",
      "include_colab_link": true
    },
    "kernelspec": {
      "name": "python3",
      "display_name": "Python 3"
    },
    "language_info": {
      "name": "python"
    }
  },
  "cells": [
    {
      "cell_type": "markdown",
      "metadata": {
        "id": "view-in-github",
        "colab_type": "text"
      },
      "source": [
        "<a href=\"https://colab.research.google.com/github/YabrinaRantelili/MachineLearning_E1E122081/blob/main/Tugas1_Machine_Learning.ipynb\" target=\"_parent\"><img src=\"https://colab.research.google.com/assets/colab-badge.svg\" alt=\"Open In Colab\"/></a>"
      ]
    },
    {
      "cell_type": "code",
      "execution_count": 1,
      "metadata": {
        "id": "iJpldnFZspgr"
      },
      "outputs": [],
      "source": [
        "import pandas as pd\n",
        "bill = pd.read_csv('/content/bill_authentication.csv')"
      ]
    },
    {
      "cell_type": "code",
      "source": [
        "bill.head(10)"
      ],
      "metadata": {
        "colab": {
          "base_uri": "https://localhost:8080/",
          "height": 363
        },
        "id": "MMvurTDewfgK",
        "outputId": "1dd1baad-15c2-4229-9218-2270ba195ffa"
      },
      "execution_count": 2,
      "outputs": [
        {
          "output_type": "execute_result",
          "data": {
            "text/plain": [
              "   Variance  Skewness  Curtosis  Entropy  Class\n",
              "0   3.62160    8.6661  -2.80730 -0.44699      0\n",
              "1   4.54590    8.1674  -2.45860 -1.46210      0\n",
              "2   3.86600   -2.6383   1.92420  0.10645      0\n",
              "3   3.45660    9.5228  -4.01120 -3.59440      0\n",
              "4   0.32924   -4.4552   4.57180 -0.98880      0\n",
              "5   4.36840    9.6718  -3.96060 -3.16250      0\n",
              "6   3.59120    3.0129   0.72888  0.56421      0\n",
              "7   2.09220   -6.8100   8.46360 -0.60216      0\n",
              "8   3.20320    5.7588  -0.75345 -0.61251      0\n",
              "9   1.53560    9.1772  -2.27180 -0.73535      0"
            ],
            "text/html": [
              "\n",
              "  <div id=\"df-908820c2-5b07-44b3-a2d1-d64a783574d4\" class=\"colab-df-container\">\n",
              "    <div>\n",
              "<style scoped>\n",
              "    .dataframe tbody tr th:only-of-type {\n",
              "        vertical-align: middle;\n",
              "    }\n",
              "\n",
              "    .dataframe tbody tr th {\n",
              "        vertical-align: top;\n",
              "    }\n",
              "\n",
              "    .dataframe thead th {\n",
              "        text-align: right;\n",
              "    }\n",
              "</style>\n",
              "<table border=\"1\" class=\"dataframe\">\n",
              "  <thead>\n",
              "    <tr style=\"text-align: right;\">\n",
              "      <th></th>\n",
              "      <th>Variance</th>\n",
              "      <th>Skewness</th>\n",
              "      <th>Curtosis</th>\n",
              "      <th>Entropy</th>\n",
              "      <th>Class</th>\n",
              "    </tr>\n",
              "  </thead>\n",
              "  <tbody>\n",
              "    <tr>\n",
              "      <th>0</th>\n",
              "      <td>3.62160</td>\n",
              "      <td>8.6661</td>\n",
              "      <td>-2.80730</td>\n",
              "      <td>-0.44699</td>\n",
              "      <td>0</td>\n",
              "    </tr>\n",
              "    <tr>\n",
              "      <th>1</th>\n",
              "      <td>4.54590</td>\n",
              "      <td>8.1674</td>\n",
              "      <td>-2.45860</td>\n",
              "      <td>-1.46210</td>\n",
              "      <td>0</td>\n",
              "    </tr>\n",
              "    <tr>\n",
              "      <th>2</th>\n",
              "      <td>3.86600</td>\n",
              "      <td>-2.6383</td>\n",
              "      <td>1.92420</td>\n",
              "      <td>0.10645</td>\n",
              "      <td>0</td>\n",
              "    </tr>\n",
              "    <tr>\n",
              "      <th>3</th>\n",
              "      <td>3.45660</td>\n",
              "      <td>9.5228</td>\n",
              "      <td>-4.01120</td>\n",
              "      <td>-3.59440</td>\n",
              "      <td>0</td>\n",
              "    </tr>\n",
              "    <tr>\n",
              "      <th>4</th>\n",
              "      <td>0.32924</td>\n",
              "      <td>-4.4552</td>\n",
              "      <td>4.57180</td>\n",
              "      <td>-0.98880</td>\n",
              "      <td>0</td>\n",
              "    </tr>\n",
              "    <tr>\n",
              "      <th>5</th>\n",
              "      <td>4.36840</td>\n",
              "      <td>9.6718</td>\n",
              "      <td>-3.96060</td>\n",
              "      <td>-3.16250</td>\n",
              "      <td>0</td>\n",
              "    </tr>\n",
              "    <tr>\n",
              "      <th>6</th>\n",
              "      <td>3.59120</td>\n",
              "      <td>3.0129</td>\n",
              "      <td>0.72888</td>\n",
              "      <td>0.56421</td>\n",
              "      <td>0</td>\n",
              "    </tr>\n",
              "    <tr>\n",
              "      <th>7</th>\n",
              "      <td>2.09220</td>\n",
              "      <td>-6.8100</td>\n",
              "      <td>8.46360</td>\n",
              "      <td>-0.60216</td>\n",
              "      <td>0</td>\n",
              "    </tr>\n",
              "    <tr>\n",
              "      <th>8</th>\n",
              "      <td>3.20320</td>\n",
              "      <td>5.7588</td>\n",
              "      <td>-0.75345</td>\n",
              "      <td>-0.61251</td>\n",
              "      <td>0</td>\n",
              "    </tr>\n",
              "    <tr>\n",
              "      <th>9</th>\n",
              "      <td>1.53560</td>\n",
              "      <td>9.1772</td>\n",
              "      <td>-2.27180</td>\n",
              "      <td>-0.73535</td>\n",
              "      <td>0</td>\n",
              "    </tr>\n",
              "  </tbody>\n",
              "</table>\n",
              "</div>\n",
              "    <div class=\"colab-df-buttons\">\n",
              "\n",
              "  <div class=\"colab-df-container\">\n",
              "    <button class=\"colab-df-convert\" onclick=\"convertToInteractive('df-908820c2-5b07-44b3-a2d1-d64a783574d4')\"\n",
              "            title=\"Convert this dataframe to an interactive table.\"\n",
              "            style=\"display:none;\">\n",
              "\n",
              "  <svg xmlns=\"http://www.w3.org/2000/svg\" height=\"24px\" viewBox=\"0 -960 960 960\">\n",
              "    <path d=\"M120-120v-720h720v720H120Zm60-500h600v-160H180v160Zm220 220h160v-160H400v160Zm0 220h160v-160H400v160ZM180-400h160v-160H180v160Zm440 0h160v-160H620v160ZM180-180h160v-160H180v160Zm440 0h160v-160H620v160Z\"/>\n",
              "  </svg>\n",
              "    </button>\n",
              "\n",
              "  <style>\n",
              "    .colab-df-container {\n",
              "      display:flex;\n",
              "      gap: 12px;\n",
              "    }\n",
              "\n",
              "    .colab-df-convert {\n",
              "      background-color: #E8F0FE;\n",
              "      border: none;\n",
              "      border-radius: 50%;\n",
              "      cursor: pointer;\n",
              "      display: none;\n",
              "      fill: #1967D2;\n",
              "      height: 32px;\n",
              "      padding: 0 0 0 0;\n",
              "      width: 32px;\n",
              "    }\n",
              "\n",
              "    .colab-df-convert:hover {\n",
              "      background-color: #E2EBFA;\n",
              "      box-shadow: 0px 1px 2px rgba(60, 64, 67, 0.3), 0px 1px 3px 1px rgba(60, 64, 67, 0.15);\n",
              "      fill: #174EA6;\n",
              "    }\n",
              "\n",
              "    .colab-df-buttons div {\n",
              "      margin-bottom: 4px;\n",
              "    }\n",
              "\n",
              "    [theme=dark] .colab-df-convert {\n",
              "      background-color: #3B4455;\n",
              "      fill: #D2E3FC;\n",
              "    }\n",
              "\n",
              "    [theme=dark] .colab-df-convert:hover {\n",
              "      background-color: #434B5C;\n",
              "      box-shadow: 0px 1px 3px 1px rgba(0, 0, 0, 0.15);\n",
              "      filter: drop-shadow(0px 1px 2px rgba(0, 0, 0, 0.3));\n",
              "      fill: #FFFFFF;\n",
              "    }\n",
              "  </style>\n",
              "\n",
              "    <script>\n",
              "      const buttonEl =\n",
              "        document.querySelector('#df-908820c2-5b07-44b3-a2d1-d64a783574d4 button.colab-df-convert');\n",
              "      buttonEl.style.display =\n",
              "        google.colab.kernel.accessAllowed ? 'block' : 'none';\n",
              "\n",
              "      async function convertToInteractive(key) {\n",
              "        const element = document.querySelector('#df-908820c2-5b07-44b3-a2d1-d64a783574d4');\n",
              "        const dataTable =\n",
              "          await google.colab.kernel.invokeFunction('convertToInteractive',\n",
              "                                                    [key], {});\n",
              "        if (!dataTable) return;\n",
              "\n",
              "        const docLinkHtml = 'Like what you see? Visit the ' +\n",
              "          '<a target=\"_blank\" href=https://colab.research.google.com/notebooks/data_table.ipynb>data table notebook</a>'\n",
              "          + ' to learn more about interactive tables.';\n",
              "        element.innerHTML = '';\n",
              "        dataTable['output_type'] = 'display_data';\n",
              "        await google.colab.output.renderOutput(dataTable, element);\n",
              "        const docLink = document.createElement('div');\n",
              "        docLink.innerHTML = docLinkHtml;\n",
              "        element.appendChild(docLink);\n",
              "      }\n",
              "    </script>\n",
              "  </div>\n",
              "\n",
              "\n",
              "<div id=\"df-9f49cff5-e15e-462e-a190-04659d4e6b1e\">\n",
              "  <button class=\"colab-df-quickchart\" onclick=\"quickchart('df-9f49cff5-e15e-462e-a190-04659d4e6b1e')\"\n",
              "            title=\"Suggest charts\"\n",
              "            style=\"display:none;\">\n",
              "\n",
              "<svg xmlns=\"http://www.w3.org/2000/svg\" height=\"24px\"viewBox=\"0 0 24 24\"\n",
              "     width=\"24px\">\n",
              "    <g>\n",
              "        <path d=\"M19 3H5c-1.1 0-2 .9-2 2v14c0 1.1.9 2 2 2h14c1.1 0 2-.9 2-2V5c0-1.1-.9-2-2-2zM9 17H7v-7h2v7zm4 0h-2V7h2v10zm4 0h-2v-4h2v4z\"/>\n",
              "    </g>\n",
              "</svg>\n",
              "  </button>\n",
              "\n",
              "<style>\n",
              "  .colab-df-quickchart {\n",
              "      --bg-color: #E8F0FE;\n",
              "      --fill-color: #1967D2;\n",
              "      --hover-bg-color: #E2EBFA;\n",
              "      --hover-fill-color: #174EA6;\n",
              "      --disabled-fill-color: #AAA;\n",
              "      --disabled-bg-color: #DDD;\n",
              "  }\n",
              "\n",
              "  [theme=dark] .colab-df-quickchart {\n",
              "      --bg-color: #3B4455;\n",
              "      --fill-color: #D2E3FC;\n",
              "      --hover-bg-color: #434B5C;\n",
              "      --hover-fill-color: #FFFFFF;\n",
              "      --disabled-bg-color: #3B4455;\n",
              "      --disabled-fill-color: #666;\n",
              "  }\n",
              "\n",
              "  .colab-df-quickchart {\n",
              "    background-color: var(--bg-color);\n",
              "    border: none;\n",
              "    border-radius: 50%;\n",
              "    cursor: pointer;\n",
              "    display: none;\n",
              "    fill: var(--fill-color);\n",
              "    height: 32px;\n",
              "    padding: 0;\n",
              "    width: 32px;\n",
              "  }\n",
              "\n",
              "  .colab-df-quickchart:hover {\n",
              "    background-color: var(--hover-bg-color);\n",
              "    box-shadow: 0 1px 2px rgba(60, 64, 67, 0.3), 0 1px 3px 1px rgba(60, 64, 67, 0.15);\n",
              "    fill: var(--button-hover-fill-color);\n",
              "  }\n",
              "\n",
              "  .colab-df-quickchart-complete:disabled,\n",
              "  .colab-df-quickchart-complete:disabled:hover {\n",
              "    background-color: var(--disabled-bg-color);\n",
              "    fill: var(--disabled-fill-color);\n",
              "    box-shadow: none;\n",
              "  }\n",
              "\n",
              "  .colab-df-spinner {\n",
              "    border: 2px solid var(--fill-color);\n",
              "    border-color: transparent;\n",
              "    border-bottom-color: var(--fill-color);\n",
              "    animation:\n",
              "      spin 1s steps(1) infinite;\n",
              "  }\n",
              "\n",
              "  @keyframes spin {\n",
              "    0% {\n",
              "      border-color: transparent;\n",
              "      border-bottom-color: var(--fill-color);\n",
              "      border-left-color: var(--fill-color);\n",
              "    }\n",
              "    20% {\n",
              "      border-color: transparent;\n",
              "      border-left-color: var(--fill-color);\n",
              "      border-top-color: var(--fill-color);\n",
              "    }\n",
              "    30% {\n",
              "      border-color: transparent;\n",
              "      border-left-color: var(--fill-color);\n",
              "      border-top-color: var(--fill-color);\n",
              "      border-right-color: var(--fill-color);\n",
              "    }\n",
              "    40% {\n",
              "      border-color: transparent;\n",
              "      border-right-color: var(--fill-color);\n",
              "      border-top-color: var(--fill-color);\n",
              "    }\n",
              "    60% {\n",
              "      border-color: transparent;\n",
              "      border-right-color: var(--fill-color);\n",
              "    }\n",
              "    80% {\n",
              "      border-color: transparent;\n",
              "      border-right-color: var(--fill-color);\n",
              "      border-bottom-color: var(--fill-color);\n",
              "    }\n",
              "    90% {\n",
              "      border-color: transparent;\n",
              "      border-bottom-color: var(--fill-color);\n",
              "    }\n",
              "  }\n",
              "</style>\n",
              "\n",
              "  <script>\n",
              "    async function quickchart(key) {\n",
              "      const quickchartButtonEl =\n",
              "        document.querySelector('#' + key + ' button');\n",
              "      quickchartButtonEl.disabled = true;  // To prevent multiple clicks.\n",
              "      quickchartButtonEl.classList.add('colab-df-spinner');\n",
              "      try {\n",
              "        const charts = await google.colab.kernel.invokeFunction(\n",
              "            'suggestCharts', [key], {});\n",
              "      } catch (error) {\n",
              "        console.error('Error during call to suggestCharts:', error);\n",
              "      }\n",
              "      quickchartButtonEl.classList.remove('colab-df-spinner');\n",
              "      quickchartButtonEl.classList.add('colab-df-quickchart-complete');\n",
              "    }\n",
              "    (() => {\n",
              "      let quickchartButtonEl =\n",
              "        document.querySelector('#df-9f49cff5-e15e-462e-a190-04659d4e6b1e button');\n",
              "      quickchartButtonEl.style.display =\n",
              "        google.colab.kernel.accessAllowed ? 'block' : 'none';\n",
              "    })();\n",
              "  </script>\n",
              "</div>\n",
              "    </div>\n",
              "  </div>\n"
            ],
            "application/vnd.google.colaboratory.intrinsic+json": {
              "type": "dataframe",
              "variable_name": "bill",
              "summary": "{\n  \"name\": \"bill\",\n  \"rows\": 1372,\n  \"fields\": [\n    {\n      \"column\": \"Variance\",\n      \"properties\": {\n        \"dtype\": \"number\",\n        \"std\": 2.8427625862785617,\n        \"min\": -7.0421,\n        \"max\": 6.8248,\n        \"num_unique_values\": 1338,\n        \"samples\": [\n          -2.286,\n          -0.539,\n          0.89512\n        ],\n        \"semantic_type\": \"\",\n        \"description\": \"\"\n      }\n    },\n    {\n      \"column\": \"Skewness\",\n      \"properties\": {\n        \"dtype\": \"number\",\n        \"std\": 5.869046743695517,\n        \"min\": -13.7731,\n        \"max\": 12.9516,\n        \"num_unique_values\": 1256,\n        \"samples\": [\n          11.2217,\n          -4.6145,\n          6.1499\n        ],\n        \"semantic_type\": \"\",\n        \"description\": \"\"\n      }\n    },\n    {\n      \"column\": \"Curtosis\",\n      \"properties\": {\n        \"dtype\": \"number\",\n        \"std\": 4.310030090106596,\n        \"min\": -5.2861,\n        \"max\": 17.9274,\n        \"num_unique_values\": 1270,\n        \"samples\": [\n          7.8981,\n          9.8208,\n          0.20021\n        ],\n        \"semantic_type\": \"\",\n        \"description\": \"\"\n      }\n    },\n    {\n      \"column\": \"Entropy\",\n      \"properties\": {\n        \"dtype\": \"number\",\n        \"std\": 2.10101313735961,\n        \"min\": -8.5482,\n        \"max\": 2.4495,\n        \"num_unique_values\": 1156,\n        \"samples\": [\n          1.0271,\n          0.90946,\n          -0.026738\n        ],\n        \"semantic_type\": \"\",\n        \"description\": \"\"\n      }\n    },\n    {\n      \"column\": \"Class\",\n      \"properties\": {\n        \"dtype\": \"number\",\n        \"std\": 0,\n        \"min\": 0,\n        \"max\": 1,\n        \"num_unique_values\": 2,\n        \"samples\": [\n          1,\n          0\n        ],\n        \"semantic_type\": \"\",\n        \"description\": \"\"\n      }\n    }\n  ]\n}"
            }
          },
          "metadata": {},
          "execution_count": 2
        }
      ]
    },
    {
      "cell_type": "code",
      "source": [
        "#memisakhan atribut dengan label dimana x itu atribut dan y\n",
        "X = bill[['Variance','Skewness','Curtosis','Entropy']]\n",
        "y = bill['Class']\n",
        "\n",
        "#membagi dataset menjadi data latih dan data uji\n",
        "from sklearn.model_selection import train_test_split\n",
        "X_train, X_test, y_train, y_test=train_test_split(X, y, test_size=0.1, random_state=123)\n"
      ],
      "metadata": {
        "id": "iREzG4NRw8D-"
      },
      "execution_count": 3,
      "outputs": []
    },
    {
      "cell_type": "code",
      "source": [
        "from sklearn.tree import DecisionTreeClassifier\n",
        "\n",
        "#menentukan  model decision tree\n",
        "tree_model= DecisionTreeClassifier()\n",
        "\n",
        "#melatih model menggunakan data latih dengan fungsi fit\n",
        "tree_model= tree_model.fit(X_train,y_train)"
      ],
      "metadata": {
        "id": "aMySwJXFzAJR"
      },
      "execution_count": 4,
      "outputs": []
    },
    {
      "cell_type": "code",
      "source": [
        "#evaluasi model untuk meguji seberapa baik model yang digunakan dan akurasi\n",
        "from sklearn.metrics import accuracy_score\n",
        "\n",
        "y_pred =  tree_model.predict(X_test)\n",
        "\n",
        "accuracy_score =round(accuracy_score(y_pred, y_test), 3)\n",
        "\n",
        "print('Accuracy: ',accuracy_score)"
      ],
      "metadata": {
        "colab": {
          "base_uri": "https://localhost:8080/"
        },
        "id": "aXi49LWVzSIc",
        "outputId": "19a67d02-7744-45a4-b8d6-d4e16a36d599"
      },
      "execution_count": 5,
      "outputs": [
        {
          "output_type": "stream",
          "name": "stdout",
          "text": [
            "Accuracy:  0.993\n"
          ]
        }
      ]
    },
    {
      "cell_type": "code",
      "source": [
        "#prediksi model dengan tree model yang sdh dibuat dengan varibel (['Variance','Skewness','Curtosis','Entropy'])\n",
        "\n",
        "print(tree_model.predict([[5, 8, -3, -0.4]])[0])"
      ],
      "metadata": {
        "colab": {
          "base_uri": "https://localhost:8080/"
        },
        "id": "hVXh7kVh0kw8",
        "outputId": "6e8e7a16-a3b1-4da5-fe37-6d123cd836d2"
      },
      "execution_count": 6,
      "outputs": [
        {
          "output_type": "stream",
          "name": "stdout",
          "text": [
            "0\n"
          ]
        },
        {
          "output_type": "stream",
          "name": "stderr",
          "text": [
            "/usr/local/lib/python3.10/dist-packages/sklearn/base.py:439: UserWarning: X does not have valid feature names, but DecisionTreeClassifier was fitted with feature names\n",
            "  warnings.warn(\n"
          ]
        }
      ]
    },
    {
      "cell_type": "code",
      "source": [
        "print(tree_model.predict([[-1, 3, -1.5, -2]])[0])\n"
      ],
      "metadata": {
        "colab": {
          "base_uri": "https://localhost:8080/"
        },
        "id": "Etx4mJeVWPUL",
        "outputId": "1717dd73-6196-44b1-95a1-79eb48c980f4"
      },
      "execution_count": 7,
      "outputs": [
        {
          "output_type": "stream",
          "name": "stdout",
          "text": [
            "1\n"
          ]
        },
        {
          "output_type": "stream",
          "name": "stderr",
          "text": [
            "/usr/local/lib/python3.10/dist-packages/sklearn/base.py:439: UserWarning: X does not have valid feature names, but DecisionTreeClassifier was fitted with feature names\n",
            "  warnings.warn(\n"
          ]
        }
      ]
    },
    {
      "cell_type": "code",
      "source": [
        "#melihat visulisasi datanya decision tree\n",
        "from sklearn.tree import export_graphviz\n",
        "\n",
        "export_graphviz(tree_model,\n",
        "                out_file=\"bill_tree.dot\",\n",
        "                feature_names=['Variance','Skewness','Curtosis','Entropy'],\n",
        "                class_names=['Bill-asli','Bill-palsu'],\n",
        "                rounded=True,\n",
        "                filled=True)\n"
      ],
      "metadata": {
        "id": "cI1-Yihl5BMo"
      },
      "execution_count": 8,
      "outputs": []
    },
    {
      "cell_type": "code",
      "source": [
        "#konversi file .dot menjadi gambar\n",
        "import graphviz\n",
        "with open(\"bill_tree.dot\") as f:\n",
        "  dot_graph=f.read()\n",
        "graphviz.Source(dot_graph)\n"
      ],
      "metadata": {
        "colab": {
          "base_uri": "https://localhost:8080/",
          "height": 1000
        },
        "id": "nqEn32uWTBYe",
        "outputId": "6b533e5f-0dfc-499f-8069-0b2045a5ac55"
      },
      "execution_count": 10,
      "outputs": [
        {
          "output_type": "execute_result",
          "data": {
            "image/svg+xml": "<?xml version=\"1.0\" encoding=\"UTF-8\" standalone=\"no\"?>\n<!DOCTYPE svg PUBLIC \"-//W3C//DTD SVG 1.1//EN\"\n \"http://www.w3.org/Graphics/SVG/1.1/DTD/svg11.dtd\">\n<!-- Generated by graphviz version 2.43.0 (0)\n -->\n<!-- Title: Tree Pages: 1 -->\n<svg width=\"1926pt\" height=\"909pt\"\n viewBox=\"0.00 0.00 1926.00 909.00\" xmlns=\"http://www.w3.org/2000/svg\" xmlns:xlink=\"http://www.w3.org/1999/xlink\">\n<g id=\"graph0\" class=\"graph\" transform=\"scale(1 1) rotate(0) translate(4 905)\">\n<title>Tree</title>\n<polygon fill=\"white\" stroke=\"transparent\" points=\"-4,4 -4,-905 1922,-905 1922,4 -4,4\"/>\n<!-- 0 -->\n<g id=\"node1\" class=\"node\">\n<title>0</title>\n<path fill=\"#fae6d8\" stroke=\"black\" d=\"M1145.5,-901C1145.5,-901 1044.5,-901 1044.5,-901 1038.5,-901 1032.5,-895 1032.5,-889 1032.5,-889 1032.5,-830 1032.5,-830 1032.5,-824 1038.5,-818 1044.5,-818 1044.5,-818 1145.5,-818 1145.5,-818 1151.5,-818 1157.5,-824 1157.5,-830 1157.5,-830 1157.5,-889 1157.5,-889 1157.5,-895 1151.5,-901 1145.5,-901\"/>\n<text text-anchor=\"middle\" x=\"1095\" y=\"-885.8\" font-family=\"Helvetica,sans-Serif\" font-size=\"14.00\">Variance &lt;= 0.32</text>\n<text text-anchor=\"middle\" x=\"1095\" y=\"-870.8\" font-family=\"Helvetica,sans-Serif\" font-size=\"14.00\">gini = 0.494</text>\n<text text-anchor=\"middle\" x=\"1095\" y=\"-855.8\" font-family=\"Helvetica,sans-Serif\" font-size=\"14.00\">samples = 1234</text>\n<text text-anchor=\"middle\" x=\"1095\" y=\"-840.8\" font-family=\"Helvetica,sans-Serif\" font-size=\"14.00\">value = [684, 550]</text>\n<text text-anchor=\"middle\" x=\"1095\" y=\"-825.8\" font-family=\"Helvetica,sans-Serif\" font-size=\"14.00\">class = Bill&#45;asli</text>\n</g>\n<!-- 1 -->\n<g id=\"node2\" class=\"node\">\n<title>1</title>\n<path fill=\"#68b4eb\" stroke=\"black\" d=\"M1029,-782C1029,-782 917,-782 917,-782 911,-782 905,-776 905,-770 905,-770 905,-711 905,-711 905,-705 911,-699 917,-699 917,-699 1029,-699 1029,-699 1035,-699 1041,-705 1041,-711 1041,-711 1041,-770 1041,-770 1041,-776 1035,-782 1029,-782\"/>\n<text text-anchor=\"middle\" x=\"973\" y=\"-766.8\" font-family=\"Helvetica,sans-Serif\" font-size=\"14.00\">Skewness &lt;= 7.574</text>\n<text text-anchor=\"middle\" x=\"973\" y=\"-751.8\" font-family=\"Helvetica,sans-Serif\" font-size=\"14.00\">gini = 0.309</text>\n<text text-anchor=\"middle\" x=\"973\" y=\"-736.8\" font-family=\"Helvetica,sans-Serif\" font-size=\"14.00\">samples = 592</text>\n<text text-anchor=\"middle\" x=\"973\" y=\"-721.8\" font-family=\"Helvetica,sans-Serif\" font-size=\"14.00\">value = [113, 479]</text>\n<text text-anchor=\"middle\" x=\"973\" y=\"-706.8\" font-family=\"Helvetica,sans-Serif\" font-size=\"14.00\">class = Bill&#45;palsu</text>\n</g>\n<!-- 0&#45;&gt;1 -->\n<g id=\"edge1\" class=\"edge\">\n<title>0&#45;&gt;1</title>\n<path fill=\"none\" stroke=\"black\" d=\"M1052.67,-817.91C1043.02,-808.65 1032.68,-798.73 1022.75,-789.21\"/>\n<polygon fill=\"black\" stroke=\"black\" points=\"1024.89,-786.42 1015.25,-782.02 1020.05,-791.47 1024.89,-786.42\"/>\n<text text-anchor=\"middle\" x=\"1015.78\" y=\"-803.32\" font-family=\"Helvetica,sans-Serif\" font-size=\"14.00\">True</text>\n</g>\n<!-- 32 -->\n<g id=\"node33\" class=\"node\">\n<title>32</title>\n<path fill=\"#e89152\" stroke=\"black\" d=\"M1318,-782C1318,-782 1214,-782 1214,-782 1208,-782 1202,-776 1202,-770 1202,-770 1202,-711 1202,-711 1202,-705 1208,-699 1214,-699 1214,-699 1318,-699 1318,-699 1324,-699 1330,-705 1330,-711 1330,-711 1330,-770 1330,-770 1330,-776 1324,-782 1318,-782\"/>\n<text text-anchor=\"middle\" x=\"1266\" y=\"-766.8\" font-family=\"Helvetica,sans-Serif\" font-size=\"14.00\">Curtosis &lt;= &#45;4.386</text>\n<text text-anchor=\"middle\" x=\"1266\" y=\"-751.8\" font-family=\"Helvetica,sans-Serif\" font-size=\"14.00\">gini = 0.197</text>\n<text text-anchor=\"middle\" x=\"1266\" y=\"-736.8\" font-family=\"Helvetica,sans-Serif\" font-size=\"14.00\">samples = 642</text>\n<text text-anchor=\"middle\" x=\"1266\" y=\"-721.8\" font-family=\"Helvetica,sans-Serif\" font-size=\"14.00\">value = [571, 71]</text>\n<text text-anchor=\"middle\" x=\"1266\" y=\"-706.8\" font-family=\"Helvetica,sans-Serif\" font-size=\"14.00\">class = Bill&#45;asli</text>\n</g>\n<!-- 0&#45;&gt;32 -->\n<g id=\"edge32\" class=\"edge\">\n<title>0&#45;&gt;32</title>\n<path fill=\"none\" stroke=\"black\" d=\"M1154.33,-817.91C1168.52,-808.2 1183.78,-797.76 1198.31,-787.81\"/>\n<polygon fill=\"black\" stroke=\"black\" points=\"1200.5,-790.56 1206.78,-782.02 1196.55,-784.78 1200.5,-790.56\"/>\n<text text-anchor=\"middle\" x=\"1202.17\" y=\"-802.89\" font-family=\"Helvetica,sans-Serif\" font-size=\"14.00\">False</text>\n</g>\n<!-- 2 -->\n<g id=\"node3\" class=\"node\">\n<title>2</title>\n<path fill=\"#49a5e7\" stroke=\"black\" d=\"M814.5,-663C814.5,-663 707.5,-663 707.5,-663 701.5,-663 695.5,-657 695.5,-651 695.5,-651 695.5,-592 695.5,-592 695.5,-586 701.5,-580 707.5,-580 707.5,-580 814.5,-580 814.5,-580 820.5,-580 826.5,-586 826.5,-592 826.5,-592 826.5,-651 826.5,-651 826.5,-657 820.5,-663 814.5,-663\"/>\n<text text-anchor=\"middle\" x=\"761\" y=\"-647.8\" font-family=\"Helvetica,sans-Serif\" font-size=\"14.00\">Variance &lt;= &#45;0.459</text>\n<text text-anchor=\"middle\" x=\"761\" y=\"-632.8\" font-family=\"Helvetica,sans-Serif\" font-size=\"14.00\">gini = 0.137</text>\n<text text-anchor=\"middle\" x=\"761\" y=\"-617.8\" font-family=\"Helvetica,sans-Serif\" font-size=\"14.00\">samples = 500</text>\n<text text-anchor=\"middle\" x=\"761\" y=\"-602.8\" font-family=\"Helvetica,sans-Serif\" font-size=\"14.00\">value = [37, 463]</text>\n<text text-anchor=\"middle\" x=\"761\" y=\"-587.8\" font-family=\"Helvetica,sans-Serif\" font-size=\"14.00\">class = Bill&#45;palsu</text>\n</g>\n<!-- 1&#45;&gt;2 -->\n<g id=\"edge2\" class=\"edge\">\n<title>1&#45;&gt;2</title>\n<path fill=\"none\" stroke=\"black\" d=\"M904.75,-701.84C882.64,-689.63 857.99,-676.03 835.45,-663.59\"/>\n<polygon fill=\"black\" stroke=\"black\" points=\"837.03,-660.46 826.59,-658.7 833.65,-666.59 837.03,-660.46\"/>\n</g>\n<!-- 29 -->\n<g id=\"node30\" class=\"node\">\n<title>29</title>\n<path fill=\"#ea9c63\" stroke=\"black\" d=\"M1026.5,-663C1026.5,-663 919.5,-663 919.5,-663 913.5,-663 907.5,-657 907.5,-651 907.5,-651 907.5,-592 907.5,-592 907.5,-586 913.5,-580 919.5,-580 919.5,-580 1026.5,-580 1026.5,-580 1032.5,-580 1038.5,-586 1038.5,-592 1038.5,-592 1038.5,-651 1038.5,-651 1038.5,-657 1032.5,-663 1026.5,-663\"/>\n<text text-anchor=\"middle\" x=\"973\" y=\"-647.8\" font-family=\"Helvetica,sans-Serif\" font-size=\"14.00\">Variance &lt;= &#45;4.726</text>\n<text text-anchor=\"middle\" x=\"973\" y=\"-632.8\" font-family=\"Helvetica,sans-Serif\" font-size=\"14.00\">gini = 0.287</text>\n<text text-anchor=\"middle\" x=\"973\" y=\"-617.8\" font-family=\"Helvetica,sans-Serif\" font-size=\"14.00\">samples = 92</text>\n<text text-anchor=\"middle\" x=\"973\" y=\"-602.8\" font-family=\"Helvetica,sans-Serif\" font-size=\"14.00\">value = [76, 16]</text>\n<text text-anchor=\"middle\" x=\"973\" y=\"-587.8\" font-family=\"Helvetica,sans-Serif\" font-size=\"14.00\">class = Bill&#45;asli</text>\n</g>\n<!-- 1&#45;&gt;29 -->\n<g id=\"edge29\" class=\"edge\">\n<title>1&#45;&gt;29</title>\n<path fill=\"none\" stroke=\"black\" d=\"M973,-698.91C973,-690.65 973,-681.86 973,-673.3\"/>\n<polygon fill=\"black\" stroke=\"black\" points=\"976.5,-673.02 973,-663.02 969.5,-673.02 976.5,-673.02\"/>\n</g>\n<!-- 3 -->\n<g id=\"node4\" class=\"node\">\n<title>3</title>\n<path fill=\"#41a1e6\" stroke=\"black\" d=\"M475,-544C475,-544 375,-544 375,-544 369,-544 363,-538 363,-532 363,-532 363,-473 363,-473 363,-467 369,-461 375,-461 375,-461 475,-461 475,-461 481,-461 487,-467 487,-473 487,-473 487,-532 487,-532 487,-538 481,-544 475,-544\"/>\n<text text-anchor=\"middle\" x=\"425\" y=\"-528.8\" font-family=\"Helvetica,sans-Serif\" font-size=\"14.00\">Curtosis &lt;= 6.219</text>\n<text text-anchor=\"middle\" x=\"425\" y=\"-513.8\" font-family=\"Helvetica,sans-Serif\" font-size=\"14.00\">gini = 0.073</text>\n<text text-anchor=\"middle\" x=\"425\" y=\"-498.8\" font-family=\"Helvetica,sans-Serif\" font-size=\"14.00\">samples = 424</text>\n<text text-anchor=\"middle\" x=\"425\" y=\"-483.8\" font-family=\"Helvetica,sans-Serif\" font-size=\"14.00\">value = [16, 408]</text>\n<text text-anchor=\"middle\" x=\"425\" y=\"-468.8\" font-family=\"Helvetica,sans-Serif\" font-size=\"14.00\">class = Bill&#45;palsu</text>\n</g>\n<!-- 2&#45;&gt;3 -->\n<g id=\"edge3\" class=\"edge\">\n<title>2&#45;&gt;3</title>\n<path fill=\"none\" stroke=\"black\" d=\"M695.42,-597.66C638.25,-577.76 555.5,-548.94 496.62,-528.44\"/>\n<polygon fill=\"black\" stroke=\"black\" points=\"497.61,-525.08 487.01,-525.09 495.31,-531.69 497.61,-525.08\"/>\n</g>\n<!-- 16 -->\n<g id=\"node17\" class=\"node\">\n<title>16</title>\n<path fill=\"#85c2ef\" stroke=\"black\" d=\"M811,-544C811,-544 711,-544 711,-544 705,-544 699,-538 699,-532 699,-532 699,-473 699,-473 699,-467 705,-461 711,-461 711,-461 811,-461 811,-461 817,-461 823,-467 823,-473 823,-473 823,-532 823,-532 823,-538 817,-544 811,-544\"/>\n<text text-anchor=\"middle\" x=\"761\" y=\"-528.8\" font-family=\"Helvetica,sans-Serif\" font-size=\"14.00\">Curtosis &lt;= 0.297</text>\n<text text-anchor=\"middle\" x=\"761\" y=\"-513.8\" font-family=\"Helvetica,sans-Serif\" font-size=\"14.00\">gini = 0.4</text>\n<text text-anchor=\"middle\" x=\"761\" y=\"-498.8\" font-family=\"Helvetica,sans-Serif\" font-size=\"14.00\">samples = 76</text>\n<text text-anchor=\"middle\" x=\"761\" y=\"-483.8\" font-family=\"Helvetica,sans-Serif\" font-size=\"14.00\">value = [21, 55]</text>\n<text text-anchor=\"middle\" x=\"761\" y=\"-468.8\" font-family=\"Helvetica,sans-Serif\" font-size=\"14.00\">class = Bill&#45;palsu</text>\n</g>\n<!-- 2&#45;&gt;16 -->\n<g id=\"edge16\" class=\"edge\">\n<title>2&#45;&gt;16</title>\n<path fill=\"none\" stroke=\"black\" d=\"M761,-579.91C761,-571.65 761,-562.86 761,-554.3\"/>\n<polygon fill=\"black\" stroke=\"black\" points=\"764.5,-554.02 761,-544.02 757.5,-554.02 764.5,-554.02\"/>\n</g>\n<!-- 4 -->\n<g id=\"node5\" class=\"node\">\n<title>4</title>\n<path fill=\"#3a9de5\" stroke=\"black\" d=\"M258,-425C258,-425 146,-425 146,-425 140,-425 134,-419 134,-413 134,-413 134,-354 134,-354 134,-348 140,-342 146,-342 146,-342 258,-342 258,-342 264,-342 270,-348 270,-354 270,-354 270,-413 270,-413 270,-419 264,-425 258,-425\"/>\n<text text-anchor=\"middle\" x=\"202\" y=\"-409.8\" font-family=\"Helvetica,sans-Serif\" font-size=\"14.00\">Skewness &lt;= 7.293</text>\n<text text-anchor=\"middle\" x=\"202\" y=\"-394.8\" font-family=\"Helvetica,sans-Serif\" font-size=\"14.00\">gini = 0.007</text>\n<text text-anchor=\"middle\" x=\"202\" y=\"-379.8\" font-family=\"Helvetica,sans-Serif\" font-size=\"14.00\">samples = 288</text>\n<text text-anchor=\"middle\" x=\"202\" y=\"-364.8\" font-family=\"Helvetica,sans-Serif\" font-size=\"14.00\">value = [1, 287]</text>\n<text text-anchor=\"middle\" x=\"202\" y=\"-349.8\" font-family=\"Helvetica,sans-Serif\" font-size=\"14.00\">class = Bill&#45;palsu</text>\n</g>\n<!-- 3&#45;&gt;4 -->\n<g id=\"edge4\" class=\"edge\">\n<title>3&#45;&gt;4</title>\n<path fill=\"none\" stroke=\"black\" d=\"M362.88,-468.91C336.95,-455.3 306.54,-439.35 279.19,-425\"/>\n<polygon fill=\"black\" stroke=\"black\" points=\"280.52,-421.75 270.04,-420.2 277.27,-427.95 280.52,-421.75\"/>\n</g>\n<!-- 9 -->\n<g id=\"node10\" class=\"node\">\n<title>9</title>\n<path fill=\"#52a9e8\" stroke=\"black\" d=\"M483,-425C483,-425 367,-425 367,-425 361,-425 355,-419 355,-413 355,-413 355,-354 355,-354 355,-348 361,-342 367,-342 367,-342 483,-342 483,-342 489,-342 495,-348 495,-354 495,-354 495,-413 495,-413 495,-419 489,-425 483,-425\"/>\n<text text-anchor=\"middle\" x=\"425\" y=\"-409.8\" font-family=\"Helvetica,sans-Serif\" font-size=\"14.00\">Skewness &lt;= &#45;4.675</text>\n<text text-anchor=\"middle\" x=\"425\" y=\"-394.8\" font-family=\"Helvetica,sans-Serif\" font-size=\"14.00\">gini = 0.196</text>\n<text text-anchor=\"middle\" x=\"425\" y=\"-379.8\" font-family=\"Helvetica,sans-Serif\" font-size=\"14.00\">samples = 136</text>\n<text text-anchor=\"middle\" x=\"425\" y=\"-364.8\" font-family=\"Helvetica,sans-Serif\" font-size=\"14.00\">value = [15, 121]</text>\n<text text-anchor=\"middle\" x=\"425\" y=\"-349.8\" font-family=\"Helvetica,sans-Serif\" font-size=\"14.00\">class = Bill&#45;palsu</text>\n</g>\n<!-- 3&#45;&gt;9 -->\n<g id=\"edge9\" class=\"edge\">\n<title>3&#45;&gt;9</title>\n<path fill=\"none\" stroke=\"black\" d=\"M425,-460.91C425,-452.65 425,-443.86 425,-435.3\"/>\n<polygon fill=\"black\" stroke=\"black\" points=\"428.5,-435.02 425,-425.02 421.5,-435.02 428.5,-435.02\"/>\n</g>\n<!-- 5 -->\n<g id=\"node6\" class=\"node\">\n<title>5</title>\n<path fill=\"#399de5\" stroke=\"black\" d=\"M106,-298.5C106,-298.5 12,-298.5 12,-298.5 6,-298.5 0,-292.5 0,-286.5 0,-286.5 0,-242.5 0,-242.5 0,-236.5 6,-230.5 12,-230.5 12,-230.5 106,-230.5 106,-230.5 112,-230.5 118,-236.5 118,-242.5 118,-242.5 118,-286.5 118,-286.5 118,-292.5 112,-298.5 106,-298.5\"/>\n<text text-anchor=\"middle\" x=\"59\" y=\"-283.3\" font-family=\"Helvetica,sans-Serif\" font-size=\"14.00\">gini = 0.0</text>\n<text text-anchor=\"middle\" x=\"59\" y=\"-268.3\" font-family=\"Helvetica,sans-Serif\" font-size=\"14.00\">samples = 284</text>\n<text text-anchor=\"middle\" x=\"59\" y=\"-253.3\" font-family=\"Helvetica,sans-Serif\" font-size=\"14.00\">value = [0, 284]</text>\n<text text-anchor=\"middle\" x=\"59\" y=\"-238.3\" font-family=\"Helvetica,sans-Serif\" font-size=\"14.00\">class = Bill&#45;palsu</text>\n</g>\n<!-- 4&#45;&gt;5 -->\n<g id=\"edge5\" class=\"edge\">\n<title>4&#45;&gt;5</title>\n<path fill=\"none\" stroke=\"black\" d=\"M152.39,-341.91C137.82,-329.99 121.91,-316.98 107.42,-305.12\"/>\n<polygon fill=\"black\" stroke=\"black\" points=\"109.49,-302.29 99.54,-298.67 105.06,-307.71 109.49,-302.29\"/>\n</g>\n<!-- 6 -->\n<g id=\"node7\" class=\"node\">\n<title>6</title>\n<path fill=\"#7bbeee\" stroke=\"black\" d=\"M255.5,-306C255.5,-306 148.5,-306 148.5,-306 142.5,-306 136.5,-300 136.5,-294 136.5,-294 136.5,-235 136.5,-235 136.5,-229 142.5,-223 148.5,-223 148.5,-223 255.5,-223 255.5,-223 261.5,-223 267.5,-229 267.5,-235 267.5,-235 267.5,-294 267.5,-294 267.5,-300 261.5,-306 255.5,-306\"/>\n<text text-anchor=\"middle\" x=\"202\" y=\"-290.8\" font-family=\"Helvetica,sans-Serif\" font-size=\"14.00\">Variance &lt;= &#45;2.509</text>\n<text text-anchor=\"middle\" x=\"202\" y=\"-275.8\" font-family=\"Helvetica,sans-Serif\" font-size=\"14.00\">gini = 0.375</text>\n<text text-anchor=\"middle\" x=\"202\" y=\"-260.8\" font-family=\"Helvetica,sans-Serif\" font-size=\"14.00\">samples = 4</text>\n<text text-anchor=\"middle\" x=\"202\" y=\"-245.8\" font-family=\"Helvetica,sans-Serif\" font-size=\"14.00\">value = [1, 3]</text>\n<text text-anchor=\"middle\" x=\"202\" y=\"-230.8\" font-family=\"Helvetica,sans-Serif\" font-size=\"14.00\">class = Bill&#45;palsu</text>\n</g>\n<!-- 4&#45;&gt;6 -->\n<g id=\"edge6\" class=\"edge\">\n<title>4&#45;&gt;6</title>\n<path fill=\"none\" stroke=\"black\" d=\"M202,-341.91C202,-333.65 202,-324.86 202,-316.3\"/>\n<polygon fill=\"black\" stroke=\"black\" points=\"205.5,-316.02 202,-306.02 198.5,-316.02 205.5,-316.02\"/>\n</g>\n<!-- 7 -->\n<g id=\"node8\" class=\"node\">\n<title>7</title>\n<path fill=\"#399de5\" stroke=\"black\" d=\"M184,-179.5C184,-179.5 90,-179.5 90,-179.5 84,-179.5 78,-173.5 78,-167.5 78,-167.5 78,-123.5 78,-123.5 78,-117.5 84,-111.5 90,-111.5 90,-111.5 184,-111.5 184,-111.5 190,-111.5 196,-117.5 196,-123.5 196,-123.5 196,-167.5 196,-167.5 196,-173.5 190,-179.5 184,-179.5\"/>\n<text text-anchor=\"middle\" x=\"137\" y=\"-164.3\" font-family=\"Helvetica,sans-Serif\" font-size=\"14.00\">gini = 0.0</text>\n<text text-anchor=\"middle\" x=\"137\" y=\"-149.3\" font-family=\"Helvetica,sans-Serif\" font-size=\"14.00\">samples = 3</text>\n<text text-anchor=\"middle\" x=\"137\" y=\"-134.3\" font-family=\"Helvetica,sans-Serif\" font-size=\"14.00\">value = [0, 3]</text>\n<text text-anchor=\"middle\" x=\"137\" y=\"-119.3\" font-family=\"Helvetica,sans-Serif\" font-size=\"14.00\">class = Bill&#45;palsu</text>\n</g>\n<!-- 6&#45;&gt;7 -->\n<g id=\"edge7\" class=\"edge\">\n<title>6&#45;&gt;7</title>\n<path fill=\"none\" stroke=\"black\" d=\"M179.45,-222.91C173.26,-211.76 166.53,-199.66 160.3,-188.44\"/>\n<polygon fill=\"black\" stroke=\"black\" points=\"163.34,-186.71 155.43,-179.67 157.22,-190.11 163.34,-186.71\"/>\n</g>\n<!-- 8 -->\n<g id=\"node9\" class=\"node\">\n<title>8</title>\n<path fill=\"#e58139\" stroke=\"black\" d=\"M308,-179.5C308,-179.5 226,-179.5 226,-179.5 220,-179.5 214,-173.5 214,-167.5 214,-167.5 214,-123.5 214,-123.5 214,-117.5 220,-111.5 226,-111.5 226,-111.5 308,-111.5 308,-111.5 314,-111.5 320,-117.5 320,-123.5 320,-123.5 320,-167.5 320,-167.5 320,-173.5 314,-179.5 308,-179.5\"/>\n<text text-anchor=\"middle\" x=\"267\" y=\"-164.3\" font-family=\"Helvetica,sans-Serif\" font-size=\"14.00\">gini = 0.0</text>\n<text text-anchor=\"middle\" x=\"267\" y=\"-149.3\" font-family=\"Helvetica,sans-Serif\" font-size=\"14.00\">samples = 1</text>\n<text text-anchor=\"middle\" x=\"267\" y=\"-134.3\" font-family=\"Helvetica,sans-Serif\" font-size=\"14.00\">value = [1, 0]</text>\n<text text-anchor=\"middle\" x=\"267\" y=\"-119.3\" font-family=\"Helvetica,sans-Serif\" font-size=\"14.00\">class = Bill&#45;asli</text>\n</g>\n<!-- 6&#45;&gt;8 -->\n<g id=\"edge8\" class=\"edge\">\n<title>6&#45;&gt;8</title>\n<path fill=\"none\" stroke=\"black\" d=\"M224.55,-222.91C230.74,-211.76 237.47,-199.66 243.7,-188.44\"/>\n<polygon fill=\"black\" stroke=\"black\" points=\"246.78,-190.11 248.57,-179.67 240.66,-186.71 246.78,-190.11\"/>\n</g>\n<!-- 10 -->\n<g id=\"node11\" class=\"node\">\n<title>10</title>\n<path fill=\"#399de5\" stroke=\"black\" d=\"M392,-298.5C392,-298.5 298,-298.5 298,-298.5 292,-298.5 286,-292.5 286,-286.5 286,-286.5 286,-242.5 286,-242.5 286,-236.5 292,-230.5 298,-230.5 298,-230.5 392,-230.5 392,-230.5 398,-230.5 404,-236.5 404,-242.5 404,-242.5 404,-286.5 404,-286.5 404,-292.5 398,-298.5 392,-298.5\"/>\n<text text-anchor=\"middle\" x=\"345\" y=\"-283.3\" font-family=\"Helvetica,sans-Serif\" font-size=\"14.00\">gini = 0.0</text>\n<text text-anchor=\"middle\" x=\"345\" y=\"-268.3\" font-family=\"Helvetica,sans-Serif\" font-size=\"14.00\">samples = 120</text>\n<text text-anchor=\"middle\" x=\"345\" y=\"-253.3\" font-family=\"Helvetica,sans-Serif\" font-size=\"14.00\">value = [0, 120]</text>\n<text text-anchor=\"middle\" x=\"345\" y=\"-238.3\" font-family=\"Helvetica,sans-Serif\" font-size=\"14.00\">class = Bill&#45;palsu</text>\n</g>\n<!-- 9&#45;&gt;10 -->\n<g id=\"edge10\" class=\"edge\">\n<title>9&#45;&gt;10</title>\n<path fill=\"none\" stroke=\"black\" d=\"M397.24,-341.91C389.55,-330.65 381.18,-318.42 373.45,-307.11\"/>\n<polygon fill=\"black\" stroke=\"black\" points=\"376.21,-304.95 367.68,-298.67 370.43,-308.9 376.21,-304.95\"/>\n</g>\n<!-- 11 -->\n<g id=\"node12\" class=\"node\">\n<title>11</title>\n<path fill=\"#e78946\" stroke=\"black\" d=\"M550,-306C550,-306 434,-306 434,-306 428,-306 422,-300 422,-294 422,-294 422,-235 422,-235 422,-229 428,-223 434,-223 434,-223 550,-223 550,-223 556,-223 562,-229 562,-235 562,-235 562,-294 562,-294 562,-300 556,-306 550,-306\"/>\n<text text-anchor=\"middle\" x=\"492\" y=\"-290.8\" font-family=\"Helvetica,sans-Serif\" font-size=\"14.00\">Skewness &lt;= &#45;2.243</text>\n<text text-anchor=\"middle\" x=\"492\" y=\"-275.8\" font-family=\"Helvetica,sans-Serif\" font-size=\"14.00\">gini = 0.117</text>\n<text text-anchor=\"middle\" x=\"492\" y=\"-260.8\" font-family=\"Helvetica,sans-Serif\" font-size=\"14.00\">samples = 16</text>\n<text text-anchor=\"middle\" x=\"492\" y=\"-245.8\" font-family=\"Helvetica,sans-Serif\" font-size=\"14.00\">value = [15, 1]</text>\n<text text-anchor=\"middle\" x=\"492\" y=\"-230.8\" font-family=\"Helvetica,sans-Serif\" font-size=\"14.00\">class = Bill&#45;asli</text>\n</g>\n<!-- 9&#45;&gt;11 -->\n<g id=\"edge11\" class=\"edge\">\n<title>9&#45;&gt;11</title>\n<path fill=\"none\" stroke=\"black\" d=\"M448.25,-341.91C453.23,-333.2 458.56,-323.9 463.71,-314.89\"/>\n<polygon fill=\"black\" stroke=\"black\" points=\"466.86,-316.44 468.8,-306.02 460.79,-312.96 466.86,-316.44\"/>\n</g>\n<!-- 12 -->\n<g id=\"node13\" class=\"node\">\n<title>12</title>\n<path fill=\"#ffffff\" stroke=\"black\" d=\"M541,-187C541,-187 425,-187 425,-187 419,-187 413,-181 413,-175 413,-175 413,-116 413,-116 413,-110 419,-104 425,-104 425,-104 541,-104 541,-104 547,-104 553,-110 553,-116 553,-116 553,-175 553,-175 553,-181 547,-187 541,-187\"/>\n<text text-anchor=\"middle\" x=\"483\" y=\"-171.8\" font-family=\"Helvetica,sans-Serif\" font-size=\"14.00\">Skewness &lt;= &#45;4.581</text>\n<text text-anchor=\"middle\" x=\"483\" y=\"-156.8\" font-family=\"Helvetica,sans-Serif\" font-size=\"14.00\">gini = 0.5</text>\n<text text-anchor=\"middle\" x=\"483\" y=\"-141.8\" font-family=\"Helvetica,sans-Serif\" font-size=\"14.00\">samples = 2</text>\n<text text-anchor=\"middle\" x=\"483\" y=\"-126.8\" font-family=\"Helvetica,sans-Serif\" font-size=\"14.00\">value = [1, 1]</text>\n<text text-anchor=\"middle\" x=\"483\" y=\"-111.8\" font-family=\"Helvetica,sans-Serif\" font-size=\"14.00\">class = Bill&#45;asli</text>\n</g>\n<!-- 11&#45;&gt;12 -->\n<g id=\"edge12\" class=\"edge\">\n<title>11&#45;&gt;12</title>\n<path fill=\"none\" stroke=\"black\" d=\"M488.88,-222.91C488.24,-214.56 487.55,-205.67 486.89,-197.02\"/>\n<polygon fill=\"black\" stroke=\"black\" points=\"490.37,-196.72 486.12,-187.02 483.39,-197.26 490.37,-196.72\"/>\n</g>\n<!-- 15 -->\n<g id=\"node16\" class=\"node\">\n<title>15</title>\n<path fill=\"#e58139\" stroke=\"black\" d=\"M665,-179.5C665,-179.5 583,-179.5 583,-179.5 577,-179.5 571,-173.5 571,-167.5 571,-167.5 571,-123.5 571,-123.5 571,-117.5 577,-111.5 583,-111.5 583,-111.5 665,-111.5 665,-111.5 671,-111.5 677,-117.5 677,-123.5 677,-123.5 677,-167.5 677,-167.5 677,-173.5 671,-179.5 665,-179.5\"/>\n<text text-anchor=\"middle\" x=\"624\" y=\"-164.3\" font-family=\"Helvetica,sans-Serif\" font-size=\"14.00\">gini = 0.0</text>\n<text text-anchor=\"middle\" x=\"624\" y=\"-149.3\" font-family=\"Helvetica,sans-Serif\" font-size=\"14.00\">samples = 14</text>\n<text text-anchor=\"middle\" x=\"624\" y=\"-134.3\" font-family=\"Helvetica,sans-Serif\" font-size=\"14.00\">value = [14, 0]</text>\n<text text-anchor=\"middle\" x=\"624\" y=\"-119.3\" font-family=\"Helvetica,sans-Serif\" font-size=\"14.00\">class = Bill&#45;asli</text>\n</g>\n<!-- 11&#45;&gt;15 -->\n<g id=\"edge15\" class=\"edge\">\n<title>11&#45;&gt;15</title>\n<path fill=\"none\" stroke=\"black\" d=\"M537.8,-222.91C551.12,-211.1 565.65,-198.22 578.93,-186.45\"/>\n<polygon fill=\"black\" stroke=\"black\" points=\"581.42,-188.92 586.58,-179.67 576.78,-183.68 581.42,-188.92\"/>\n</g>\n<!-- 13 -->\n<g id=\"node14\" class=\"node\">\n<title>13</title>\n<path fill=\"#e58139\" stroke=\"black\" d=\"M459,-68C459,-68 377,-68 377,-68 371,-68 365,-62 365,-56 365,-56 365,-12 365,-12 365,-6 371,0 377,0 377,0 459,0 459,0 465,0 471,-6 471,-12 471,-12 471,-56 471,-56 471,-62 465,-68 459,-68\"/>\n<text text-anchor=\"middle\" x=\"418\" y=\"-52.8\" font-family=\"Helvetica,sans-Serif\" font-size=\"14.00\">gini = 0.0</text>\n<text text-anchor=\"middle\" x=\"418\" y=\"-37.8\" font-family=\"Helvetica,sans-Serif\" font-size=\"14.00\">samples = 1</text>\n<text text-anchor=\"middle\" x=\"418\" y=\"-22.8\" font-family=\"Helvetica,sans-Serif\" font-size=\"14.00\">value = [1, 0]</text>\n<text text-anchor=\"middle\" x=\"418\" y=\"-7.8\" font-family=\"Helvetica,sans-Serif\" font-size=\"14.00\">class = Bill&#45;asli</text>\n</g>\n<!-- 12&#45;&gt;13 -->\n<g id=\"edge13\" class=\"edge\">\n<title>12&#45;&gt;13</title>\n<path fill=\"none\" stroke=\"black\" d=\"M458.8,-103.73C453.6,-94.97 448.1,-85.7 442.88,-76.91\"/>\n<polygon fill=\"black\" stroke=\"black\" points=\"445.88,-75.11 437.77,-68.3 439.86,-78.69 445.88,-75.11\"/>\n</g>\n<!-- 14 -->\n<g id=\"node15\" class=\"node\">\n<title>14</title>\n<path fill=\"#399de5\" stroke=\"black\" d=\"M595,-68C595,-68 501,-68 501,-68 495,-68 489,-62 489,-56 489,-56 489,-12 489,-12 489,-6 495,0 501,0 501,0 595,0 595,0 601,0 607,-6 607,-12 607,-12 607,-56 607,-56 607,-62 601,-68 595,-68\"/>\n<text text-anchor=\"middle\" x=\"548\" y=\"-52.8\" font-family=\"Helvetica,sans-Serif\" font-size=\"14.00\">gini = 0.0</text>\n<text text-anchor=\"middle\" x=\"548\" y=\"-37.8\" font-family=\"Helvetica,sans-Serif\" font-size=\"14.00\">samples = 1</text>\n<text text-anchor=\"middle\" x=\"548\" y=\"-22.8\" font-family=\"Helvetica,sans-Serif\" font-size=\"14.00\">value = [0, 1]</text>\n<text text-anchor=\"middle\" x=\"548\" y=\"-7.8\" font-family=\"Helvetica,sans-Serif\" font-size=\"14.00\">class = Bill&#45;palsu</text>\n</g>\n<!-- 12&#45;&gt;14 -->\n<g id=\"edge14\" class=\"edge\">\n<title>12&#45;&gt;14</title>\n<path fill=\"none\" stroke=\"black\" d=\"M507.2,-103.73C512.4,-94.97 517.9,-85.7 523.12,-76.91\"/>\n<polygon fill=\"black\" stroke=\"black\" points=\"526.14,-78.69 528.23,-68.3 520.12,-75.11 526.14,-78.69\"/>\n</g>\n<!-- 17 -->\n<g id=\"node18\" class=\"node\">\n<title>17</title>\n<path fill=\"#42a1e6\" stroke=\"black\" d=\"M814,-425C814,-425 702,-425 702,-425 696,-425 690,-419 690,-413 690,-413 690,-354 690,-354 690,-348 696,-342 702,-342 702,-342 814,-342 814,-342 820,-342 826,-348 826,-354 826,-354 826,-413 826,-413 826,-419 820,-425 814,-425\"/>\n<text text-anchor=\"middle\" x=\"758\" y=\"-409.8\" font-family=\"Helvetica,sans-Serif\" font-size=\"14.00\">Skewness &lt;= 6.031</text>\n<text text-anchor=\"middle\" x=\"758\" y=\"-394.8\" font-family=\"Helvetica,sans-Serif\" font-size=\"14.00\">gini = 0.083</text>\n<text text-anchor=\"middle\" x=\"758\" y=\"-379.8\" font-family=\"Helvetica,sans-Serif\" font-size=\"14.00\">samples = 46</text>\n<text text-anchor=\"middle\" x=\"758\" y=\"-364.8\" font-family=\"Helvetica,sans-Serif\" font-size=\"14.00\">value = [2, 44]</text>\n<text text-anchor=\"middle\" x=\"758\" y=\"-349.8\" font-family=\"Helvetica,sans-Serif\" font-size=\"14.00\">class = Bill&#45;palsu</text>\n</g>\n<!-- 16&#45;&gt;17 -->\n<g id=\"edge17\" class=\"edge\">\n<title>16&#45;&gt;17</title>\n<path fill=\"none\" stroke=\"black\" d=\"M759.96,-460.91C759.75,-452.56 759.52,-443.67 759.3,-435.02\"/>\n<polygon fill=\"black\" stroke=\"black\" points=\"762.79,-434.93 759.04,-425.02 755.8,-435.11 762.79,-434.93\"/>\n</g>\n<!-- 20 -->\n<g id=\"node21\" class=\"node\">\n<title>20</title>\n<path fill=\"#f4caac\" stroke=\"black\" d=\"M953.5,-425C953.5,-425 856.5,-425 856.5,-425 850.5,-425 844.5,-419 844.5,-413 844.5,-413 844.5,-354 844.5,-354 844.5,-348 850.5,-342 856.5,-342 856.5,-342 953.5,-342 953.5,-342 959.5,-342 965.5,-348 965.5,-354 965.5,-354 965.5,-413 965.5,-413 965.5,-419 959.5,-425 953.5,-425\"/>\n<text text-anchor=\"middle\" x=\"905\" y=\"-409.8\" font-family=\"Helvetica,sans-Serif\" font-size=\"14.00\">Entropy &lt;= 0.688</text>\n<text text-anchor=\"middle\" x=\"905\" y=\"-394.8\" font-family=\"Helvetica,sans-Serif\" font-size=\"14.00\">gini = 0.464</text>\n<text text-anchor=\"middle\" x=\"905\" y=\"-379.8\" font-family=\"Helvetica,sans-Serif\" font-size=\"14.00\">samples = 30</text>\n<text text-anchor=\"middle\" x=\"905\" y=\"-364.8\" font-family=\"Helvetica,sans-Serif\" font-size=\"14.00\">value = [19, 11]</text>\n<text text-anchor=\"middle\" x=\"905\" y=\"-349.8\" font-family=\"Helvetica,sans-Serif\" font-size=\"14.00\">class = Bill&#45;asli</text>\n</g>\n<!-- 16&#45;&gt;20 -->\n<g id=\"edge20\" class=\"edge\">\n<title>16&#45;&gt;20</title>\n<path fill=\"none\" stroke=\"black\" d=\"M810.96,-460.91C822.69,-451.38 835.28,-441.15 847.31,-431.37\"/>\n<polygon fill=\"black\" stroke=\"black\" points=\"849.57,-434.04 855.13,-425.02 845.16,-428.61 849.57,-434.04\"/>\n</g>\n<!-- 18 -->\n<g id=\"node19\" class=\"node\">\n<title>18</title>\n<path fill=\"#399de5\" stroke=\"black\" d=\"M686,-298.5C686,-298.5 592,-298.5 592,-298.5 586,-298.5 580,-292.5 580,-286.5 580,-286.5 580,-242.5 580,-242.5 580,-236.5 586,-230.5 592,-230.5 592,-230.5 686,-230.5 686,-230.5 692,-230.5 698,-236.5 698,-242.5 698,-242.5 698,-286.5 698,-286.5 698,-292.5 692,-298.5 686,-298.5\"/>\n<text text-anchor=\"middle\" x=\"639\" y=\"-283.3\" font-family=\"Helvetica,sans-Serif\" font-size=\"14.00\">gini = 0.0</text>\n<text text-anchor=\"middle\" x=\"639\" y=\"-268.3\" font-family=\"Helvetica,sans-Serif\" font-size=\"14.00\">samples = 44</text>\n<text text-anchor=\"middle\" x=\"639\" y=\"-253.3\" font-family=\"Helvetica,sans-Serif\" font-size=\"14.00\">value = [0, 44]</text>\n<text text-anchor=\"middle\" x=\"639\" y=\"-238.3\" font-family=\"Helvetica,sans-Serif\" font-size=\"14.00\">class = Bill&#45;palsu</text>\n</g>\n<!-- 17&#45;&gt;18 -->\n<g id=\"edge18\" class=\"edge\">\n<title>17&#45;&gt;18</title>\n<path fill=\"none\" stroke=\"black\" d=\"M716.71,-341.91C704.82,-330.21 691.85,-317.46 679.97,-305.78\"/>\n<polygon fill=\"black\" stroke=\"black\" points=\"682.32,-303.18 672.73,-298.67 677.41,-308.17 682.32,-303.18\"/>\n</g>\n<!-- 19 -->\n<g id=\"node20\" class=\"node\">\n<title>19</title>\n<path fill=\"#e58139\" stroke=\"black\" d=\"M810,-298.5C810,-298.5 728,-298.5 728,-298.5 722,-298.5 716,-292.5 716,-286.5 716,-286.5 716,-242.5 716,-242.5 716,-236.5 722,-230.5 728,-230.5 728,-230.5 810,-230.5 810,-230.5 816,-230.5 822,-236.5 822,-242.5 822,-242.5 822,-286.5 822,-286.5 822,-292.5 816,-298.5 810,-298.5\"/>\n<text text-anchor=\"middle\" x=\"769\" y=\"-283.3\" font-family=\"Helvetica,sans-Serif\" font-size=\"14.00\">gini = 0.0</text>\n<text text-anchor=\"middle\" x=\"769\" y=\"-268.3\" font-family=\"Helvetica,sans-Serif\" font-size=\"14.00\">samples = 2</text>\n<text text-anchor=\"middle\" x=\"769\" y=\"-253.3\" font-family=\"Helvetica,sans-Serif\" font-size=\"14.00\">value = [2, 0]</text>\n<text text-anchor=\"middle\" x=\"769\" y=\"-238.3\" font-family=\"Helvetica,sans-Serif\" font-size=\"14.00\">class = Bill&#45;asli</text>\n</g>\n<!-- 17&#45;&gt;19 -->\n<g id=\"edge19\" class=\"edge\">\n<title>17&#45;&gt;19</title>\n<path fill=\"none\" stroke=\"black\" d=\"M761.82,-341.91C762.82,-331.2 763.91,-319.62 764.93,-308.78\"/>\n<polygon fill=\"black\" stroke=\"black\" points=\"768.43,-308.95 765.88,-298.67 761.46,-308.3 768.43,-308.95\"/>\n</g>\n<!-- 21 -->\n<g id=\"node22\" class=\"node\">\n<title>21</title>\n<path fill=\"#e89050\" stroke=\"black\" d=\"M955.5,-306C955.5,-306 852.5,-306 852.5,-306 846.5,-306 840.5,-300 840.5,-294 840.5,-294 840.5,-235 840.5,-235 840.5,-229 846.5,-223 852.5,-223 852.5,-223 955.5,-223 955.5,-223 961.5,-223 967.5,-229 967.5,-235 967.5,-235 967.5,-294 967.5,-294 967.5,-300 961.5,-306 955.5,-306\"/>\n<text text-anchor=\"middle\" x=\"904\" y=\"-290.8\" font-family=\"Helvetica,sans-Serif\" font-size=\"14.00\">Variance &lt;= 0.096</text>\n<text text-anchor=\"middle\" x=\"904\" y=\"-275.8\" font-family=\"Helvetica,sans-Serif\" font-size=\"14.00\">gini = 0.188</text>\n<text text-anchor=\"middle\" x=\"904\" y=\"-260.8\" font-family=\"Helvetica,sans-Serif\" font-size=\"14.00\">samples = 19</text>\n<text text-anchor=\"middle\" x=\"904\" y=\"-245.8\" font-family=\"Helvetica,sans-Serif\" font-size=\"14.00\">value = [17, 2]</text>\n<text text-anchor=\"middle\" x=\"904\" y=\"-230.8\" font-family=\"Helvetica,sans-Serif\" font-size=\"14.00\">class = Bill&#45;asli</text>\n</g>\n<!-- 20&#45;&gt;21 -->\n<g id=\"edge21\" class=\"edge\">\n<title>20&#45;&gt;21</title>\n<path fill=\"none\" stroke=\"black\" d=\"M904.65,-341.91C904.58,-333.65 904.51,-324.86 904.43,-316.3\"/>\n<polygon fill=\"black\" stroke=\"black\" points=\"907.93,-315.99 904.35,-306.02 900.93,-316.05 907.93,-315.99\"/>\n</g>\n<!-- 26 -->\n<g id=\"node27\" class=\"node\">\n<title>26</title>\n<path fill=\"#65b3eb\" stroke=\"black\" d=\"M1098,-306C1098,-306 998,-306 998,-306 992,-306 986,-300 986,-294 986,-294 986,-235 986,-235 986,-229 992,-223 998,-223 998,-223 1098,-223 1098,-223 1104,-223 1110,-229 1110,-235 1110,-235 1110,-294 1110,-294 1110,-300 1104,-306 1098,-306\"/>\n<text text-anchor=\"middle\" x=\"1048\" y=\"-290.8\" font-family=\"Helvetica,sans-Serif\" font-size=\"14.00\">Curtosis &lt;= 6.251</text>\n<text text-anchor=\"middle\" x=\"1048\" y=\"-275.8\" font-family=\"Helvetica,sans-Serif\" font-size=\"14.00\">gini = 0.298</text>\n<text text-anchor=\"middle\" x=\"1048\" y=\"-260.8\" font-family=\"Helvetica,sans-Serif\" font-size=\"14.00\">samples = 11</text>\n<text text-anchor=\"middle\" x=\"1048\" y=\"-245.8\" font-family=\"Helvetica,sans-Serif\" font-size=\"14.00\">value = [2, 9]</text>\n<text text-anchor=\"middle\" x=\"1048\" y=\"-230.8\" font-family=\"Helvetica,sans-Serif\" font-size=\"14.00\">class = Bill&#45;palsu</text>\n</g>\n<!-- 20&#45;&gt;26 -->\n<g id=\"edge26\" class=\"edge\">\n<title>20&#45;&gt;26</title>\n<path fill=\"none\" stroke=\"black\" d=\"M954.61,-341.91C966.26,-332.38 978.76,-322.15 990.71,-312.37\"/>\n<polygon fill=\"black\" stroke=\"black\" points=\"992.95,-315.06 998.47,-306.02 988.52,-309.64 992.95,-315.06\"/>\n</g>\n<!-- 22 -->\n<g id=\"node23\" class=\"node\">\n<title>22</title>\n<path fill=\"#e58139\" stroke=\"black\" d=\"M806,-179.5C806,-179.5 724,-179.5 724,-179.5 718,-179.5 712,-173.5 712,-167.5 712,-167.5 712,-123.5 712,-123.5 712,-117.5 718,-111.5 724,-111.5 724,-111.5 806,-111.5 806,-111.5 812,-111.5 818,-117.5 818,-123.5 818,-123.5 818,-167.5 818,-167.5 818,-173.5 812,-179.5 806,-179.5\"/>\n<text text-anchor=\"middle\" x=\"765\" y=\"-164.3\" font-family=\"Helvetica,sans-Serif\" font-size=\"14.00\">gini = 0.0</text>\n<text text-anchor=\"middle\" x=\"765\" y=\"-149.3\" font-family=\"Helvetica,sans-Serif\" font-size=\"14.00\">samples = 16</text>\n<text text-anchor=\"middle\" x=\"765\" y=\"-134.3\" font-family=\"Helvetica,sans-Serif\" font-size=\"14.00\">value = [16, 0]</text>\n<text text-anchor=\"middle\" x=\"765\" y=\"-119.3\" font-family=\"Helvetica,sans-Serif\" font-size=\"14.00\">class = Bill&#45;asli</text>\n</g>\n<!-- 21&#45;&gt;22 -->\n<g id=\"edge22\" class=\"edge\">\n<title>21&#45;&gt;22</title>\n<path fill=\"none\" stroke=\"black\" d=\"M855.77,-222.91C841.62,-210.99 826.15,-197.98 812.07,-186.12\"/>\n<polygon fill=\"black\" stroke=\"black\" points=\"814.31,-183.43 804.4,-179.67 809.8,-188.78 814.31,-183.43\"/>\n</g>\n<!-- 23 -->\n<g id=\"node24\" class=\"node\">\n<title>23</title>\n<path fill=\"#9ccef2\" stroke=\"black\" d=\"M960,-187C960,-187 848,-187 848,-187 842,-187 836,-181 836,-175 836,-175 836,-116 836,-116 836,-110 842,-104 848,-104 848,-104 960,-104 960,-104 966,-104 972,-110 972,-116 972,-116 972,-175 972,-175 972,-181 966,-187 960,-187\"/>\n<text text-anchor=\"middle\" x=\"904\" y=\"-171.8\" font-family=\"Helvetica,sans-Serif\" font-size=\"14.00\">Skewness &lt;= 2.906</text>\n<text text-anchor=\"middle\" x=\"904\" y=\"-156.8\" font-family=\"Helvetica,sans-Serif\" font-size=\"14.00\">gini = 0.444</text>\n<text text-anchor=\"middle\" x=\"904\" y=\"-141.8\" font-family=\"Helvetica,sans-Serif\" font-size=\"14.00\">samples = 3</text>\n<text text-anchor=\"middle\" x=\"904\" y=\"-126.8\" font-family=\"Helvetica,sans-Serif\" font-size=\"14.00\">value = [1, 2]</text>\n<text text-anchor=\"middle\" x=\"904\" y=\"-111.8\" font-family=\"Helvetica,sans-Serif\" font-size=\"14.00\">class = Bill&#45;palsu</text>\n</g>\n<!-- 21&#45;&gt;23 -->\n<g id=\"edge23\" class=\"edge\">\n<title>21&#45;&gt;23</title>\n<path fill=\"none\" stroke=\"black\" d=\"M904,-222.91C904,-214.65 904,-205.86 904,-197.3\"/>\n<polygon fill=\"black\" stroke=\"black\" points=\"907.5,-197.02 904,-187.02 900.5,-197.02 907.5,-197.02\"/>\n</g>\n<!-- 24 -->\n<g id=\"node25\" class=\"node\">\n<title>24</title>\n<path fill=\"#399de5\" stroke=\"black\" d=\"M886,-68C886,-68 792,-68 792,-68 786,-68 780,-62 780,-56 780,-56 780,-12 780,-12 780,-6 786,0 792,0 792,0 886,0 886,0 892,0 898,-6 898,-12 898,-12 898,-56 898,-56 898,-62 892,-68 886,-68\"/>\n<text text-anchor=\"middle\" x=\"839\" y=\"-52.8\" font-family=\"Helvetica,sans-Serif\" font-size=\"14.00\">gini = 0.0</text>\n<text text-anchor=\"middle\" x=\"839\" y=\"-37.8\" font-family=\"Helvetica,sans-Serif\" font-size=\"14.00\">samples = 2</text>\n<text text-anchor=\"middle\" x=\"839\" y=\"-22.8\" font-family=\"Helvetica,sans-Serif\" font-size=\"14.00\">value = [0, 2]</text>\n<text text-anchor=\"middle\" x=\"839\" y=\"-7.8\" font-family=\"Helvetica,sans-Serif\" font-size=\"14.00\">class = Bill&#45;palsu</text>\n</g>\n<!-- 23&#45;&gt;24 -->\n<g id=\"edge24\" class=\"edge\">\n<title>23&#45;&gt;24</title>\n<path fill=\"none\" stroke=\"black\" d=\"M879.8,-103.73C874.6,-94.97 869.1,-85.7 863.88,-76.91\"/>\n<polygon fill=\"black\" stroke=\"black\" points=\"866.88,-75.11 858.77,-68.3 860.86,-78.69 866.88,-75.11\"/>\n</g>\n<!-- 25 -->\n<g id=\"node26\" class=\"node\">\n<title>25</title>\n<path fill=\"#e58139\" stroke=\"black\" d=\"M1010,-68C1010,-68 928,-68 928,-68 922,-68 916,-62 916,-56 916,-56 916,-12 916,-12 916,-6 922,0 928,0 928,0 1010,0 1010,0 1016,0 1022,-6 1022,-12 1022,-12 1022,-56 1022,-56 1022,-62 1016,-68 1010,-68\"/>\n<text text-anchor=\"middle\" x=\"969\" y=\"-52.8\" font-family=\"Helvetica,sans-Serif\" font-size=\"14.00\">gini = 0.0</text>\n<text text-anchor=\"middle\" x=\"969\" y=\"-37.8\" font-family=\"Helvetica,sans-Serif\" font-size=\"14.00\">samples = 1</text>\n<text text-anchor=\"middle\" x=\"969\" y=\"-22.8\" font-family=\"Helvetica,sans-Serif\" font-size=\"14.00\">value = [1, 0]</text>\n<text text-anchor=\"middle\" x=\"969\" y=\"-7.8\" font-family=\"Helvetica,sans-Serif\" font-size=\"14.00\">class = Bill&#45;asli</text>\n</g>\n<!-- 23&#45;&gt;25 -->\n<g id=\"edge25\" class=\"edge\">\n<title>23&#45;&gt;25</title>\n<path fill=\"none\" stroke=\"black\" d=\"M928.2,-103.73C933.4,-94.97 938.9,-85.7 944.12,-76.91\"/>\n<polygon fill=\"black\" stroke=\"black\" points=\"947.14,-78.69 949.23,-68.3 941.12,-75.11 947.14,-78.69\"/>\n</g>\n<!-- 27 -->\n<g id=\"node28\" class=\"node\">\n<title>27</title>\n<path fill=\"#399de5\" stroke=\"black\" d=\"M1096,-179.5C1096,-179.5 1002,-179.5 1002,-179.5 996,-179.5 990,-173.5 990,-167.5 990,-167.5 990,-123.5 990,-123.5 990,-117.5 996,-111.5 1002,-111.5 1002,-111.5 1096,-111.5 1096,-111.5 1102,-111.5 1108,-117.5 1108,-123.5 1108,-123.5 1108,-167.5 1108,-167.5 1108,-173.5 1102,-179.5 1096,-179.5\"/>\n<text text-anchor=\"middle\" x=\"1049\" y=\"-164.3\" font-family=\"Helvetica,sans-Serif\" font-size=\"14.00\">gini = 0.0</text>\n<text text-anchor=\"middle\" x=\"1049\" y=\"-149.3\" font-family=\"Helvetica,sans-Serif\" font-size=\"14.00\">samples = 9</text>\n<text text-anchor=\"middle\" x=\"1049\" y=\"-134.3\" font-family=\"Helvetica,sans-Serif\" font-size=\"14.00\">value = [0, 9]</text>\n<text text-anchor=\"middle\" x=\"1049\" y=\"-119.3\" font-family=\"Helvetica,sans-Serif\" font-size=\"14.00\">class = Bill&#45;palsu</text>\n</g>\n<!-- 26&#45;&gt;27 -->\n<g id=\"edge27\" class=\"edge\">\n<title>26&#45;&gt;27</title>\n<path fill=\"none\" stroke=\"black\" d=\"M1048.35,-222.91C1048.44,-212.2 1048.54,-200.62 1048.63,-189.78\"/>\n<polygon fill=\"black\" stroke=\"black\" points=\"1052.13,-189.7 1048.72,-179.67 1045.13,-189.64 1052.13,-189.7\"/>\n</g>\n<!-- 28 -->\n<g id=\"node29\" class=\"node\">\n<title>28</title>\n<path fill=\"#e58139\" stroke=\"black\" d=\"M1220,-179.5C1220,-179.5 1138,-179.5 1138,-179.5 1132,-179.5 1126,-173.5 1126,-167.5 1126,-167.5 1126,-123.5 1126,-123.5 1126,-117.5 1132,-111.5 1138,-111.5 1138,-111.5 1220,-111.5 1220,-111.5 1226,-111.5 1232,-117.5 1232,-123.5 1232,-123.5 1232,-167.5 1232,-167.5 1232,-173.5 1226,-179.5 1220,-179.5\"/>\n<text text-anchor=\"middle\" x=\"1179\" y=\"-164.3\" font-family=\"Helvetica,sans-Serif\" font-size=\"14.00\">gini = 0.0</text>\n<text text-anchor=\"middle\" x=\"1179\" y=\"-149.3\" font-family=\"Helvetica,sans-Serif\" font-size=\"14.00\">samples = 2</text>\n<text text-anchor=\"middle\" x=\"1179\" y=\"-134.3\" font-family=\"Helvetica,sans-Serif\" font-size=\"14.00\">value = [2, 0]</text>\n<text text-anchor=\"middle\" x=\"1179\" y=\"-119.3\" font-family=\"Helvetica,sans-Serif\" font-size=\"14.00\">class = Bill&#45;asli</text>\n</g>\n<!-- 26&#45;&gt;28 -->\n<g id=\"edge28\" class=\"edge\">\n<title>26&#45;&gt;28</title>\n<path fill=\"none\" stroke=\"black\" d=\"M1093.45,-222.91C1106.67,-211.1 1121.1,-198.22 1134.27,-186.45\"/>\n<polygon fill=\"black\" stroke=\"black\" points=\"1136.74,-188.94 1141.86,-179.67 1132.07,-183.72 1136.74,-188.94\"/>\n</g>\n<!-- 30 -->\n<g id=\"node31\" class=\"node\">\n<title>30</title>\n<path fill=\"#399de5\" stroke=\"black\" d=\"M952,-536.5C952,-536.5 858,-536.5 858,-536.5 852,-536.5 846,-530.5 846,-524.5 846,-524.5 846,-480.5 846,-480.5 846,-474.5 852,-468.5 858,-468.5 858,-468.5 952,-468.5 952,-468.5 958,-468.5 964,-474.5 964,-480.5 964,-480.5 964,-524.5 964,-524.5 964,-530.5 958,-536.5 952,-536.5\"/>\n<text text-anchor=\"middle\" x=\"905\" y=\"-521.3\" font-family=\"Helvetica,sans-Serif\" font-size=\"14.00\">gini = 0.0</text>\n<text text-anchor=\"middle\" x=\"905\" y=\"-506.3\" font-family=\"Helvetica,sans-Serif\" font-size=\"14.00\">samples = 16</text>\n<text text-anchor=\"middle\" x=\"905\" y=\"-491.3\" font-family=\"Helvetica,sans-Serif\" font-size=\"14.00\">value = [0, 16]</text>\n<text text-anchor=\"middle\" x=\"905\" y=\"-476.3\" font-family=\"Helvetica,sans-Serif\" font-size=\"14.00\">class = Bill&#45;palsu</text>\n</g>\n<!-- 29&#45;&gt;30 -->\n<g id=\"edge30\" class=\"edge\">\n<title>29&#45;&gt;30</title>\n<path fill=\"none\" stroke=\"black\" d=\"M949.41,-579.91C942.93,-568.76 935.9,-556.66 929.37,-545.44\"/>\n<polygon fill=\"black\" stroke=\"black\" points=\"932.33,-543.55 924.28,-536.67 926.28,-547.07 932.33,-543.55\"/>\n</g>\n<!-- 31 -->\n<g id=\"node32\" class=\"node\">\n<title>31</title>\n<path fill=\"#e58139\" stroke=\"black\" d=\"M1076,-536.5C1076,-536.5 994,-536.5 994,-536.5 988,-536.5 982,-530.5 982,-524.5 982,-524.5 982,-480.5 982,-480.5 982,-474.5 988,-468.5 994,-468.5 994,-468.5 1076,-468.5 1076,-468.5 1082,-468.5 1088,-474.5 1088,-480.5 1088,-480.5 1088,-524.5 1088,-524.5 1088,-530.5 1082,-536.5 1076,-536.5\"/>\n<text text-anchor=\"middle\" x=\"1035\" y=\"-521.3\" font-family=\"Helvetica,sans-Serif\" font-size=\"14.00\">gini = 0.0</text>\n<text text-anchor=\"middle\" x=\"1035\" y=\"-506.3\" font-family=\"Helvetica,sans-Serif\" font-size=\"14.00\">samples = 76</text>\n<text text-anchor=\"middle\" x=\"1035\" y=\"-491.3\" font-family=\"Helvetica,sans-Serif\" font-size=\"14.00\">value = [76, 0]</text>\n<text text-anchor=\"middle\" x=\"1035\" y=\"-476.3\" font-family=\"Helvetica,sans-Serif\" font-size=\"14.00\">class = Bill&#45;asli</text>\n</g>\n<!-- 29&#45;&gt;31 -->\n<g id=\"edge31\" class=\"edge\">\n<title>29&#45;&gt;31</title>\n<path fill=\"none\" stroke=\"black\" d=\"M994.51,-579.91C1000.36,-568.87 1006.7,-556.9 1012.6,-545.77\"/>\n<polygon fill=\"black\" stroke=\"black\" points=\"1015.83,-547.14 1017.42,-536.67 1009.65,-543.86 1015.83,-547.14\"/>\n</g>\n<!-- 33 -->\n<g id=\"node34\" class=\"node\">\n<title>33</title>\n<path fill=\"#69b5eb\" stroke=\"black\" d=\"M1322,-663C1322,-663 1210,-663 1210,-663 1204,-663 1198,-657 1198,-651 1198,-651 1198,-592 1198,-592 1198,-586 1204,-580 1210,-580 1210,-580 1322,-580 1322,-580 1328,-580 1334,-586 1334,-592 1334,-592 1334,-651 1334,-651 1334,-657 1328,-663 1322,-663\"/>\n<text text-anchor=\"middle\" x=\"1266\" y=\"-647.8\" font-family=\"Helvetica,sans-Serif\" font-size=\"14.00\">Skewness &lt;= 7.335</text>\n<text text-anchor=\"middle\" x=\"1266\" y=\"-632.8\" font-family=\"Helvetica,sans-Serif\" font-size=\"14.00\">gini = 0.313</text>\n<text text-anchor=\"middle\" x=\"1266\" y=\"-617.8\" font-family=\"Helvetica,sans-Serif\" font-size=\"14.00\">samples = 36</text>\n<text text-anchor=\"middle\" x=\"1266\" y=\"-602.8\" font-family=\"Helvetica,sans-Serif\" font-size=\"14.00\">value = [7, 29]</text>\n<text text-anchor=\"middle\" x=\"1266\" y=\"-587.8\" font-family=\"Helvetica,sans-Serif\" font-size=\"14.00\">class = Bill&#45;palsu</text>\n</g>\n<!-- 32&#45;&gt;33 -->\n<g id=\"edge33\" class=\"edge\">\n<title>32&#45;&gt;33</title>\n<path fill=\"none\" stroke=\"black\" d=\"M1266,-698.91C1266,-690.65 1266,-681.86 1266,-673.3\"/>\n<polygon fill=\"black\" stroke=\"black\" points=\"1269.5,-673.02 1266,-663.02 1262.5,-673.02 1269.5,-673.02\"/>\n</g>\n<!-- 36 -->\n<g id=\"node37\" class=\"node\">\n<title>36</title>\n<path fill=\"#e78a48\" stroke=\"black\" d=\"M1513.5,-663C1513.5,-663 1410.5,-663 1410.5,-663 1404.5,-663 1398.5,-657 1398.5,-651 1398.5,-651 1398.5,-592 1398.5,-592 1398.5,-586 1404.5,-580 1410.5,-580 1410.5,-580 1513.5,-580 1513.5,-580 1519.5,-580 1525.5,-586 1525.5,-592 1525.5,-592 1525.5,-651 1525.5,-651 1525.5,-657 1519.5,-663 1513.5,-663\"/>\n<text text-anchor=\"middle\" x=\"1462\" y=\"-647.8\" font-family=\"Helvetica,sans-Serif\" font-size=\"14.00\">Variance &lt;= 1.592</text>\n<text text-anchor=\"middle\" x=\"1462\" y=\"-632.8\" font-family=\"Helvetica,sans-Serif\" font-size=\"14.00\">gini = 0.129</text>\n<text text-anchor=\"middle\" x=\"1462\" y=\"-617.8\" font-family=\"Helvetica,sans-Serif\" font-size=\"14.00\">samples = 606</text>\n<text text-anchor=\"middle\" x=\"1462\" y=\"-602.8\" font-family=\"Helvetica,sans-Serif\" font-size=\"14.00\">value = [564, 42]</text>\n<text text-anchor=\"middle\" x=\"1462\" y=\"-587.8\" font-family=\"Helvetica,sans-Serif\" font-size=\"14.00\">class = Bill&#45;asli</text>\n</g>\n<!-- 32&#45;&gt;36 -->\n<g id=\"edge36\" class=\"edge\">\n<title>32&#45;&gt;36</title>\n<path fill=\"none\" stroke=\"black\" d=\"M1330.18,-701.19C1349.15,-689.86 1370.06,-677.38 1389.52,-665.77\"/>\n<polygon fill=\"black\" stroke=\"black\" points=\"1391.55,-668.63 1398.35,-660.5 1387.97,-662.62 1391.55,-668.63\"/>\n</g>\n<!-- 34 -->\n<g id=\"node35\" class=\"node\">\n<title>34</title>\n<path fill=\"#399de5\" stroke=\"black\" d=\"M1233,-536.5C1233,-536.5 1139,-536.5 1139,-536.5 1133,-536.5 1127,-530.5 1127,-524.5 1127,-524.5 1127,-480.5 1127,-480.5 1127,-474.5 1133,-468.5 1139,-468.5 1139,-468.5 1233,-468.5 1233,-468.5 1239,-468.5 1245,-474.5 1245,-480.5 1245,-480.5 1245,-524.5 1245,-524.5 1245,-530.5 1239,-536.5 1233,-536.5\"/>\n<text text-anchor=\"middle\" x=\"1186\" y=\"-521.3\" font-family=\"Helvetica,sans-Serif\" font-size=\"14.00\">gini = 0.0</text>\n<text text-anchor=\"middle\" x=\"1186\" y=\"-506.3\" font-family=\"Helvetica,sans-Serif\" font-size=\"14.00\">samples = 29</text>\n<text text-anchor=\"middle\" x=\"1186\" y=\"-491.3\" font-family=\"Helvetica,sans-Serif\" font-size=\"14.00\">value = [0, 29]</text>\n<text text-anchor=\"middle\" x=\"1186\" y=\"-476.3\" font-family=\"Helvetica,sans-Serif\" font-size=\"14.00\">class = Bill&#45;palsu</text>\n</g>\n<!-- 33&#45;&gt;34 -->\n<g id=\"edge34\" class=\"edge\">\n<title>33&#45;&gt;34</title>\n<path fill=\"none\" stroke=\"black\" d=\"M1238.24,-579.91C1230.55,-568.65 1222.18,-556.42 1214.45,-545.11\"/>\n<polygon fill=\"black\" stroke=\"black\" points=\"1217.21,-542.95 1208.68,-536.67 1211.43,-546.9 1217.21,-542.95\"/>\n</g>\n<!-- 35 -->\n<g id=\"node36\" class=\"node\">\n<title>35</title>\n<path fill=\"#e58139\" stroke=\"black\" d=\"M1357,-536.5C1357,-536.5 1275,-536.5 1275,-536.5 1269,-536.5 1263,-530.5 1263,-524.5 1263,-524.5 1263,-480.5 1263,-480.5 1263,-474.5 1269,-468.5 1275,-468.5 1275,-468.5 1357,-468.5 1357,-468.5 1363,-468.5 1369,-474.5 1369,-480.5 1369,-480.5 1369,-524.5 1369,-524.5 1369,-530.5 1363,-536.5 1357,-536.5\"/>\n<text text-anchor=\"middle\" x=\"1316\" y=\"-521.3\" font-family=\"Helvetica,sans-Serif\" font-size=\"14.00\">gini = 0.0</text>\n<text text-anchor=\"middle\" x=\"1316\" y=\"-506.3\" font-family=\"Helvetica,sans-Serif\" font-size=\"14.00\">samples = 7</text>\n<text text-anchor=\"middle\" x=\"1316\" y=\"-491.3\" font-family=\"Helvetica,sans-Serif\" font-size=\"14.00\">value = [7, 0]</text>\n<text text-anchor=\"middle\" x=\"1316\" y=\"-476.3\" font-family=\"Helvetica,sans-Serif\" font-size=\"14.00\">class = Bill&#45;asli</text>\n</g>\n<!-- 33&#45;&gt;35 -->\n<g id=\"edge35\" class=\"edge\">\n<title>33&#45;&gt;35</title>\n<path fill=\"none\" stroke=\"black\" d=\"M1283.35,-579.91C1288.02,-568.98 1293.08,-557.14 1297.79,-546.11\"/>\n<polygon fill=\"black\" stroke=\"black\" points=\"1301.11,-547.24 1301.83,-536.67 1294.68,-544.49 1301.11,-547.24\"/>\n</g>\n<!-- 37 -->\n<g id=\"node38\" class=\"node\">\n<title>37</title>\n<path fill=\"#eda978\" stroke=\"black\" d=\"M1514,-544C1514,-544 1410,-544 1410,-544 1404,-544 1398,-538 1398,-532 1398,-532 1398,-473 1398,-473 1398,-467 1404,-461 1410,-461 1410,-461 1514,-461 1514,-461 1520,-461 1526,-467 1526,-473 1526,-473 1526,-532 1526,-532 1526,-538 1520,-544 1514,-544\"/>\n<text text-anchor=\"middle\" x=\"1462\" y=\"-528.8\" font-family=\"Helvetica,sans-Serif\" font-size=\"14.00\">Curtosis &lt;= &#45;2.272</text>\n<text text-anchor=\"middle\" x=\"1462\" y=\"-513.8\" font-family=\"Helvetica,sans-Serif\" font-size=\"14.00\">gini = 0.367</text>\n<text text-anchor=\"middle\" x=\"1462\" y=\"-498.8\" font-family=\"Helvetica,sans-Serif\" font-size=\"14.00\">samples = 161</text>\n<text text-anchor=\"middle\" x=\"1462\" y=\"-483.8\" font-family=\"Helvetica,sans-Serif\" font-size=\"14.00\">value = [122, 39]</text>\n<text text-anchor=\"middle\" x=\"1462\" y=\"-468.8\" font-family=\"Helvetica,sans-Serif\" font-size=\"14.00\">class = Bill&#45;asli</text>\n</g>\n<!-- 36&#45;&gt;37 -->\n<g id=\"edge37\" class=\"edge\">\n<title>36&#45;&gt;37</title>\n<path fill=\"none\" stroke=\"black\" d=\"M1462,-579.91C1462,-571.65 1462,-562.86 1462,-554.3\"/>\n<polygon fill=\"black\" stroke=\"black\" points=\"1465.5,-554.02 1462,-544.02 1458.5,-554.02 1465.5,-554.02\"/>\n</g>\n<!-- 48 -->\n<g id=\"node49\" class=\"node\">\n<title>48</title>\n<path fill=\"#e5823a\" stroke=\"black\" d=\"M1777.5,-544C1777.5,-544 1674.5,-544 1674.5,-544 1668.5,-544 1662.5,-538 1662.5,-532 1662.5,-532 1662.5,-473 1662.5,-473 1662.5,-467 1668.5,-461 1674.5,-461 1674.5,-461 1777.5,-461 1777.5,-461 1783.5,-461 1789.5,-467 1789.5,-473 1789.5,-473 1789.5,-532 1789.5,-532 1789.5,-538 1783.5,-544 1777.5,-544\"/>\n<text text-anchor=\"middle\" x=\"1726\" y=\"-528.8\" font-family=\"Helvetica,sans-Serif\" font-size=\"14.00\">Variance &lt;= 2.037</text>\n<text text-anchor=\"middle\" x=\"1726\" y=\"-513.8\" font-family=\"Helvetica,sans-Serif\" font-size=\"14.00\">gini = 0.013</text>\n<text text-anchor=\"middle\" x=\"1726\" y=\"-498.8\" font-family=\"Helvetica,sans-Serif\" font-size=\"14.00\">samples = 445</text>\n<text text-anchor=\"middle\" x=\"1726\" y=\"-483.8\" font-family=\"Helvetica,sans-Serif\" font-size=\"14.00\">value = [442, 3]</text>\n<text text-anchor=\"middle\" x=\"1726\" y=\"-468.8\" font-family=\"Helvetica,sans-Serif\" font-size=\"14.00\">class = Bill&#45;asli</text>\n</g>\n<!-- 36&#45;&gt;48 -->\n<g id=\"edge48\" class=\"edge\">\n<title>36&#45;&gt;48</title>\n<path fill=\"none\" stroke=\"black\" d=\"M1525.57,-592.33C1563.93,-575.33 1612.95,-553.6 1652.9,-535.9\"/>\n<polygon fill=\"black\" stroke=\"black\" points=\"1654.34,-539.09 1662.07,-531.83 1651.51,-532.69 1654.34,-539.09\"/>\n</g>\n<!-- 38 -->\n<g id=\"node39\" class=\"node\">\n<title>38</title>\n<path fill=\"#54aae9\" stroke=\"black\" d=\"M1372,-425C1372,-425 1260,-425 1260,-425 1254,-425 1248,-419 1248,-413 1248,-413 1248,-354 1248,-354 1248,-348 1254,-342 1260,-342 1260,-342 1372,-342 1372,-342 1378,-342 1384,-348 1384,-354 1384,-354 1384,-413 1384,-413 1384,-419 1378,-425 1372,-425\"/>\n<text text-anchor=\"middle\" x=\"1316\" y=\"-409.8\" font-family=\"Helvetica,sans-Serif\" font-size=\"14.00\">Skewness &lt;= 5.667</text>\n<text text-anchor=\"middle\" x=\"1316\" y=\"-394.8\" font-family=\"Helvetica,sans-Serif\" font-size=\"14.00\">gini = 0.211</text>\n<text text-anchor=\"middle\" x=\"1316\" y=\"-379.8\" font-family=\"Helvetica,sans-Serif\" font-size=\"14.00\">samples = 25</text>\n<text text-anchor=\"middle\" x=\"1316\" y=\"-364.8\" font-family=\"Helvetica,sans-Serif\" font-size=\"14.00\">value = [3, 22]</text>\n<text text-anchor=\"middle\" x=\"1316\" y=\"-349.8\" font-family=\"Helvetica,sans-Serif\" font-size=\"14.00\">class = Bill&#45;palsu</text>\n</g>\n<!-- 37&#45;&gt;38 -->\n<g id=\"edge38\" class=\"edge\">\n<title>37&#45;&gt;38</title>\n<path fill=\"none\" stroke=\"black\" d=\"M1411.35,-460.91C1399.46,-451.38 1386.69,-441.15 1374.49,-431.37\"/>\n<polygon fill=\"black\" stroke=\"black\" points=\"1376.56,-428.54 1366.56,-425.02 1372.18,-434.01 1376.56,-428.54\"/>\n</g>\n<!-- 41 -->\n<g id=\"node42\" class=\"node\">\n<title>41</title>\n<path fill=\"#e99355\" stroke=\"black\" d=\"M1511.5,-425C1511.5,-425 1414.5,-425 1414.5,-425 1408.5,-425 1402.5,-419 1402.5,-413 1402.5,-413 1402.5,-354 1402.5,-354 1402.5,-348 1408.5,-342 1414.5,-342 1414.5,-342 1511.5,-342 1511.5,-342 1517.5,-342 1523.5,-348 1523.5,-354 1523.5,-354 1523.5,-413 1523.5,-413 1523.5,-419 1517.5,-425 1511.5,-425\"/>\n<text text-anchor=\"middle\" x=\"1463\" y=\"-409.8\" font-family=\"Helvetica,sans-Serif\" font-size=\"14.00\">Entropy &lt;= 0.082</text>\n<text text-anchor=\"middle\" x=\"1463\" y=\"-394.8\" font-family=\"Helvetica,sans-Serif\" font-size=\"14.00\">gini = 0.219</text>\n<text text-anchor=\"middle\" x=\"1463\" y=\"-379.8\" font-family=\"Helvetica,sans-Serif\" font-size=\"14.00\">samples = 136</text>\n<text text-anchor=\"middle\" x=\"1463\" y=\"-364.8\" font-family=\"Helvetica,sans-Serif\" font-size=\"14.00\">value = [119, 17]</text>\n<text text-anchor=\"middle\" x=\"1463\" y=\"-349.8\" font-family=\"Helvetica,sans-Serif\" font-size=\"14.00\">class = Bill&#45;asli</text>\n</g>\n<!-- 37&#45;&gt;41 -->\n<g id=\"edge41\" class=\"edge\">\n<title>37&#45;&gt;41</title>\n<path fill=\"none\" stroke=\"black\" d=\"M1462.35,-460.91C1462.42,-452.65 1462.49,-443.86 1462.57,-435.3\"/>\n<polygon fill=\"black\" stroke=\"black\" points=\"1466.07,-435.05 1462.65,-425.02 1459.07,-434.99 1466.07,-435.05\"/>\n</g>\n<!-- 39 -->\n<g id=\"node40\" class=\"node\">\n<title>39</title>\n<path fill=\"#399de5\" stroke=\"black\" d=\"M1234,-298.5C1234,-298.5 1140,-298.5 1140,-298.5 1134,-298.5 1128,-292.5 1128,-286.5 1128,-286.5 1128,-242.5 1128,-242.5 1128,-236.5 1134,-230.5 1140,-230.5 1140,-230.5 1234,-230.5 1234,-230.5 1240,-230.5 1246,-236.5 1246,-242.5 1246,-242.5 1246,-286.5 1246,-286.5 1246,-292.5 1240,-298.5 1234,-298.5\"/>\n<text text-anchor=\"middle\" x=\"1187\" y=\"-283.3\" font-family=\"Helvetica,sans-Serif\" font-size=\"14.00\">gini = 0.0</text>\n<text text-anchor=\"middle\" x=\"1187\" y=\"-268.3\" font-family=\"Helvetica,sans-Serif\" font-size=\"14.00\">samples = 22</text>\n<text text-anchor=\"middle\" x=\"1187\" y=\"-253.3\" font-family=\"Helvetica,sans-Serif\" font-size=\"14.00\">value = [0, 22]</text>\n<text text-anchor=\"middle\" x=\"1187\" y=\"-238.3\" font-family=\"Helvetica,sans-Serif\" font-size=\"14.00\">class = Bill&#45;palsu</text>\n</g>\n<!-- 38&#45;&gt;39 -->\n<g id=\"edge39\" class=\"edge\">\n<title>38&#45;&gt;39</title>\n<path fill=\"none\" stroke=\"black\" d=\"M1271.24,-341.91C1258.23,-330.1 1244.02,-317.22 1231.05,-305.45\"/>\n<polygon fill=\"black\" stroke=\"black\" points=\"1233.33,-302.79 1223.57,-298.67 1228.62,-307.98 1233.33,-302.79\"/>\n</g>\n<!-- 40 -->\n<g id=\"node41\" class=\"node\">\n<title>40</title>\n<path fill=\"#e58139\" stroke=\"black\" d=\"M1358,-298.5C1358,-298.5 1276,-298.5 1276,-298.5 1270,-298.5 1264,-292.5 1264,-286.5 1264,-286.5 1264,-242.5 1264,-242.5 1264,-236.5 1270,-230.5 1276,-230.5 1276,-230.5 1358,-230.5 1358,-230.5 1364,-230.5 1370,-236.5 1370,-242.5 1370,-242.5 1370,-286.5 1370,-286.5 1370,-292.5 1364,-298.5 1358,-298.5\"/>\n<text text-anchor=\"middle\" x=\"1317\" y=\"-283.3\" font-family=\"Helvetica,sans-Serif\" font-size=\"14.00\">gini = 0.0</text>\n<text text-anchor=\"middle\" x=\"1317\" y=\"-268.3\" font-family=\"Helvetica,sans-Serif\" font-size=\"14.00\">samples = 3</text>\n<text text-anchor=\"middle\" x=\"1317\" y=\"-253.3\" font-family=\"Helvetica,sans-Serif\" font-size=\"14.00\">value = [3, 0]</text>\n<text text-anchor=\"middle\" x=\"1317\" y=\"-238.3\" font-family=\"Helvetica,sans-Serif\" font-size=\"14.00\">class = Bill&#45;asli</text>\n</g>\n<!-- 38&#45;&gt;40 -->\n<g id=\"edge40\" class=\"edge\">\n<title>38&#45;&gt;40</title>\n<path fill=\"none\" stroke=\"black\" d=\"M1316.35,-341.91C1316.44,-331.2 1316.54,-319.62 1316.63,-308.78\"/>\n<polygon fill=\"black\" stroke=\"black\" points=\"1320.13,-308.7 1316.72,-298.67 1313.13,-308.64 1320.13,-308.7\"/>\n</g>\n<!-- 42 -->\n<g id=\"node43\" class=\"node\">\n<title>42</title>\n<path fill=\"#e58139\" stroke=\"black\" d=\"M1486,-298.5C1486,-298.5 1400,-298.5 1400,-298.5 1394,-298.5 1388,-292.5 1388,-286.5 1388,-286.5 1388,-242.5 1388,-242.5 1388,-236.5 1394,-230.5 1400,-230.5 1400,-230.5 1486,-230.5 1486,-230.5 1492,-230.5 1498,-236.5 1498,-242.5 1498,-242.5 1498,-286.5 1498,-286.5 1498,-292.5 1492,-298.5 1486,-298.5\"/>\n<text text-anchor=\"middle\" x=\"1443\" y=\"-283.3\" font-family=\"Helvetica,sans-Serif\" font-size=\"14.00\">gini = 0.0</text>\n<text text-anchor=\"middle\" x=\"1443\" y=\"-268.3\" font-family=\"Helvetica,sans-Serif\" font-size=\"14.00\">samples = 101</text>\n<text text-anchor=\"middle\" x=\"1443\" y=\"-253.3\" font-family=\"Helvetica,sans-Serif\" font-size=\"14.00\">value = [101, 0]</text>\n<text text-anchor=\"middle\" x=\"1443\" y=\"-238.3\" font-family=\"Helvetica,sans-Serif\" font-size=\"14.00\">class = Bill&#45;asli</text>\n</g>\n<!-- 41&#45;&gt;42 -->\n<g id=\"edge42\" class=\"edge\">\n<title>41&#45;&gt;42</title>\n<path fill=\"none\" stroke=\"black\" d=\"M1456.06,-341.91C1454.23,-331.2 1452.25,-319.62 1450.4,-308.78\"/>\n<polygon fill=\"black\" stroke=\"black\" points=\"1453.8,-307.93 1448.67,-298.67 1446.9,-309.11 1453.8,-307.93\"/>\n</g>\n<!-- 43 -->\n<g id=\"node44\" class=\"node\">\n<title>43</title>\n<path fill=\"#fef8f4\" stroke=\"black\" d=\"M1628,-306C1628,-306 1528,-306 1528,-306 1522,-306 1516,-300 1516,-294 1516,-294 1516,-235 1516,-235 1516,-229 1522,-223 1528,-223 1528,-223 1628,-223 1628,-223 1634,-223 1640,-229 1640,-235 1640,-235 1640,-294 1640,-294 1640,-300 1634,-306 1628,-306\"/>\n<text text-anchor=\"middle\" x=\"1578\" y=\"-290.8\" font-family=\"Helvetica,sans-Serif\" font-size=\"14.00\">Curtosis &lt;= 1.853</text>\n<text text-anchor=\"middle\" x=\"1578\" y=\"-275.8\" font-family=\"Helvetica,sans-Serif\" font-size=\"14.00\">gini = 0.5</text>\n<text text-anchor=\"middle\" x=\"1578\" y=\"-260.8\" font-family=\"Helvetica,sans-Serif\" font-size=\"14.00\">samples = 35</text>\n<text text-anchor=\"middle\" x=\"1578\" y=\"-245.8\" font-family=\"Helvetica,sans-Serif\" font-size=\"14.00\">value = [18, 17]</text>\n<text text-anchor=\"middle\" x=\"1578\" y=\"-230.8\" font-family=\"Helvetica,sans-Serif\" font-size=\"14.00\">class = Bill&#45;asli</text>\n</g>\n<!-- 41&#45;&gt;43 -->\n<g id=\"edge43\" class=\"edge\">\n<title>41&#45;&gt;43</title>\n<path fill=\"none\" stroke=\"black\" d=\"M1502.9,-341.91C1512,-332.65 1521.75,-322.73 1531.11,-313.21\"/>\n<polygon fill=\"black\" stroke=\"black\" points=\"1533.66,-315.61 1538.17,-306.02 1528.67,-310.7 1533.66,-315.61\"/>\n</g>\n<!-- 44 -->\n<g id=\"node45\" class=\"node\">\n<title>44</title>\n<path fill=\"#50a9e8\" stroke=\"black\" d=\"M1499,-187C1499,-187 1387,-187 1387,-187 1381,-187 1375,-181 1375,-175 1375,-175 1375,-116 1375,-116 1375,-110 1381,-104 1387,-104 1387,-104 1499,-104 1499,-104 1505,-104 1511,-110 1511,-116 1511,-116 1511,-175 1511,-175 1511,-181 1505,-187 1499,-187\"/>\n<text text-anchor=\"middle\" x=\"1443\" y=\"-171.8\" font-family=\"Helvetica,sans-Serif\" font-size=\"14.00\">Skewness &lt;= 3.559</text>\n<text text-anchor=\"middle\" x=\"1443\" y=\"-156.8\" font-family=\"Helvetica,sans-Serif\" font-size=\"14.00\">gini = 0.188</text>\n<text text-anchor=\"middle\" x=\"1443\" y=\"-141.8\" font-family=\"Helvetica,sans-Serif\" font-size=\"14.00\">samples = 19</text>\n<text text-anchor=\"middle\" x=\"1443\" y=\"-126.8\" font-family=\"Helvetica,sans-Serif\" font-size=\"14.00\">value = [2, 17]</text>\n<text text-anchor=\"middle\" x=\"1443\" y=\"-111.8\" font-family=\"Helvetica,sans-Serif\" font-size=\"14.00\">class = Bill&#45;palsu</text>\n</g>\n<!-- 43&#45;&gt;44 -->\n<g id=\"edge44\" class=\"edge\">\n<title>43&#45;&gt;44</title>\n<path fill=\"none\" stroke=\"black\" d=\"M1531.16,-222.91C1520.27,-213.47 1508.59,-203.34 1497.4,-193.65\"/>\n<polygon fill=\"black\" stroke=\"black\" points=\"1499.6,-190.93 1489.75,-187.02 1495.02,-196.22 1499.6,-190.93\"/>\n</g>\n<!-- 47 -->\n<g id=\"node48\" class=\"node\">\n<title>47</title>\n<path fill=\"#e58139\" stroke=\"black\" d=\"M1623,-179.5C1623,-179.5 1541,-179.5 1541,-179.5 1535,-179.5 1529,-173.5 1529,-167.5 1529,-167.5 1529,-123.5 1529,-123.5 1529,-117.5 1535,-111.5 1541,-111.5 1541,-111.5 1623,-111.5 1623,-111.5 1629,-111.5 1635,-117.5 1635,-123.5 1635,-123.5 1635,-167.5 1635,-167.5 1635,-173.5 1629,-179.5 1623,-179.5\"/>\n<text text-anchor=\"middle\" x=\"1582\" y=\"-164.3\" font-family=\"Helvetica,sans-Serif\" font-size=\"14.00\">gini = 0.0</text>\n<text text-anchor=\"middle\" x=\"1582\" y=\"-149.3\" font-family=\"Helvetica,sans-Serif\" font-size=\"14.00\">samples = 16</text>\n<text text-anchor=\"middle\" x=\"1582\" y=\"-134.3\" font-family=\"Helvetica,sans-Serif\" font-size=\"14.00\">value = [16, 0]</text>\n<text text-anchor=\"middle\" x=\"1582\" y=\"-119.3\" font-family=\"Helvetica,sans-Serif\" font-size=\"14.00\">class = Bill&#45;asli</text>\n</g>\n<!-- 43&#45;&gt;47 -->\n<g id=\"edge47\" class=\"edge\">\n<title>43&#45;&gt;47</title>\n<path fill=\"none\" stroke=\"black\" d=\"M1579.39,-222.91C1579.75,-212.2 1580.15,-200.62 1580.52,-189.78\"/>\n<polygon fill=\"black\" stroke=\"black\" points=\"1584.02,-189.78 1580.87,-179.67 1577.03,-189.54 1584.02,-189.78\"/>\n</g>\n<!-- 45 -->\n<g id=\"node46\" class=\"node\">\n<title>45</title>\n<path fill=\"#399de5\" stroke=\"black\" d=\"M1425,-68C1425,-68 1331,-68 1331,-68 1325,-68 1319,-62 1319,-56 1319,-56 1319,-12 1319,-12 1319,-6 1325,0 1331,0 1331,0 1425,0 1425,0 1431,0 1437,-6 1437,-12 1437,-12 1437,-56 1437,-56 1437,-62 1431,-68 1425,-68\"/>\n<text text-anchor=\"middle\" x=\"1378\" y=\"-52.8\" font-family=\"Helvetica,sans-Serif\" font-size=\"14.00\">gini = 0.0</text>\n<text text-anchor=\"middle\" x=\"1378\" y=\"-37.8\" font-family=\"Helvetica,sans-Serif\" font-size=\"14.00\">samples = 17</text>\n<text text-anchor=\"middle\" x=\"1378\" y=\"-22.8\" font-family=\"Helvetica,sans-Serif\" font-size=\"14.00\">value = [0, 17]</text>\n<text text-anchor=\"middle\" x=\"1378\" y=\"-7.8\" font-family=\"Helvetica,sans-Serif\" font-size=\"14.00\">class = Bill&#45;palsu</text>\n</g>\n<!-- 44&#45;&gt;45 -->\n<g id=\"edge45\" class=\"edge\">\n<title>44&#45;&gt;45</title>\n<path fill=\"none\" stroke=\"black\" d=\"M1418.8,-103.73C1413.6,-94.97 1408.1,-85.7 1402.88,-76.91\"/>\n<polygon fill=\"black\" stroke=\"black\" points=\"1405.88,-75.11 1397.77,-68.3 1399.86,-78.69 1405.88,-75.11\"/>\n</g>\n<!-- 46 -->\n<g id=\"node47\" class=\"node\">\n<title>46</title>\n<path fill=\"#e58139\" stroke=\"black\" d=\"M1549,-68C1549,-68 1467,-68 1467,-68 1461,-68 1455,-62 1455,-56 1455,-56 1455,-12 1455,-12 1455,-6 1461,0 1467,0 1467,0 1549,0 1549,0 1555,0 1561,-6 1561,-12 1561,-12 1561,-56 1561,-56 1561,-62 1555,-68 1549,-68\"/>\n<text text-anchor=\"middle\" x=\"1508\" y=\"-52.8\" font-family=\"Helvetica,sans-Serif\" font-size=\"14.00\">gini = 0.0</text>\n<text text-anchor=\"middle\" x=\"1508\" y=\"-37.8\" font-family=\"Helvetica,sans-Serif\" font-size=\"14.00\">samples = 2</text>\n<text text-anchor=\"middle\" x=\"1508\" y=\"-22.8\" font-family=\"Helvetica,sans-Serif\" font-size=\"14.00\">value = [2, 0]</text>\n<text text-anchor=\"middle\" x=\"1508\" y=\"-7.8\" font-family=\"Helvetica,sans-Serif\" font-size=\"14.00\">class = Bill&#45;asli</text>\n</g>\n<!-- 44&#45;&gt;46 -->\n<g id=\"edge46\" class=\"edge\">\n<title>44&#45;&gt;46</title>\n<path fill=\"none\" stroke=\"black\" d=\"M1467.2,-103.73C1472.4,-94.97 1477.9,-85.7 1483.12,-76.91\"/>\n<polygon fill=\"black\" stroke=\"black\" points=\"1486.14,-78.69 1488.23,-68.3 1480.12,-75.11 1486.14,-78.69\"/>\n</g>\n<!-- 49 -->\n<g id=\"node50\" class=\"node\">\n<title>49</title>\n<path fill=\"#e78845\" stroke=\"black\" d=\"M1778,-425C1778,-425 1674,-425 1674,-425 1668,-425 1662,-419 1662,-413 1662,-413 1662,-354 1662,-354 1662,-348 1668,-342 1674,-342 1674,-342 1778,-342 1778,-342 1784,-342 1790,-348 1790,-354 1790,-354 1790,-413 1790,-413 1790,-419 1784,-425 1778,-425\"/>\n<text text-anchor=\"middle\" x=\"1726\" y=\"-409.8\" font-family=\"Helvetica,sans-Serif\" font-size=\"14.00\">Curtosis &lt;= &#45;2.648</text>\n<text text-anchor=\"middle\" x=\"1726\" y=\"-394.8\" font-family=\"Helvetica,sans-Serif\" font-size=\"14.00\">gini = 0.105</text>\n<text text-anchor=\"middle\" x=\"1726\" y=\"-379.8\" font-family=\"Helvetica,sans-Serif\" font-size=\"14.00\">samples = 54</text>\n<text text-anchor=\"middle\" x=\"1726\" y=\"-364.8\" font-family=\"Helvetica,sans-Serif\" font-size=\"14.00\">value = [51, 3]</text>\n<text text-anchor=\"middle\" x=\"1726\" y=\"-349.8\" font-family=\"Helvetica,sans-Serif\" font-size=\"14.00\">class = Bill&#45;asli</text>\n</g>\n<!-- 48&#45;&gt;49 -->\n<g id=\"edge49\" class=\"edge\">\n<title>48&#45;&gt;49</title>\n<path fill=\"none\" stroke=\"black\" d=\"M1726,-460.91C1726,-452.65 1726,-443.86 1726,-435.3\"/>\n<polygon fill=\"black\" stroke=\"black\" points=\"1729.5,-435.02 1726,-425.02 1722.5,-435.02 1729.5,-435.02\"/>\n</g>\n<!-- 54 -->\n<g id=\"node55\" class=\"node\">\n<title>54</title>\n<path fill=\"#e58139\" stroke=\"black\" d=\"M1906,-417.5C1906,-417.5 1820,-417.5 1820,-417.5 1814,-417.5 1808,-411.5 1808,-405.5 1808,-405.5 1808,-361.5 1808,-361.5 1808,-355.5 1814,-349.5 1820,-349.5 1820,-349.5 1906,-349.5 1906,-349.5 1912,-349.5 1918,-355.5 1918,-361.5 1918,-361.5 1918,-405.5 1918,-405.5 1918,-411.5 1912,-417.5 1906,-417.5\"/>\n<text text-anchor=\"middle\" x=\"1863\" y=\"-402.3\" font-family=\"Helvetica,sans-Serif\" font-size=\"14.00\">gini = 0.0</text>\n<text text-anchor=\"middle\" x=\"1863\" y=\"-387.3\" font-family=\"Helvetica,sans-Serif\" font-size=\"14.00\">samples = 391</text>\n<text text-anchor=\"middle\" x=\"1863\" y=\"-372.3\" font-family=\"Helvetica,sans-Serif\" font-size=\"14.00\">value = [391, 0]</text>\n<text text-anchor=\"middle\" x=\"1863\" y=\"-357.3\" font-family=\"Helvetica,sans-Serif\" font-size=\"14.00\">class = Bill&#45;asli</text>\n</g>\n<!-- 48&#45;&gt;54 -->\n<g id=\"edge54\" class=\"edge\">\n<title>48&#45;&gt;54</title>\n<path fill=\"none\" stroke=\"black\" d=\"M1773.53,-460.91C1787.36,-449.1 1802.44,-436.22 1816.22,-424.45\"/>\n<polygon fill=\"black\" stroke=\"black\" points=\"1818.83,-426.82 1824.16,-417.67 1814.29,-421.5 1818.83,-426.82\"/>\n</g>\n<!-- 50 -->\n<g id=\"node51\" class=\"node\">\n<title>50</title>\n<path fill=\"#7bbeee\" stroke=\"black\" d=\"M1782,-306C1782,-306 1670,-306 1670,-306 1664,-306 1658,-300 1658,-294 1658,-294 1658,-235 1658,-235 1658,-229 1664,-223 1670,-223 1670,-223 1782,-223 1782,-223 1788,-223 1794,-229 1794,-235 1794,-235 1794,-294 1794,-294 1794,-300 1788,-306 1782,-306\"/>\n<text text-anchor=\"middle\" x=\"1726\" y=\"-290.8\" font-family=\"Helvetica,sans-Serif\" font-size=\"14.00\">Skewness &lt;= 6.473</text>\n<text text-anchor=\"middle\" x=\"1726\" y=\"-275.8\" font-family=\"Helvetica,sans-Serif\" font-size=\"14.00\">gini = 0.375</text>\n<text text-anchor=\"middle\" x=\"1726\" y=\"-260.8\" font-family=\"Helvetica,sans-Serif\" font-size=\"14.00\">samples = 4</text>\n<text text-anchor=\"middle\" x=\"1726\" y=\"-245.8\" font-family=\"Helvetica,sans-Serif\" font-size=\"14.00\">value = [1, 3]</text>\n<text text-anchor=\"middle\" x=\"1726\" y=\"-230.8\" font-family=\"Helvetica,sans-Serif\" font-size=\"14.00\">class = Bill&#45;palsu</text>\n</g>\n<!-- 49&#45;&gt;50 -->\n<g id=\"edge50\" class=\"edge\">\n<title>49&#45;&gt;50</title>\n<path fill=\"none\" stroke=\"black\" d=\"M1726,-341.91C1726,-333.65 1726,-324.86 1726,-316.3\"/>\n<polygon fill=\"black\" stroke=\"black\" points=\"1729.5,-316.02 1726,-306.02 1722.5,-316.02 1729.5,-316.02\"/>\n</g>\n<!-- 53 -->\n<g id=\"node54\" class=\"node\">\n<title>53</title>\n<path fill=\"#e58139\" stroke=\"black\" d=\"M1906,-298.5C1906,-298.5 1824,-298.5 1824,-298.5 1818,-298.5 1812,-292.5 1812,-286.5 1812,-286.5 1812,-242.5 1812,-242.5 1812,-236.5 1818,-230.5 1824,-230.5 1824,-230.5 1906,-230.5 1906,-230.5 1912,-230.5 1918,-236.5 1918,-242.5 1918,-242.5 1918,-286.5 1918,-286.5 1918,-292.5 1912,-298.5 1906,-298.5\"/>\n<text text-anchor=\"middle\" x=\"1865\" y=\"-283.3\" font-family=\"Helvetica,sans-Serif\" font-size=\"14.00\">gini = 0.0</text>\n<text text-anchor=\"middle\" x=\"1865\" y=\"-268.3\" font-family=\"Helvetica,sans-Serif\" font-size=\"14.00\">samples = 50</text>\n<text text-anchor=\"middle\" x=\"1865\" y=\"-253.3\" font-family=\"Helvetica,sans-Serif\" font-size=\"14.00\">value = [50, 0]</text>\n<text text-anchor=\"middle\" x=\"1865\" y=\"-238.3\" font-family=\"Helvetica,sans-Serif\" font-size=\"14.00\">class = Bill&#45;asli</text>\n</g>\n<!-- 49&#45;&gt;53 -->\n<g id=\"edge53\" class=\"edge\">\n<title>49&#45;&gt;53</title>\n<path fill=\"none\" stroke=\"black\" d=\"M1774.23,-341.91C1788.38,-329.99 1803.85,-316.98 1817.93,-305.12\"/>\n<polygon fill=\"black\" stroke=\"black\" points=\"1820.2,-307.78 1825.6,-298.67 1815.69,-302.43 1820.2,-307.78\"/>\n</g>\n<!-- 51 -->\n<g id=\"node52\" class=\"node\">\n<title>51</title>\n<path fill=\"#399de5\" stroke=\"black\" d=\"M1768,-179.5C1768,-179.5 1674,-179.5 1674,-179.5 1668,-179.5 1662,-173.5 1662,-167.5 1662,-167.5 1662,-123.5 1662,-123.5 1662,-117.5 1668,-111.5 1674,-111.5 1674,-111.5 1768,-111.5 1768,-111.5 1774,-111.5 1780,-117.5 1780,-123.5 1780,-123.5 1780,-167.5 1780,-167.5 1780,-173.5 1774,-179.5 1768,-179.5\"/>\n<text text-anchor=\"middle\" x=\"1721\" y=\"-164.3\" font-family=\"Helvetica,sans-Serif\" font-size=\"14.00\">gini = 0.0</text>\n<text text-anchor=\"middle\" x=\"1721\" y=\"-149.3\" font-family=\"Helvetica,sans-Serif\" font-size=\"14.00\">samples = 3</text>\n<text text-anchor=\"middle\" x=\"1721\" y=\"-134.3\" font-family=\"Helvetica,sans-Serif\" font-size=\"14.00\">value = [0, 3]</text>\n<text text-anchor=\"middle\" x=\"1721\" y=\"-119.3\" font-family=\"Helvetica,sans-Serif\" font-size=\"14.00\">class = Bill&#45;palsu</text>\n</g>\n<!-- 50&#45;&gt;51 -->\n<g id=\"edge51\" class=\"edge\">\n<title>50&#45;&gt;51</title>\n<path fill=\"none\" stroke=\"black\" d=\"M1724.27,-222.91C1723.81,-212.2 1723.31,-200.62 1722.85,-189.78\"/>\n<polygon fill=\"black\" stroke=\"black\" points=\"1726.34,-189.51 1722.42,-179.67 1719.35,-189.81 1726.34,-189.51\"/>\n</g>\n<!-- 52 -->\n<g id=\"node53\" class=\"node\">\n<title>52</title>\n<path fill=\"#e58139\" stroke=\"black\" d=\"M1892,-179.5C1892,-179.5 1810,-179.5 1810,-179.5 1804,-179.5 1798,-173.5 1798,-167.5 1798,-167.5 1798,-123.5 1798,-123.5 1798,-117.5 1804,-111.5 1810,-111.5 1810,-111.5 1892,-111.5 1892,-111.5 1898,-111.5 1904,-117.5 1904,-123.5 1904,-123.5 1904,-167.5 1904,-167.5 1904,-173.5 1898,-179.5 1892,-179.5\"/>\n<text text-anchor=\"middle\" x=\"1851\" y=\"-164.3\" font-family=\"Helvetica,sans-Serif\" font-size=\"14.00\">gini = 0.0</text>\n<text text-anchor=\"middle\" x=\"1851\" y=\"-149.3\" font-family=\"Helvetica,sans-Serif\" font-size=\"14.00\">samples = 1</text>\n<text text-anchor=\"middle\" x=\"1851\" y=\"-134.3\" font-family=\"Helvetica,sans-Serif\" font-size=\"14.00\">value = [1, 0]</text>\n<text text-anchor=\"middle\" x=\"1851\" y=\"-119.3\" font-family=\"Helvetica,sans-Serif\" font-size=\"14.00\">class = Bill&#45;asli</text>\n</g>\n<!-- 50&#45;&gt;52 -->\n<g id=\"edge52\" class=\"edge\">\n<title>50&#45;&gt;52</title>\n<path fill=\"none\" stroke=\"black\" d=\"M1769.37,-222.91C1781.86,-211.21 1795.49,-198.46 1807.97,-186.78\"/>\n<polygon fill=\"black\" stroke=\"black\" points=\"1810.66,-189.06 1815.57,-179.67 1805.87,-183.95 1810.66,-189.06\"/>\n</g>\n</g>\n</svg>\n",
            "text/plain": [
              "<graphviz.sources.Source at 0x797a02d42350>"
            ]
          },
          "metadata": {},
          "execution_count": 10
        }
      ]
    }
  ]
}